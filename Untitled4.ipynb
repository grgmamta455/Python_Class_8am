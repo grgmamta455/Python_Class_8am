{
 "cells": [
  {
   "cell_type": "code",
   "execution_count": 1,
   "id": "489f2b90",
   "metadata": {},
   "outputs": [],
   "source": [
    "# function are of two types \n",
    "# one is predefined function\n",
    "# next one is user defined function"
   ]
  },
  {
   "cell_type": "code",
   "execution_count": 2,
   "id": "5d0f3410",
   "metadata": {},
   "outputs": [],
   "source": [
    "# we will see predefined function\n",
    "# they are print(), int(), float(), str(), list(), tuple(), dict()"
   ]
  },
  {
   "cell_type": "code",
   "execution_count": 3,
   "id": "7bad4dcc",
   "metadata": {},
   "outputs": [],
   "source": [
    "# def<function_name>():         this is defining function\n",
    "#    <operations>\n",
    "#<function_name>()              this is calling function"
   ]
  },
  {
   "cell_type": "code",
   "execution_count": 6,
   "id": "d17a5895",
   "metadata": {},
   "outputs": [
    {
     "name": "stdout",
     "output_type": "stream",
     "text": [
      "Hello World\n"
     ]
    }
   ],
   "source": [
    "def hello():                  # here we have defined function called hello()\n",
    "    print(\"Hello World\")\n",
    "hello()                       # here we have called function hello()"
   ]
  },
  {
   "cell_type": "code",
   "execution_count": 9,
   "id": "55449685",
   "metadata": {},
   "outputs": [
    {
     "name": "stdout",
     "output_type": "stream",
     "text": [
      "Enter length = 2\n",
      "Enter breadth = 2\n",
      "Enter height = 2\n",
      "8\n"
     ]
    }
   ],
   "source": [
    "def volume():             # here i have defined function \n",
    "    \n",
    "    length = int(input(\"Enter length = \"))           # this format is called local variable which is inside function\n",
    "    breadth = int(input(\"Enter breadth = \"))\n",
    "    height = int(input(\"Enter height = \"))\n",
    "    \n",
    "    vol = length * breadth * height\n",
    "    print(vol)\n",
    "    \n",
    "    \n",
    "volume()    # here i have called function volume()"
   ]
  },
  {
   "cell_type": "code",
   "execution_count": 12,
   "id": "ba803444",
   "metadata": {},
   "outputs": [
    {
     "name": "stdout",
     "output_type": "stream",
     "text": [
      "Enter length = 2\n",
      "Enter breadth = 2\n",
      "Enter height = 2\n",
      "8\n"
     ]
    }
   ],
   "source": [
    "# global variable (here value of length, breadth and height are asked outside defining the function volume() )\n",
    "\n",
    "length = int(input(\"Enter length = \"))\n",
    "breadth = int(input(\"Enter breadth = \"))\n",
    "height = int(input(\"Enter height = \"))\n",
    "\n",
    "\n",
    "def volume():\n",
    "    \n",
    "    vol = length * breadth * height\n",
    "    print(vol)\n",
    "\n",
    "volume()\n"
   ]
  },
  {
   "cell_type": "code",
   "execution_count": 13,
   "id": "0c35edb2",
   "metadata": {},
   "outputs": [],
   "source": [
    "# now we will look at function with argument and no return type"
   ]
  },
  {
   "cell_type": "code",
   "execution_count": 14,
   "id": "56668869",
   "metadata": {},
   "outputs": [
    {
     "name": "stdout",
     "output_type": "stream",
     "text": [
      "Hello World\n"
     ]
    }
   ],
   "source": [
    "def hello(x):    # here in hello(x), x is a parameter\n",
    "    print(x)\n",
    "hello(\"Hello World\")   # this is an argument"
   ]
  },
  {
   "cell_type": "code",
   "execution_count": 20,
   "id": "a529b308",
   "metadata": {},
   "outputs": [
    {
     "name": "stdout",
     "output_type": "stream",
     "text": [
      "Enter l = 2\n",
      "Enter b = 2\n",
      "Enter h = 2\n",
      "8\n"
     ]
    }
   ],
   "source": [
    "def volume(x,y,z):   # here x,y,z is a parameter\n",
    "    \n",
    "    vol = x * y * z\n",
    "    print(vol)\n",
    "    \n",
    "l = int(input(\"Enter l = \"))\n",
    "b = int(input(\"Enter b = \"))\n",
    "h = int(input(\"Enter h = \"))\n",
    "    \n",
    "volume(l,b,h)\n"
   ]
  },
  {
   "cell_type": "code",
   "execution_count": 21,
   "id": "3927cbe5",
   "metadata": {},
   "outputs": [
    {
     "name": "stdout",
     "output_type": "stream",
     "text": [
      "Enter l = 2\n",
      "Enter b = 3\n",
      "Enter h = 4\n",
      "6\n",
      "24\n"
     ]
    }
   ],
   "source": [
    "def area(x,y):\n",
    "    \n",
    "    area = x * y\n",
    "    print(area)\n",
    "    \n",
    "def volume(x,y,z):\n",
    "    \n",
    "    volume = x * y * z\n",
    "    print(volume)\n",
    "\n",
    "l = int(input(\"Enter l = \"))\n",
    "b = int(input(\"Enter b = \"))\n",
    "h = int(input(\"Enter h = \"))\n",
    "\n",
    "area(l,b)\n",
    "volume(l,b,h)"
   ]
  },
  {
   "cell_type": "code",
   "execution_count": 24,
   "id": "cebdb42c",
   "metadata": {},
   "outputs": [
    {
     "name": "stdout",
     "output_type": "stream",
     "text": [
      "Enter name: Sam\n",
      "Enter address: Pokhara\n",
      "Enter age23\n",
      "Hello World. I am Sam. I am from Pokhara. I am 23.\n"
     ]
    }
   ],
   "source": [
    "def information(x):   # here I have defined function called information(x)\n",
    "    \n",
    "    name, address, age = x\n",
    "    print(f\"Hello World. I am {name}. I am from {address}. I am {age}.\")\n",
    "    \n",
    "name = input(\"Enter name: \")\n",
    "address = input(\"Enter address: \")\n",
    "age = int(input(\"Enter age\"))\n",
    "\n",
    "a = [name, address, age]\n",
    "information(a)"
   ]
  },
  {
   "cell_type": "code",
   "execution_count": 2,
   "id": "f9ad656d",
   "metadata": {},
   "outputs": [
    {
     "name": "stdout",
     "output_type": "stream",
     "text": [
      "I love C++.\n",
      "I love C.\n",
      "I love Java.\n",
      "I love Python.\n"
     ]
    }
   ],
   "source": [
    "def language(lan = \"Python\"):\n",
    "    print(f\"I love {lan}.\")\n",
    "    \n",
    "language(\"C++\")\n",
    "language(\"C\")\n",
    "language(\"Java\")\n",
    "language()"
   ]
  },
  {
   "cell_type": "code",
   "execution_count": 3,
   "id": "942648ca",
   "metadata": {},
   "outputs": [],
   "source": [
    "# now we will look into return type function"
   ]
  },
  {
   "cell_type": "code",
   "execution_count": 4,
   "id": "c99a9840",
   "metadata": {},
   "outputs": [
    {
     "data": {
      "text/plain": [
       "'Hello World'"
      ]
     },
     "execution_count": 4,
     "metadata": {},
     "output_type": "execute_result"
    }
   ],
   "source": [
    "def hello():\n",
    "    return \"Hello World\"\n",
    "hello()"
   ]
  },
  {
   "cell_type": "code",
   "execution_count": 5,
   "id": "8b268ab6",
   "metadata": {},
   "outputs": [
    {
     "name": "stdout",
     "output_type": "stream",
     "text": [
      "8\n"
     ]
    }
   ],
   "source": [
    "def area(l,b):\n",
    "    \n",
    "    a = l * b\n",
    "    return a\n",
    "\n",
    "x = area(2,4)\n",
    "print(x)"
   ]
  },
  {
   "cell_type": "code",
   "execution_count": null,
   "id": "3ffa5bc6",
   "metadata": {},
   "outputs": [],
   "source": [
    "\n"
   ]
  },
  {
   "cell_type": "code",
   "execution_count": null,
   "id": "1a2ff62a",
   "metadata": {},
   "outputs": [],
   "source": []
  },
  {
   "cell_type": "code",
   "execution_count": null,
   "id": "6b58421e",
   "metadata": {},
   "outputs": [],
   "source": []
  },
  {
   "cell_type": "code",
   "execution_count": null,
   "id": "e272b416",
   "metadata": {},
   "outputs": [],
   "source": []
  },
  {
   "cell_type": "code",
   "execution_count": null,
   "id": "b95e9bd0",
   "metadata": {},
   "outputs": [],
   "source": []
  },
  {
   "cell_type": "code",
   "execution_count": null,
   "id": "bc22f099",
   "metadata": {},
   "outputs": [],
   "source": []
  },
  {
   "cell_type": "code",
   "execution_count": null,
   "id": "e298ab13",
   "metadata": {},
   "outputs": [],
   "source": []
  },
  {
   "cell_type": "code",
   "execution_count": null,
   "id": "931781a0",
   "metadata": {},
   "outputs": [],
   "source": []
  }
 ],
 "metadata": {
  "kernelspec": {
   "display_name": "Python 3 (ipykernel)",
   "language": "python",
   "name": "python3"
  },
  "language_info": {
   "codemirror_mode": {
    "name": "ipython",
    "version": 3
   },
   "file_extension": ".py",
   "mimetype": "text/x-python",
   "name": "python",
   "nbconvert_exporter": "python",
   "pygments_lexer": "ipython3",
   "version": "3.10.9"
  }
 },
 "nbformat": 4,
 "nbformat_minor": 5
}
