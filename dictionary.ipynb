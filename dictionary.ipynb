{
 "cells": [
  {
   "cell_type": "code",
   "execution_count": 1,
   "id": "12402c57",
   "metadata": {},
   "outputs": [],
   "source": [
    "# dictitionary"
   ]
  },
  {
   "cell_type": "code",
   "execution_count": 2,
   "id": "9d1a727d",
   "metadata": {},
   "outputs": [],
   "source": [
    "# Dict\n",
    "# Indexing\n",
    "# Multiple and duplicate data\n",
    "# ordered\n",
    "# mutable"
   ]
  },
  {
   "cell_type": "code",
   "execution_count": 3,
   "id": "f7c856a5",
   "metadata": {},
   "outputs": [],
   "source": [
    "d ={}\n",
    "d = dict()"
   ]
  },
  {
   "cell_type": "code",
   "execution_count": 13,
   "id": "f9953ee8",
   "metadata": {},
   "outputs": [
    {
     "name": "stdout",
     "output_type": "stream",
     "text": [
      "<class 'dict'>\n",
      "{'a': 'Apple', 'b': 'Ball', 'c': 'Dog'}\n"
     ]
    }
   ],
   "source": [
    "# d = {<key>:<value>,<key>:<value>}\n",
    "d = {'a':'Apple','b':'Ball','c':'Dog'}\n",
    "type(d)\n",
    "print(type(d))\n",
    "\n",
    "print(d)"
   ]
  },
  {
   "cell_type": "code",
   "execution_count": 11,
   "id": "5d90e162",
   "metadata": {},
   "outputs": [
    {
     "name": "stdout",
     "output_type": "stream",
     "text": [
      "Apple\n"
     ]
    }
   ],
   "source": [
    "print(d['a'])"
   ]
  },
  {
   "cell_type": "code",
   "execution_count": 12,
   "id": "070d367a",
   "metadata": {},
   "outputs": [
    {
     "data": {
      "text/plain": [
       "3"
      ]
     },
     "execution_count": 12,
     "metadata": {},
     "output_type": "execute_result"
    }
   ],
   "source": [
    "l = d = {'a':'Apple','b':'Ball','c':'Dog'}\n",
    "len(d)"
   ]
  },
  {
   "cell_type": "code",
   "execution_count": 15,
   "id": "b99f76cf",
   "metadata": {},
   "outputs": [
    {
     "data": {
      "text/plain": [
       "{'a': 'Apple', 'b': 'Ball', 'c': 'Dog', 'd': 'Cat'}"
      ]
     },
     "execution_count": 15,
     "metadata": {},
     "output_type": "execute_result"
    }
   ],
   "source": [
    "d = {'a':'Apple','b':'Ball','c':'Dog','d':'Cat','a':'Apple'}\n",
    "d                              # key value must always be unique"
   ]
  },
  {
   "cell_type": "code",
   "execution_count": 16,
   "id": "0996f6f8",
   "metadata": {},
   "outputs": [
    {
     "data": {
      "text/plain": [
       "{'a': 'Apple', 'b': 'Ball', 'c': 'Dog', 'd': 'Cat', 'A': 'Apple'}"
      ]
     },
     "execution_count": 16,
     "metadata": {},
     "output_type": "execute_result"
    }
   ],
   "source": [
    "d = {'a':'Apple','b':'Ball','c':'Dog','d':'Cat','A':'Apple'}\n",
    "d                               # though value is same 'Apple', key 'a' and 'A' are different, so it prints both values"
   ]
  },
  {
   "cell_type": "code",
   "execution_count": null,
   "id": "e243b72b",
   "metadata": {},
   "outputs": [],
   "source": [
    "# no + * sign\n"
   ]
  },
  {
   "cell_type": "code",
   "execution_count": 18,
   "id": "18245d3e",
   "metadata": {},
   "outputs": [
    {
     "data": {
      "text/plain": [
       "{'a': 'Apple', 'b': 'Ball', 'c': 'Dog', 'A': 'Apple', 'd': 'sdsd'}"
      ]
     },
     "execution_count": 18,
     "metadata": {},
     "output_type": "execute_result"
    }
   ],
   "source": [
    "d = {'a':'Apple','b':'Ball','c':'Dog','A':'Apple'}\n",
    "e = {'d':'sdsd'}\n",
    "d.update(e)\n",
    "d"
   ]
  },
  {
   "cell_type": "code",
   "execution_count": 17,
   "id": "a4d72a92",
   "metadata": {},
   "outputs": [
    {
     "data": {
      "text/plain": [
       "{'a': 'Apple', 'b': 'Ball', 'c': 'Dog', 'd': 'sdsd', 'A': 'Apple'}"
      ]
     },
     "execution_count": 17,
     "metadata": {},
     "output_type": "execute_result"
    }
   ],
   "source": [
    "d = {'a':'Apple','b':'Ball','c':'Dog','d':'Cat','A':'Apple'}\n",
    "e = {'d':'sdsd'}\n",
    "d.update(e)\n",
    "d"
   ]
  },
  {
   "cell_type": "code",
   "execution_count": 21,
   "id": "7d1c543a",
   "metadata": {},
   "outputs": [
    {
     "data": {
      "text/plain": [
       "{'a': 'Apple', 'b': 'Ball', 'c': 'Cat'}"
      ]
     },
     "execution_count": 21,
     "metadata": {},
     "output_type": "execute_result"
    }
   ],
   "source": [
    "# creatng dictitionary\n",
    "\n",
    "d = {}\n",
    "d['a'] = \"Apple\"\n",
    "d['b'] = \"Ball\"\n",
    "d['c'] = \"Cat\"\n",
    "d                          # this is showing that dictionaries are mutable"
   ]
  },
  {
   "cell_type": "code",
   "execution_count": 23,
   "id": "922312ab",
   "metadata": {},
   "outputs": [
    {
     "name": "stdout",
     "output_type": "stream",
     "text": [
      "Enter n = 2\n",
      "Enter name = Sam\n",
      "Enter phone = 983479347\n",
      "Enter name = Pika\n",
      "Enter phone = 3435343\n",
      "{'Sam': '983479347', 'Pika': '3435343'}\n"
     ]
    }
   ],
   "source": [
    "info = {}  # this means creating info dictitionary\n",
    "\n",
    "n = int(input(\"Enter n = \"))\n",
    "for i in range(n):\n",
    "    name = input(\"Enter name = \")\n",
    "    phone = input(\"Enter phone = \")\n",
    "    info[name] = phone\n",
    "print(info)"
   ]
  },
  {
   "cell_type": "code",
   "execution_count": 24,
   "id": "fca1215c",
   "metadata": {},
   "outputs": [
    {
     "name": "stdout",
     "output_type": "stream",
     "text": [
      "Sam\n",
      "Pika\n"
     ]
    }
   ],
   "source": [
    "d = {'Sam': '983479347', 'Pika': '3435343'}\n",
    "for i in d:\n",
    "    print(i)     # d prints only key"
   ]
  },
  {
   "cell_type": "code",
   "execution_count": 25,
   "id": "cae01bd3",
   "metadata": {},
   "outputs": [
    {
     "name": "stdout",
     "output_type": "stream",
     "text": [
      "983479347\n",
      "3435343\n"
     ]
    }
   ],
   "source": [
    "d = {'Sam': '983479347', 'Pika': '3435343'}\n",
    "for i in d.values():\n",
    "    print(i)     # .values prints only values"
   ]
  },
  {
   "cell_type": "code",
   "execution_count": 26,
   "id": "e0d5c064",
   "metadata": {},
   "outputs": [
    {
     "name": "stdout",
     "output_type": "stream",
     "text": [
      "('Sam', '983479347')\n",
      "('Pika', '3435343')\n"
     ]
    }
   ],
   "source": [
    "d = {'Sam': '983479347', 'Pika': '3435343'}\n",
    "for i in d.items():\n",
    "    print(i)      #.items prints both key and values"
   ]
  },
  {
   "cell_type": "code",
   "execution_count": 29,
   "id": "90f60ff6",
   "metadata": {},
   "outputs": [
    {
     "data": {
      "text/plain": [
       "{'Sam': 983479347, 'Pika': 343534343}"
      ]
     },
     "execution_count": 29,
     "metadata": {},
     "output_type": "execute_result"
    }
   ],
   "source": [
    "d = [['Sam', 983479347],\n",
    "    ['Pika', 343534343]]\n",
    "dict(d)"
   ]
  },
  {
   "cell_type": "code",
   "execution_count": null,
   "id": "8c185061",
   "metadata": {},
   "outputs": [],
   "source": [
    "# update\n",
    "# delete"
   ]
  },
  {
   "cell_type": "code",
   "execution_count": 31,
   "id": "01aab58d",
   "metadata": {},
   "outputs": [
    {
     "data": {
      "text/plain": [
       "{'Sam': 4584, 'Pika': 343534343}"
      ]
     },
     "execution_count": 31,
     "metadata": {},
     "output_type": "execute_result"
    }
   ],
   "source": [
    "# update\n",
    "d = {'Sam': 983479347, 'Pika': 343534343}\n",
    "d['Sam'] = 4584     # changing the value of key 'Sam' to 4584\n",
    "d\n"
   ]
  },
  {
   "cell_type": "code",
   "execution_count": 32,
   "id": "15ad726f",
   "metadata": {},
   "outputs": [
    {
     "data": {
      "text/plain": [
       "{'sdf': 34534}"
      ]
     },
     "execution_count": 32,
     "metadata": {},
     "output_type": "execute_result"
    }
   ],
   "source": [
    "# delete\n",
    "d = {'Sam':34534535,'sdf' : 34534}\n",
    "del d['Sam']\n",
    "d"
   ]
  },
  {
   "cell_type": "code",
   "execution_count": 34,
   "id": "46cda22b",
   "metadata": {},
   "outputs": [
    {
     "name": "stdout",
     "output_type": "stream",
     "text": [
      "{'sdf': 34534}\n",
      "34534535\n"
     ]
    }
   ],
   "source": [
    "# pop\n",
    "d = {'Sam':34534535,'sdf' : 34534}\n",
    "e = d.pop('Sam')\n",
    "print(d)\n",
    "print(e)"
   ]
  },
  {
   "cell_type": "code",
   "execution_count": 35,
   "id": "232bba8a",
   "metadata": {},
   "outputs": [],
   "source": [
    "# dictionaries are used in mapping"
   ]
  },
  {
   "cell_type": "code",
   "execution_count": 40,
   "id": "7e152107",
   "metadata": {},
   "outputs": [
    {
     "data": {
      "text/plain": [
       "{'Sam': [30453453, 567567], 'Ram': [454564, 6786786]}"
      ]
     },
     "execution_count": 40,
     "metadata": {},
     "output_type": "execute_result"
    }
   ],
   "source": [
    "# list inside dictionary\n",
    "d = {'Sam':[30453453,567567],'Ram':[454564,6786786]}\n",
    "d"
   ]
  },
  {
   "cell_type": "code",
   "execution_count": 47,
   "id": "2b1e66df",
   "metadata": {},
   "outputs": [
    {
     "name": "stdout",
     "output_type": "stream",
     "text": [
      "Enter n = 2\n",
      "Enter name = Sam\n",
      "Enter ntc_phone = 345\n",
      "Enter ncell_phone = 76786\n",
      "Enter name = Ram\n",
      "Enter ntc_phone = 56756\n",
      "Enter ncell_phone = 234\n",
      "{'Sam': ['345', '76786'], 'Ram': ['56756', '234']}\n"
     ]
    }
   ],
   "source": [
    "info = {}\n",
    "n = int(input(\"Enter n = \"))\n",
    "for i in range(n):\n",
    "    name = input(\"Enter name = \")\n",
    "    ntc_phone = input(\"Enter ntc_phone = \")\n",
    "    ncell_phone = input(\"Enter ncell_phone = \")\n",
    "    \n",
    "    info[name] = [ntc_phone,ncell_phone]\n",
    "    \n",
    "print(info)"
   ]
  },
  {
   "cell_type": "code",
   "execution_count": 50,
   "id": "83cc10e6",
   "metadata": {},
   "outputs": [
    {
     "data": {
      "text/plain": [
       "['345', '76786']"
      ]
     },
     "execution_count": 50,
     "metadata": {},
     "output_type": "execute_result"
    }
   ],
   "source": [
    "# read\n",
    "\n",
    "info['Sam']      # reads all the value that key 'Sam' holds"
   ]
  },
  {
   "cell_type": "code",
   "execution_count": 49,
   "id": "6e99db1e",
   "metadata": {},
   "outputs": [
    {
     "data": {
      "text/plain": [
       "'345'"
      ]
     },
     "execution_count": 49,
     "metadata": {},
     "output_type": "execute_result"
    }
   ],
   "source": [
    "# read\n",
    "\n",
    "info['Sam'][0]   # reads the value of index [0]"
   ]
  },
  {
   "cell_type": "code",
   "execution_count": null,
   "id": "fc864e87",
   "metadata": {},
   "outputs": [],
   "source": [
    "d = {'name':['Sam','Ram','Hari'],\n",
    "    'age':[23,45,56],\n",
    "    'address':['Ktm','Pkr','Lalitpur']}\n"
   ]
  },
  {
   "cell_type": "code",
   "execution_count": 2,
   "id": "c0962f1c",
   "metadata": {},
   "outputs": [
    {
     "name": "stdout",
     "output_type": "stream",
     "text": [
      "Enter n = 3\n",
      "Enter name = Ram\n",
      "Enter age = 23\n",
      "Enter address = Ktm\n",
      "Enter name = Sam\n",
      "Enter age = 34\n",
      "Enter address = Pkr\n",
      "Enter name = Hari\n",
      "Enter age = 23\n",
      "Enter address = Lalitpur\n",
      "{'name': ['Ram', 'Sam', 'Hari'], 'age': ['23', '34', '23'], 'address': ['Ktm', 'Pkr', 'Lalitpur']}\n"
     ]
    }
   ],
   "source": [
    "\n",
    "d = {'name':[],'age':[],'address':[]}\n",
    "\n",
    "n = int(input(\"Enter n = \"))\n",
    "for i in range(n):\n",
    "    name = input(\"Enter name = \")\n",
    "    age = input(\"Enter age = \")\n",
    "    address = input(\"Enter address = \")\n",
    "    \n",
    "    d['name'].append(name)\n",
    "    d['age'].append(age)\n",
    "    d['address'].append(address)\n",
    "\n",
    "print(d)"
   ]
  },
  {
   "cell_type": "code",
   "execution_count": 3,
   "id": "e01d7098",
   "metadata": {},
   "outputs": [
    {
     "data": {
      "text/plain": [
       "['Ram', 'Sam', 'Hari']"
      ]
     },
     "execution_count": 3,
     "metadata": {},
     "output_type": "execute_result"
    }
   ],
   "source": [
    "d['name']"
   ]
  },
  {
   "cell_type": "code",
   "execution_count": 4,
   "id": "e22e8c6a",
   "metadata": {},
   "outputs": [
    {
     "name": "stdout",
     "output_type": "stream",
     "text": [
      "Ram\n",
      "23\n",
      "Ktm\n"
     ]
    }
   ],
   "source": [
    "print(d['name'][0])\n",
    "print(d['age'][0])\n",
    "print(d['address'][0])"
   ]
  },
  {
   "cell_type": "code",
   "execution_count": 5,
   "id": "950bc6a9",
   "metadata": {},
   "outputs": [
    {
     "name": "stdout",
     "output_type": "stream",
     "text": [
      "Ram\n",
      "Sam\n",
      "Hari\n"
     ]
    }
   ],
   "source": [
    "for i in d['name']:\n",
    "    print(i)"
   ]
  },
  {
   "cell_type": "code",
   "execution_count": 6,
   "id": "1dc19a6a",
   "metadata": {},
   "outputs": [
    {
     "name": "stdout",
     "output_type": "stream",
     "text": [
      "Ram\n",
      "Sam\n",
      "Hari\n"
     ]
    }
   ],
   "source": [
    "c = 0\n",
    "for i in d['name']:\n",
    "    print(i)\n",
    "    c = c+1"
   ]
  },
  {
   "cell_type": "code",
   "execution_count": 7,
   "id": "768f0ec3",
   "metadata": {},
   "outputs": [
    {
     "name": "stdout",
     "output_type": "stream",
     "text": [
      "1\n"
     ]
    }
   ],
   "source": [
    "c = 0\n",
    "for i in d['name']:\n",
    "    if i == 'Sam':\n",
    "        print(c)\n",
    "    c = c+1   "
   ]
  },
  {
   "cell_type": "code",
   "execution_count": 8,
   "id": "1515770e",
   "metadata": {},
   "outputs": [
    {
     "name": "stdout",
     "output_type": "stream",
     "text": [
      "Sam\n",
      "34\n",
      "Pkr\n"
     ]
    }
   ],
   "source": [
    "c = 0\n",
    "for i in d['name']:\n",
    "    if i == 'Sam':\n",
    "        \n",
    "        print(d['name'][c])\n",
    "        print(d['age'][c])\n",
    "        print(d['address'][c])\n",
    "        \n",
    "    c = c+1"
   ]
  },
  {
   "cell_type": "code",
   "execution_count": null,
   "id": "bbca6243",
   "metadata": {},
   "outputs": [],
   "source": []
  },
  {
   "cell_type": "code",
   "execution_count": null,
   "id": "939b4804",
   "metadata": {},
   "outputs": [],
   "source": []
  },
  {
   "cell_type": "code",
   "execution_count": null,
   "id": "dd3efcdc",
   "metadata": {},
   "outputs": [],
   "source": []
  },
  {
   "cell_type": "code",
   "execution_count": null,
   "id": "c95f87d9",
   "metadata": {},
   "outputs": [],
   "source": []
  },
  {
   "cell_type": "code",
   "execution_count": null,
   "id": "258a4373",
   "metadata": {},
   "outputs": [],
   "source": []
  },
  {
   "cell_type": "code",
   "execution_count": null,
   "id": "5f3ea5cd",
   "metadata": {},
   "outputs": [],
   "source": []
  }
 ],
 "metadata": {
  "kernelspec": {
   "display_name": "Python 3 (ipykernel)",
   "language": "python",
   "name": "python3"
  },
  "language_info": {
   "codemirror_mode": {
    "name": "ipython",
    "version": 3
   },
   "file_extension": ".py",
   "mimetype": "text/x-python",
   "name": "python",
   "nbconvert_exporter": "python",
   "pygments_lexer": "ipython3",
   "version": "3.10.9"
  }
 },
 "nbformat": 4,
 "nbformat_minor": 5
}
