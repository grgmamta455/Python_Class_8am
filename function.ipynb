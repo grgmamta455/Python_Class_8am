{
 "cells": [
  {
   "cell_type": "code",
   "execution_count": 1,
   "id": "b64cfa4e",
   "metadata": {},
   "outputs": [],
   "source": [
    "# function(two types)\n",
    "# 1)predefined function\n",
    "# 2)userdefined function\n"
   ]
  },
  {
   "cell_type": "code",
   "execution_count": 2,
   "id": "3d490543",
   "metadata": {},
   "outputs": [],
   "source": [
    "# predefined function\n",
    " # print() int() float() str() list() tuple() dict() set etc"
   ]
  },
  {
   "cell_type": "code",
   "execution_count": 5,
   "id": "a32fe019",
   "metadata": {},
   "outputs": [],
   "source": [
    "# def<function_name>():           # defining function\n",
    "#    <operations>\n",
    "#<function_name>()                 # calling function"
   ]
  },
  {
   "cell_type": "code",
   "execution_count": 3,
   "id": "5fccdb91",
   "metadata": {},
   "outputs": [
    {
     "name": "stdout",
     "output_type": "stream",
     "text": [
      "Hello World\n"
     ]
    }
   ],
   "source": [
    "def hello():                      # defining function\n",
    "    print(\"Hello World\")\n",
    "    \n",
    "hello()                           # calling function"
   ]
  },
  {
   "cell_type": "code",
   "execution_count": 3,
   "id": "32cb0b3f",
   "metadata": {},
   "outputs": [
    {
     "name": "stdout",
     "output_type": "stream",
     "text": [
      "Enter l = 2\n",
      "Enter b = 2\n",
      "Enter h = 2\n",
      "8\n"
     ]
    }
   ],
   "source": [
    "def volume():\n",
    "    \n",
    "    l = int(input(\"Enter l = \"))         # local variable defined inside function\n",
    "    b = int(input(\"Enter b = \"))         # local variable defined inside function\n",
    "    h = int(input(\"Enter h = \"))         # local variable defined inside function\n",
    "    \n",
    "    v = l * b * h\n",
    "    print(v)\n",
    "\n",
    "volume()                                 # calling function"
   ]
  },
  {
   "cell_type": "code",
   "execution_count": 9,
   "id": "2aeb95db",
   "metadata": {},
   "outputs": [
    {
     "name": "stdout",
     "output_type": "stream",
     "text": [
      "Enter l : 65\n",
      "Enter b : 34\n",
      "Enter h : 23\n",
      "50830\n",
      "65 34 23\n"
     ]
    }
   ],
   "source": [
    "# global variable\n",
    "\n",
    "l = int(input(\"Enter l : \"))         # global variable\n",
    "b = int(input(\"Enter b : \"))         # global variable\n",
    "h = int(input(\"Enter h : \"))         # global variable\n",
    "\n",
    "def volume():\n",
    "        \n",
    "    v = l * b * h\n",
    "    print(v)\n",
    "\n",
    "volume()\n",
    "print(l,b,h)\n"
   ]
  },
  {
   "cell_type": "code",
   "execution_count": 11,
   "id": "a00cfd3c",
   "metadata": {},
   "outputs": [],
   "source": [
    "# function without arguments and no return type\n",
    "# function with arguments and no return type\n",
    "# function without arguments and return type\n",
    "# function without arguments and return type\n"
   ]
  },
  {
   "cell_type": "code",
   "execution_count": 15,
   "id": "37ece9a5",
   "metadata": {},
   "outputs": [
    {
     "name": "stdout",
     "output_type": "stream",
     "text": [
      "Hello World\n"
     ]
    }
   ],
   "source": [
    "# function with arguments and no return type\n",
    "\n",
    "def hello(x):              # x is parameter\n",
    "    \n",
    "    print(x)\n",
    "\n",
    "hello(\"Hello World\")       # \"Hello World\" is argument"
   ]
  },
  {
   "cell_type": "code",
   "execution_count": 2,
   "id": "37d4170a",
   "metadata": {},
   "outputs": [
    {
     "name": "stdout",
     "output_type": "stream",
     "text": [
      "Enter l = 24\n",
      "Enter b = 2\n",
      "Enter h = 2\n",
      "96\n"
     ]
    }
   ],
   "source": [
    "def volume(x,y,z):             # x,y,z is parameter\n",
    "    \n",
    "    v = x * y * z\n",
    "    print(v)\n",
    "    \n",
    "l = int(input(\"Enter l = \"))       \n",
    "b = int(input(\"Enter b = \"))         \n",
    "h = int(input(\"Enter h = \"))         \n",
    "        \n",
    "\n",
    "volume(l,b,h)"
   ]
  },
  {
   "cell_type": "code",
   "execution_count": 4,
   "id": "e58a56fe",
   "metadata": {},
   "outputs": [
    {
     "name": "stdout",
     "output_type": "stream",
     "text": [
      "Enter l = 3\n",
      "Enter b = 4\n",
      "Enter h = 5\n",
      "12\n",
      "60\n"
     ]
    }
   ],
   "source": [
    "def area(x,y):\n",
    "    a = x * y\n",
    "    print(a)\n",
    "    \n",
    "def volume(x,y,z):\n",
    "    v = x * y * z\n",
    "    print(v)\n",
    "    \n",
    "l = int(input(\"Enter l = \"))       \n",
    "b = int(input(\"Enter b = \"))         \n",
    "h = int(input(\"Enter h = \"))         \n",
    "        \n",
    "area(l,b)\n",
    "volume(l,b,h)\n"
   ]
  },
  {
   "cell_type": "code",
   "execution_count": 9,
   "id": "cc0ff9e9",
   "metadata": {},
   "outputs": [
    {
     "name": "stdout",
     "output_type": "stream",
     "text": [
      "Enter name = sdfsd\n",
      "Enter age = 23\n",
      "Enter address = drger\n",
      "Hello World. I am sdfsd. I am from drger. I am 23.\n"
     ]
    }
   ],
   "source": [
    "\n",
    "def info(x):\n",
    "    \n",
    "    name,age,address = x\n",
    "    \n",
    "    print(f\"Hello World. I am {name}. I am from {address}. I am {age}.\")\n",
    "    \n",
    "name = input(\"Enter name = \")\n",
    "age = int(input(\"Enter age = \"))\n",
    "address = input(\"Enter address = \")\n",
    "\n",
    "l = [name,age,address]\n",
    "\n",
    "info(l)\n"
   ]
  },
  {
   "cell_type": "code",
   "execution_count": 10,
   "id": "efe30998",
   "metadata": {},
   "outputs": [
    {
     "name": "stdout",
     "output_type": "stream",
     "text": [
      "I love C++\n",
      "I love C\n",
      "I love Java\n",
      "I love Python\n"
     ]
    }
   ],
   "source": [
    "def language(lan = \"Python\"):\n",
    "    print(f\"I love {lan}\")\n",
    "    \n",
    "language(\"C++\")\n",
    "language(\"C\")\n",
    "language(\"Java\")\n",
    "language()"
   ]
  },
  {
   "cell_type": "code",
   "execution_count": 11,
   "id": "8a2d2866",
   "metadata": {},
   "outputs": [],
   "source": [
    "# return type function\n"
   ]
  },
  {
   "cell_type": "code",
   "execution_count": 12,
   "id": "392600dc",
   "metadata": {},
   "outputs": [
    {
     "data": {
      "text/plain": [
       "'Hello World'"
      ]
     },
     "execution_count": 12,
     "metadata": {},
     "output_type": "execute_result"
    }
   ],
   "source": [
    "def hello():\n",
    "    return \"Hello World\"\n",
    "hello()"
   ]
  },
  {
   "cell_type": "code",
   "execution_count": 4,
   "id": "be19cbe7",
   "metadata": {},
   "outputs": [
    {
     "name": "stdout",
     "output_type": "stream",
     "text": [
      "180\n"
     ]
    }
   ],
   "source": [
    "# function with arguments and no return type\n",
    "\n",
    "def area(l,b):\n",
    "    \n",
    "    a = l*b\n",
    "    return a\n",
    "\n",
    "x = area(3,60)\n",
    "print(x)"
   ]
  },
  {
   "cell_type": "code",
   "execution_count": 5,
   "id": "11d2c633",
   "metadata": {},
   "outputs": [
    {
     "name": "stdout",
     "output_type": "stream",
     "text": [
      "Enter l = 3\n",
      "Enter b = 3\n",
      "Enter h = 3\n",
      "The area is =  9\n",
      "The volume is =  27\n"
     ]
    }
   ],
   "source": [
    "# function with arguments and no return type\n",
    "\n",
    "def area(l,b):\n",
    "    a = l * b\n",
    "    return a\n",
    "\n",
    "l = int(input(\"Enter l = \"))\n",
    "b = int(input(\"Enter b = \"))\n",
    "h = int(input(\"Enter h = \"))\n",
    "\n",
    "ar = area(l,b)\n",
    "print(\"The area is = \",ar)\n",
    "\n",
    "volume = ar * h\n",
    "print(\"The volume is = \",volume)"
   ]
  },
  {
   "cell_type": "code",
   "execution_count": 8,
   "id": "09a3eb44",
   "metadata": {},
   "outputs": [
    {
     "name": "stdout",
     "output_type": "stream",
     "text": [
      "Enter a = 3\n",
      "Enter b = 3\n",
      "Enter + or - or * or / +\n",
      "6\n"
     ]
    }
   ],
   "source": [
    "def add(a,b):\n",
    "    return a + b\n",
    "\n",
    "def sub(a,b):\n",
    "    return a - b\n",
    "\n",
    "def mul(a,b):\n",
    "    return a * b\n",
    "\n",
    "def div(a,b):\n",
    "    return a / b\n",
    "\n",
    "\n",
    "a = int(input(\"Enter a = \"))\n",
    "b = int(input(\"Enter b = \"))\n",
    "c = input(\"Enter + or - or * or / \")\n",
    "if c == \"+\":\n",
    "    print(add(a,b))\n",
    "elif c == \"-\":\n",
    "    print(sub(a,b))\n",
    "elif c == \"*\":\n",
    "    print(mul(a,b))\n",
    "elif c == \"/\":\n",
    "    print(div(a,b))\n",
    "else:\n",
    "    print(\"Invalid operator\")\n",
    "    \n"
   ]
  },
  {
   "cell_type": "code",
   "execution_count": 11,
   "id": "9e332ab6",
   "metadata": {},
   "outputs": [
    {
     "name": "stdout",
     "output_type": "stream",
     "text": [
      "Enter a = 3\n",
      "Enter b = 8\n",
      "Enter + or - or * or / /\n",
      "0.375\n"
     ]
    }
   ],
   "source": [
    "def add(a,b):\n",
    "    return a + b\n",
    "\n",
    "def sub(a,b):\n",
    "    return a - b\n",
    "\n",
    "def mul(a,b):\n",
    "    return a * b\n",
    "\n",
    "def div(a,b):\n",
    "    return a / b\n",
    "\n",
    "def cal(a,b,c):\n",
    "    if c == \"+\":\n",
    "        print(add(a,b))\n",
    "    elif c == \"-\":\n",
    "        print(sub(a,b))\n",
    "    elif c == \"*\":\n",
    "        print(mul(a,b))\n",
    "    elif c == \"/\":\n",
    "        print(div(a,b))\n",
    "    else:\n",
    "        print(\"Invalid operator\")\n",
    "    \n",
    "a = int(input(\"Enter a = \"))\n",
    "b = int(input(\"Enter b = \"))\n",
    "c = input(\"Enter + or - or * or / \")\n",
    "\n",
    "cal(a,b,c)\n"
   ]
  },
  {
   "cell_type": "code",
   "execution_count": 2,
   "id": "d7602de2",
   "metadata": {},
   "outputs": [
    {
     "name": "stdout",
     "output_type": "stream",
     "text": [
      "Hello\n"
     ]
    }
   ],
   "source": [
    "# recursive function\n",
    "\n",
    "def hello():\n",
    "    print(\"Hello\")\n",
    "    \n",
    "hello()\n",
    "\n"
   ]
  },
  {
   "cell_type": "code",
   "execution_count": 1,
   "id": "f3f74480",
   "metadata": {},
   "outputs": [
    {
     "name": "stdout",
     "output_type": "stream",
     "text": [
      "Hello World\n",
      "Enter y for more printy\n",
      "Hello World\n",
      "Enter y for more printy\n",
      "Hello World\n",
      "Enter y for more printy\n",
      "Hello World\n",
      "Enter y for more printnbvbn\n"
     ]
    }
   ],
   "source": [
    "def hello():\n",
    "    print(\"Hello World\")\n",
    "    x = input(\"Enter y for more print\")\n",
    "    if x=='y':\n",
    "        hello()\n",
    "hello()"
   ]
  },
  {
   "cell_type": "code",
   "execution_count": null,
   "id": "21773aa4",
   "metadata": {},
   "outputs": [],
   "source": [
    "def cal(l,b,h):\n",
    "    a = l*b\n",
    "    v = a* h\n",
    "    return a,v\n",
    "\n",
    "a = int(input(\"Enter a = \"))\n",
    "b = int(input(\"Enter b = \"))\n",
    "c = int(input(\"Enter h = \"))"
   ]
  },
  {
   "cell_type": "code",
   "execution_count": 3,
   "id": "dbda3835",
   "metadata": {},
   "outputs": [],
   "source": [
    "# lambda function\n",
    "\n",
    "#lambda <argument>:<expression or operation>\n"
   ]
  },
  {
   "cell_type": "code",
   "execution_count": 4,
   "id": "9d662676",
   "metadata": {},
   "outputs": [
    {
     "data": {
      "text/plain": [
       "9"
      ]
     },
     "execution_count": 4,
     "metadata": {},
     "output_type": "execute_result"
    }
   ],
   "source": [
    "y = lambda x:x**2\n",
    "y(3)"
   ]
  },
  {
   "cell_type": "code",
   "execution_count": 5,
   "id": "6c004fa8",
   "metadata": {},
   "outputs": [
    {
     "data": {
      "text/plain": [
       "False"
      ]
     },
     "execution_count": 5,
     "metadata": {},
     "output_type": "execute_result"
    }
   ],
   "source": [
    "y = lambda x:(x%2==0)\n",
    "y(3)"
   ]
  },
  {
   "cell_type": "code",
   "execution_count": 6,
   "id": "89eb3e4a",
   "metadata": {},
   "outputs": [
    {
     "name": "stdout",
     "output_type": "stream",
     "text": [
      "50\n"
     ]
    }
   ],
   "source": [
    "area = lambda l,b:l*b\n",
    "print(area(10,5))"
   ]
  },
  {
   "cell_type": "code",
   "execution_count": 8,
   "id": "f191dbb7",
   "metadata": {},
   "outputs": [],
   "source": [
    "# filter\n",
    "\n",
    "# list(filter(lambda <argument>:<expression>,list))    # expression must always give boolean value"
   ]
  },
  {
   "cell_type": "code",
   "execution_count": 11,
   "id": "0f04a98a",
   "metadata": {},
   "outputs": [
    {
     "data": {
      "text/plain": [
       "[34, 6, 56, 76, 54, 78]"
      ]
     },
     "execution_count": 11,
     "metadata": {},
     "output_type": "execute_result"
    }
   ],
   "source": [
    "l = [23,45,34,6,56,76,54,78,43,23,45,87]\n",
    "list(filter(lambda x:x%2==0,l))          # replacing for loop"
   ]
  },
  {
   "cell_type": "code",
   "execution_count": 13,
   "id": "aefbb574",
   "metadata": {},
   "outputs": [
    {
     "data": {
      "text/plain": [
       "[34, 67, 76]"
      ]
     },
     "execution_count": 13,
     "metadata": {},
     "output_type": "execute_result"
    }
   ],
   "source": [
    "l = [23,34,456,67,45,76,899,56]\n",
    "list(filter(lambda x:x%3==1,l))"
   ]
  },
  {
   "cell_type": "code",
   "execution_count": 15,
   "id": "c57ef6fa",
   "metadata": {},
   "outputs": [
    {
     "data": {
      "text/plain": [
       "['APPLE']"
      ]
     },
     "execution_count": 15,
     "metadata": {},
     "output_type": "execute_result"
    }
   ],
   "source": [
    "l = [\"APPLE\",\"BAll\",\"Cat\",\"Dog\"]\n",
    "list(filter(lambda x:x.isupper(),l))"
   ]
  },
  {
   "cell_type": "code",
   "execution_count": 16,
   "id": "13330b4e",
   "metadata": {},
   "outputs": [
    {
     "data": {
      "text/plain": [
       "['cat', 'bird']"
      ]
     },
     "execution_count": 16,
     "metadata": {},
     "output_type": "execute_result"
    }
   ],
   "source": [
    "l = [\"APPLE\",\"BAll\",\"cat\",\"Dog\",\"bird\"]\n",
    "list(filter(lambda x:x[0].islower(),l))"
   ]
  },
  {
   "cell_type": "code",
   "execution_count": 17,
   "id": "fff93469",
   "metadata": {},
   "outputs": [],
   "source": [
    "# map function\n",
    "# list(map(lambda<argument>:<expression>,list))"
   ]
  },
  {
   "cell_type": "code",
   "execution_count": 19,
   "id": "f3e4b718",
   "metadata": {},
   "outputs": [
    {
     "data": {
      "text/plain": [
       "[11000.0, 22000.0, 33000.0, 44000.0, 55000.00000000001, 35640.0]"
      ]
     },
     "execution_count": 19,
     "metadata": {},
     "output_type": "execute_result"
    }
   ],
   "source": [
    "salary = [10000,20000,30000,40000,50000,32400]\n",
    "list(map(lambda x:x*1.1,salary))"
   ]
  },
  {
   "cell_type": "code",
   "execution_count": 20,
   "id": "962bb1d5",
   "metadata": {},
   "outputs": [
    {
     "data": {
      "text/plain": [
       "[11000, 22000, 33000, 44000, 55000, 35640]"
      ]
     },
     "execution_count": 20,
     "metadata": {},
     "output_type": "execute_result"
    }
   ],
   "source": [
    "salary = [10000,20000,30000,40000,50000,32400]\n",
    "list(map(lambda x:int(x*1.1),salary))"
   ]
  },
  {
   "cell_type": "code",
   "execution_count": 21,
   "id": "c1394bf4",
   "metadata": {},
   "outputs": [
    {
     "data": {
      "text/plain": [
       "['apple', 'ball', 'cat', 'dog', 'bird']"
      ]
     },
     "execution_count": 21,
     "metadata": {},
     "output_type": "execute_result"
    }
   ],
   "source": [
    "l = [\"APPLE\",\"BAll\",\"cat\",\"Dog\",\"bird\"]\n",
    "list(map(lambda x:x.lower(),l))"
   ]
  },
  {
   "cell_type": "code",
   "execution_count": null,
   "id": "f76f13a7",
   "metadata": {},
   "outputs": [],
   "source": []
  },
  {
   "cell_type": "code",
   "execution_count": null,
   "id": "8e5934ff",
   "metadata": {},
   "outputs": [],
   "source": []
  },
  {
   "cell_type": "code",
   "execution_count": null,
   "id": "c931a97f",
   "metadata": {},
   "outputs": [],
   "source": []
  },
  {
   "cell_type": "code",
   "execution_count": null,
   "id": "15bc1942",
   "metadata": {},
   "outputs": [],
   "source": []
  },
  {
   "cell_type": "code",
   "execution_count": null,
   "id": "1579d281",
   "metadata": {},
   "outputs": [],
   "source": []
  },
  {
   "cell_type": "code",
   "execution_count": null,
   "id": "07bd491a",
   "metadata": {},
   "outputs": [],
   "source": []
  },
  {
   "cell_type": "code",
   "execution_count": null,
   "id": "240917f8",
   "metadata": {},
   "outputs": [],
   "source": []
  },
  {
   "cell_type": "code",
   "execution_count": null,
   "id": "d7ff7acd",
   "metadata": {},
   "outputs": [],
   "source": []
  }
 ],
 "metadata": {
  "kernelspec": {
   "display_name": "Python 3 (ipykernel)",
   "language": "python",
   "name": "python3"
  },
  "language_info": {
   "codemirror_mode": {
    "name": "ipython",
    "version": 3
   },
   "file_extension": ".py",
   "mimetype": "text/x-python",
   "name": "python",
   "nbconvert_exporter": "python",
   "pygments_lexer": "ipython3",
   "version": "3.10.9"
  }
 },
 "nbformat": 4,
 "nbformat_minor": 5
}
