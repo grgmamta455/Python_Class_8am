{
 "cells": [
  {
   "cell_type": "code",
   "execution_count": 1,
   "id": "1b46955a",
   "metadata": {},
   "outputs": [
    {
     "name": "stdout",
     "output_type": "stream",
     "text": [
      "10\n"
     ]
    }
   ],
   "source": [
    "a = 10\n",
    "print(a)"
   ]
  },
  {
   "cell_type": "code",
   "execution_count": 3,
   "id": "6dde8802",
   "metadata": {},
   "outputs": [
    {
     "name": "stdout",
     "output_type": "stream",
     "text": [
      "10\n",
      "10.5\n",
      "Hello World\n",
      "True\n",
      "10 10.5 Hello World True\n"
     ]
    }
   ],
   "source": [
    "a = 10                   #int\n",
    "b = 10.5                 #float\n",
    "c = \"Hello World\"        #string\n",
    "d = True                 #bool\n",
    "\n",
    "print(a)\n",
    "print(b)\n",
    "print(c)\n",
    "print(d)\n",
    "print(a,b,c,d)"
   ]
  },
  {
   "cell_type": "code",
   "execution_count": 4,
   "id": "0ab3a57a",
   "metadata": {},
   "outputs": [],
   "source": [
    "#1aa = 10 we cannot use numbers\n",
    "a_ = 10   #we cannot use special character at starting and ending and between the variables\n",
    "hello = 10\n",
    "hello_world = 10\n"
   ]
  },
  {
   "cell_type": "code",
   "execution_count": 5,
   "id": "07a1810f",
   "metadata": {},
   "outputs": [
    {
     "name": "stdout",
     "output_type": "stream",
     "text": [
      "<class 'int'>\n",
      "<class 'float'>\n",
      "<class 'str'>\n",
      "<class 'bool'>\n"
     ]
    }
   ],
   "source": [
    "#type()\n",
    "print(type(a))\n",
    "print(type(b))\n",
    "print(type(c))\n",
    "print(type(d))"
   ]
  },
  {
   "cell_type": "code",
   "execution_count": 6,
   "id": "9657d119",
   "metadata": {},
   "outputs": [],
   "source": [
    "a = 'Hello World'\n",
    "b = \"Hello World\"\n",
    "c = '''Hello World'''"
   ]
  },
  {
   "cell_type": "code",
   "execution_count": 7,
   "id": "920cf217",
   "metadata": {},
   "outputs": [
    {
     "data": {
      "text/plain": [
       "str"
      ]
     },
     "execution_count": 7,
     "metadata": {},
     "output_type": "execute_result"
    }
   ],
   "source": [
    "a = '''12$% apple'''\n",
    "type(a)"
   ]
  },
  {
   "cell_type": "code",
   "execution_count": 10,
   "id": "ce737472",
   "metadata": {},
   "outputs": [
    {
     "name": "stdout",
     "output_type": "stream",
     "text": [
      "12$% apple \"\n"
     ]
    }
   ],
   "source": [
    "a = '''12$% apple \"'''\n",
    "print(a)"
   ]
  },
  {
   "cell_type": "code",
   "execution_count": 11,
   "id": "6cb90190",
   "metadata": {},
   "outputs": [
    {
     "name": "stdout",
     "output_type": "stream",
     "text": [
      "True\n"
     ]
    }
   ],
   "source": [
    "a = True\n",
    "print(a)"
   ]
  },
  {
   "cell_type": "code",
   "execution_count": 14,
   "id": "9e7efae5",
   "metadata": {},
   "outputs": [
    {
     "name": "stdout",
     "output_type": "stream",
     "text": [
      "10\n"
     ]
    }
   ],
   "source": [
    "a = \"10\"\n",
    "print(a)"
   ]
  },
  {
   "cell_type": "code",
   "execution_count": 16,
   "id": "a5a7a389",
   "metadata": {},
   "outputs": [],
   "source": [
    "# Operators\n",
    "# + - * / ** // %"
   ]
  },
  {
   "cell_type": "code",
   "execution_count": 18,
   "id": "d7f61939",
   "metadata": {},
   "outputs": [
    {
     "name": "stdout",
     "output_type": "stream",
     "text": [
      "30\n"
     ]
    }
   ],
   "source": [
    "a = 10\n",
    "b = 20\n",
    "c = a + b    # + is operator and a,b & c are operands\n",
    "print(c)"
   ]
  },
  {
   "cell_type": "code",
   "execution_count": 19,
   "id": "0490af75",
   "metadata": {},
   "outputs": [
    {
     "name": "stdout",
     "output_type": "stream",
     "text": [
      "3.3333333333333335\n"
     ]
    }
   ],
   "source": [
    "a = 10\n",
    "b = 3\n",
    "c = a / b\n",
    "print(c)"
   ]
  },
  {
   "cell_type": "code",
   "execution_count": 20,
   "id": "7c8b44e6",
   "metadata": {},
   "outputs": [
    {
     "name": "stdout",
     "output_type": "stream",
     "text": [
      "1000\n"
     ]
    }
   ],
   "source": [
    "a = 10\n",
    "b = 3\n",
    "c = a ** b\n",
    "print(c)"
   ]
  },
  {
   "cell_type": "code",
   "execution_count": 23,
   "id": "09b402a1",
   "metadata": {},
   "outputs": [
    {
     "name": "stdout",
     "output_type": "stream",
     "text": [
      "3\n"
     ]
    }
   ],
   "source": [
    "a = 10\n",
    "b = 3\n",
    "c = a // b      # prints whole number //floor division , doesnt give decimal\n",
    "print(c)"
   ]
  },
  {
   "cell_type": "code",
   "execution_count": 24,
   "id": "84d078ee",
   "metadata": {},
   "outputs": [
    {
     "name": "stdout",
     "output_type": "stream",
     "text": [
      "1\n"
     ]
    }
   ],
   "source": [
    "a = 10\n",
    "b = 3\n",
    "c = a % b       # prints remainder\n",
    "print(c)"
   ]
  },
  {
   "cell_type": "code",
   "execution_count": 25,
   "id": "d426a6d0",
   "metadata": {},
   "outputs": [
    {
     "data": {
      "text/plain": [
       "'C:\\\\Users\\\\Dell\\\\Python_class_8am'"
      ]
     },
     "execution_count": 25,
     "metadata": {},
     "output_type": "execute_result"
    }
   ],
   "source": [
    "pwd"
   ]
  },
  {
   "cell_type": "code",
   "execution_count": 1,
   "id": "ebe11146",
   "metadata": {},
   "outputs": [],
   "source": [
    "# float\n",
    "# + - * / ** // %"
   ]
  },
  {
   "cell_type": "code",
   "execution_count": 4,
   "id": "3ab0e7d0",
   "metadata": {},
   "outputs": [
    {
     "name": "stdout",
     "output_type": "stream",
     "text": [
      "Hello World\n"
     ]
    }
   ],
   "source": [
    "# string\n",
    "a = \"Hello \"     # space is also a character\n",
    "b = \"World\"\n",
    "c = a + b\n",
    "print(c)"
   ]
  },
  {
   "cell_type": "code",
   "execution_count": 7,
   "id": "31d4a06f",
   "metadata": {},
   "outputs": [
    {
     "name": "stdout",
     "output_type": "stream",
     "text": [
      "Hello World\n",
      "Hello World\n",
      "\n"
     ]
    }
   ],
   "source": [
    "a = \"Hello World\\n\"  # \\n separates line\n",
    "print(a*2)"
   ]
  },
  {
   "cell_type": "code",
   "execution_count": 11,
   "id": "55f8175f",
   "metadata": {},
   "outputs": [
    {
     "name": "stdout",
     "output_type": "stream",
     "text": [
      "Hi, I am Mamta\n"
     ]
    }
   ],
   "source": [
    "name = \"Mamta\"\n",
    "info = \"Hi, I am \" + name\n",
    "print(info)                 # you can also write info or print(info)"
   ]
  },
  {
   "cell_type": "code",
   "execution_count": 9,
   "id": "9b320d41",
   "metadata": {},
   "outputs": [
    {
     "name": "stdout",
     "output_type": "stream",
     "text": [
      "1\n"
     ]
    }
   ],
   "source": [
    "# bool\n",
    "a = True\n",
    "b = False\n",
    "c = a + b\n",
    "print(c)"
   ]
  },
  {
   "cell_type": "code",
   "execution_count": 10,
   "id": "1185d42c",
   "metadata": {},
   "outputs": [
    {
     "name": "stdout",
     "output_type": "stream",
     "text": [
      "0\n"
     ]
    }
   ],
   "source": [
    "a = True\n",
    "b = False\n",
    "c = a * b\n",
    "print(c)"
   ]
  },
  {
   "cell_type": "code",
   "execution_count": 12,
   "id": "7695b84a",
   "metadata": {},
   "outputs": [
    {
     "data": {
      "text/plain": [
       "complex"
      ]
     },
     "execution_count": 12,
     "metadata": {},
     "output_type": "execute_result"
    }
   ],
   "source": [
    "# complex number ( + - * / ) j = (-1)**(1/2)\n",
    "a = 2 + 3j                 # if we write 3*j then j is counted as variable \n",
    "type(a)"
   ]
  },
  {
   "cell_type": "code",
   "execution_count": 16,
   "id": "8239a0ce",
   "metadata": {},
   "outputs": [
    {
     "data": {
      "text/plain": [
       "'123223'"
      ]
     },
     "execution_count": 16,
     "metadata": {},
     "output_type": "execute_result"
    }
   ],
   "source": [
    "a = \"123\"\n",
    "b = \"223\"\n",
    "c = a + b\n",
    "c"
   ]
  },
  {
   "cell_type": "markdown",
   "id": "e18ab8af",
   "metadata": {},
   "source": [
    "# \n",
    "type casting\n"
   ]
  },
  {
   "cell_type": "code",
   "execution_count": 17,
   "id": "6447157c",
   "metadata": {},
   "outputs": [],
   "source": [
    "# int() float() string() bool()"
   ]
  },
  {
   "cell_type": "code",
   "execution_count": 19,
   "id": "dad32096",
   "metadata": {},
   "outputs": [
    {
     "data": {
      "text/plain": [
       "10.0"
      ]
     },
     "execution_count": 19,
     "metadata": {},
     "output_type": "execute_result"
    }
   ],
   "source": [
    "# string to integer\n",
    "a = \"10\"\n",
    "b = float(a)\n",
    "b"
   ]
  },
  {
   "cell_type": "code",
   "execution_count": 20,
   "id": "cc77c1fd",
   "metadata": {},
   "outputs": [
    {
     "data": {
      "text/plain": [
       "10.5"
      ]
     },
     "execution_count": 20,
     "metadata": {},
     "output_type": "execute_result"
    }
   ],
   "source": [
    "# str to float\n",
    "a = \"10.5\"\n",
    "b = float(a)\n",
    "b"
   ]
  },
  {
   "cell_type": "code",
   "execution_count": 21,
   "id": "8ee47b04",
   "metadata": {},
   "outputs": [
    {
     "data": {
      "text/plain": [
       "'10'"
      ]
     },
     "execution_count": 21,
     "metadata": {},
     "output_type": "execute_result"
    }
   ],
   "source": [
    "# int to string\n",
    "a = 10\n",
    "b = str(a)\n",
    "b"
   ]
  },
  {
   "cell_type": "code",
   "execution_count": 25,
   "id": "78b794cc",
   "metadata": {},
   "outputs": [
    {
     "data": {
      "text/plain": [
       "False"
      ]
     },
     "execution_count": 25,
     "metadata": {},
     "output_type": "execute_result"
    }
   ],
   "source": [
    "# int to bool\n",
    "a = 0\n",
    "bool(a)"
   ]
  },
  {
   "cell_type": "code",
   "execution_count": 26,
   "id": "1681b952",
   "metadata": {},
   "outputs": [
    {
     "data": {
      "text/plain": [
       "True"
      ]
     },
     "execution_count": 26,
     "metadata": {},
     "output_type": "execute_result"
    }
   ],
   "source": [
    "a = 1\n",
    "bool(a)"
   ]
  },
  {
   "cell_type": "code",
   "execution_count": 27,
   "id": "f6b6be62",
   "metadata": {},
   "outputs": [
    {
     "data": {
      "text/plain": [
       "True"
      ]
     },
     "execution_count": 27,
     "metadata": {},
     "output_type": "execute_result"
    }
   ],
   "source": [
    "a = 0.1\n",
    "bool(a)"
   ]
  },
  {
   "cell_type": "code",
   "execution_count": 28,
   "id": "7a56012b",
   "metadata": {},
   "outputs": [
    {
     "data": {
      "text/plain": [
       "False"
      ]
     },
     "execution_count": 28,
     "metadata": {},
     "output_type": "execute_result"
    }
   ],
   "source": [
    "a = \"\"                # if left blank without any value then it is false\n",
    "bool(a)"
   ]
  },
  {
   "cell_type": "code",
   "execution_count": 29,
   "id": "72d8f8a4",
   "metadata": {},
   "outputs": [
    {
     "data": {
      "text/plain": [
       "True"
      ]
     },
     "execution_count": 29,
     "metadata": {},
     "output_type": "execute_result"
    }
   ],
   "source": [
    "a = \"Hi\"              #if any kind of value is assigned the it will be false\n",
    "bool(a)"
   ]
  },
  {
   "cell_type": "code",
   "execution_count": 30,
   "id": "77800b74",
   "metadata": {},
   "outputs": [],
   "source": [
    "# Basic IO Operation"
   ]
  },
  {
   "cell_type": "code",
   "execution_count": 31,
   "id": "857e044e",
   "metadata": {},
   "outputs": [
    {
     "name": "stdout",
     "output_type": "stream",
     "text": [
      "Hello\n",
      "Hello\n"
     ]
    }
   ],
   "source": [
    "a = input()\n",
    "print(a)"
   ]
  },
  {
   "cell_type": "code",
   "execution_count": 33,
   "id": "e09c6e6e",
   "metadata": {},
   "outputs": [
    {
     "name": "stdout",
     "output_type": "stream",
     "text": [
      "Enter a = 10\n",
      "10\n"
     ]
    },
    {
     "data": {
      "text/plain": [
       "str"
      ]
     },
     "execution_count": 33,
     "metadata": {},
     "output_type": "execute_result"
    }
   ],
   "source": [
    "a = input(\"Enter a = \")  # whatever value we put, input function will print any kind of data type (int, str, float)\n",
    "print(a)\n",
    "type(a)"
   ]
  },
  {
   "cell_type": "code",
   "execution_count": 34,
   "id": "02e49278",
   "metadata": {},
   "outputs": [
    {
     "name": "stdout",
     "output_type": "stream",
     "text": [
      "Enter a = 10\n",
      "10\n"
     ]
    }
   ],
   "source": [
    "a = int(input(\"Enter a = \"))\n",
    "print(a)"
   ]
  },
  {
   "cell_type": "code",
   "execution_count": 35,
   "id": "88e8686d",
   "metadata": {},
   "outputs": [
    {
     "name": "stdout",
     "output_type": "stream",
     "text": [
      "Enter a = 10\n",
      "10.0\n"
     ]
    }
   ],
   "source": [
    "a = float(input(\"Enter a = \"))\n",
    "print(a)"
   ]
  },
  {
   "cell_type": "code",
   "execution_count": 39,
   "id": "3f6c9f14",
   "metadata": {},
   "outputs": [
    {
     "name": "stdout",
     "output_type": "stream",
     "text": [
      "Enter a name = Mamta\n",
      "Enter age = 24\n",
      "Enter address = Pokhara\n",
      "Hello World, I am Mamta I am from Pokhara I am 24\n"
     ]
    }
   ],
   "source": [
    "name = input(\"Enter a name = \")\n",
    "age = int(input(\"Enter age = \"))\n",
    "add = input(\"Enter address = \")\n",
    "\n",
    "info = \"Hello World, I am \" + name + \" I am from \" + add + \" I am \" + str(age)\n",
    "print(info)"
   ]
  },
  {
   "cell_type": "code",
   "execution_count": 42,
   "id": "7555333b",
   "metadata": {},
   "outputs": [
    {
     "name": "stdout",
     "output_type": "stream",
     "text": [
      "Enter p = 12\n",
      "Enter q = 1.2\n",
      "Enter r = 12\n",
      "The value of i =  1.7279999999999998\n"
     ]
    }
   ],
   "source": [
    "p = int(input(\"Enter p = \"))\n",
    "q = float(input(\"Enter q = \"))\n",
    "r = float(input(\"Enter r = \"))\n",
    "i = p*q*r/100\n",
    "print(\"The value of i = \", i)"
   ]
  },
  {
   "cell_type": "code",
   "execution_count": 1,
   "id": "aede42b0",
   "metadata": {},
   "outputs": [],
   "source": [
    "# if <condition>:\n",
    "#   <operation>\n",
    "# elif <condition> :\n",
    "#   <operation>\n",
    "# ...\n",
    "    \n",
    "#else:\n",
    "#<operation>\n",
    "\n",
    "# < > <= >= == !="
   ]
  },
  {
   "cell_type": "code",
   "execution_count": 4,
   "id": "381c8141",
   "metadata": {},
   "outputs": [
    {
     "name": "stdout",
     "output_type": "stream",
     "text": [
      "False\n",
      "True\n"
     ]
    }
   ],
   "source": [
    "a = 12\n",
    "print(a>13)\n",
    "print(a<13)"
   ]
  },
  {
   "cell_type": "code",
   "execution_count": 11,
   "id": "90485bc1",
   "metadata": {},
   "outputs": [
    {
     "name": "stdout",
     "output_type": "stream",
     "text": [
      "Enter a = 12\n",
      "12  is +ve\n"
     ]
    }
   ],
   "source": [
    "a = int(input(\"Enter a = \"))\n",
    "if a>=0:\n",
    "    print(a, \" is +ve\")\n",
    "else:\n",
    "    print(a, \" is -ve\")"
   ]
  },
  {
   "cell_type": "code",
   "execution_count": 12,
   "id": "f90fcce3",
   "metadata": {},
   "outputs": [
    {
     "data": {
      "text/plain": [
       "True"
      ]
     },
     "execution_count": 12,
     "metadata": {},
     "output_type": "execute_result"
    }
   ],
   "source": [
    "10%2 == 0\n",
    "# <> <= >= == !="
   ]
  },
  {
   "cell_type": "code",
   "execution_count": 14,
   "id": "379d928e",
   "metadata": {},
   "outputs": [
    {
     "name": "stdout",
     "output_type": "stream",
     "text": [
      "Enter a = 5\n",
      "5 is odd\n"
     ]
    }
   ],
   "source": [
    "a = int(input(\"Enter a = \"))\n",
    "if a%2==0:\n",
    "    print(a,\" is even\")\n",
    "else:\n",
    "    print(a, \"is odd\")"
   ]
  },
  {
   "cell_type": "code",
   "execution_count": 17,
   "id": "e0cf33aa",
   "metadata": {},
   "outputs": [
    {
     "name": "stdout",
     "output_type": "stream",
     "text": [
      "Enter a = 3\n",
      "Enter b = 4\n",
      "4  is greater than  3\n"
     ]
    }
   ],
   "source": [
    "a = int(input(\"Enter a = \"))\n",
    "b = int(input(\"Enter b = \"))\n",
    "if a>b:\n",
    "    print(a, \" is greater than \",b)\n",
    "elif b>a:\n",
    "    print(b, \" is greater than \",a)\n",
    "else:\n",
    "    print(\"Both are equal\")"
   ]
  },
  {
   "cell_type": "code",
   "execution_count": 2,
   "id": "3410401c",
   "metadata": {},
   "outputs": [
    {
     "name": "stdout",
     "output_type": "stream",
     "text": [
      "Enter physics 22\n",
      "Enter chemistry 33\n",
      "Enter biology 45\n",
      "Enter maths 44\n",
      "Enter english 45.5\n",
      "Failed\n"
     ]
    }
   ],
   "source": [
    "# nested if else statement\n",
    "\n",
    "physics = float(input(\"Enter physics \"))     #\n",
    "chemistry = float(input(\"Enter chemistry \"))\n",
    "biology = float(input(\"Enter biology \"))\n",
    "maths = float(input(\"Enter maths \"))\n",
    "english = float(input(\"Enter english \"))\n",
    "\n",
    "if physics >= 32 and chemistry >= 32 and biology >=32 and maths >= 32 and english >= 32:\n",
    "    total = physics + chemistry + biology + maths + english\n",
    "    per = total/5\n",
    "\n",
    "    if per >= 80:\n",
    "        grade = \"A\"\n",
    "    elif per >= 60:\n",
    "        grade = \"B\"\n",
    "    elif per >= 45:\n",
    "        grade = \"C\"\n",
    "    elif per >=32:\n",
    "        grade = \"D\"\n",
    "    else:\n",
    "        grade = \"F\"\n",
    "    \n",
    "    print(\"Total = \",total)\n",
    "    print(\"Per = \",per)\n",
    "    print(\"Grade = \",grade)\n",
    "\n",
    "else:\n",
    "    print(\"Failed\")\n"
   ]
  },
  {
   "cell_type": "code",
   "execution_count": 22,
   "id": "93161a3c",
   "metadata": {},
   "outputs": [
    {
     "name": "stdout",
     "output_type": "stream",
     "text": [
      "Enter a = 4\n",
      "Enter b = 3\n",
      "Enter + or - or * or / /\n",
      "1.3333333333333333\n"
     ]
    }
   ],
   "source": [
    "a = int(input(\"Enter a = \"))\n",
    "b = int(input(\"Enter b = \"))\n",
    "c = input(\"Enter + or - or * or / \")\n",
    "if c == \"+\":\n",
    "    print(a+b)\n",
    "elif c == \"-\":\n",
    "    print(a-b)\n",
    "elif c == \"*\":\n",
    "    print(a*b)\n",
    "elif c == \"/\":\n",
    "    print(a/b)\n",
    "else:\n",
    "    print(\"Invalid operator\")"
   ]
  },
  {
   "cell_type": "code",
   "execution_count": null,
   "id": "75930907",
   "metadata": {},
   "outputs": [],
   "source": [
    "# logical operator\n",
    "# "
   ]
  },
  {
   "cell_type": "code",
   "execution_count": null,
   "id": "2dee9c39",
   "metadata": {},
   "outputs": [],
   "source": [
    "# and \n",
    "# 1 * 0 = 0\n",
    "# 0 * 1 = 0\n",
    "# 0 * 0 = 0\n",
    "# 1 * 1 = 1"
   ]
  },
  {
   "cell_type": "code",
   "execution_count": 7,
   "id": "1e294390",
   "metadata": {},
   "outputs": [
    {
     "name": "stdout",
     "output_type": "stream",
     "text": [
      "Enter a = 3\n",
      "Enter b = 4\n",
      "Enter + or -or * or / /\n",
      "0.75\n"
     ]
    }
   ],
   "source": [
    "a = int(input(\"Enter a = \"))\n",
    "b = int(input(\"Enter b = \"))\n",
    "c = input(\"Enter + or -or * or / \")\n",
    "if c == \"+\":\n",
    "    print(a+b)\n",
    "elif c ==\"-\":\n",
    "    print(a-b)\n",
    "elif c == \"*\":\n",
    "    print(a*b)\n",
    "elif c == \"/\" and b != 0 :\n",
    "    print(a/b)\n",
    "elif c == \"/\" and b == 0:\n",
    "    print(\"The value of c cannot be zero.\")\n",
    "else:\n",
    "    print(\"Invalid Opearator\")\n",
    "    \n",
    "    "
   ]
  },
  {
   "cell_type": "code",
   "execution_count": null,
   "id": "21902496",
   "metadata": {},
   "outputs": [],
   "source": []
  },
  {
   "cell_type": "code",
   "execution_count": null,
   "id": "64b17f3e",
   "metadata": {},
   "outputs": [],
   "source": []
  }
 ],
 "metadata": {
  "kernelspec": {
   "display_name": "Python 3 (ipykernel)",
   "language": "python",
   "name": "python3"
  },
  "language_info": {
   "codemirror_mode": {
    "name": "ipython",
    "version": 3
   },
   "file_extension": ".py",
   "mimetype": "text/x-python",
   "name": "python",
   "nbconvert_exporter": "python",
   "pygments_lexer": "ipython3",
   "version": "3.10.9"
  }
 },
 "nbformat": 4,
 "nbformat_minor": 5
}
