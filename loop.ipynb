{
 "cells": [
  {
   "cell_type": "code",
   "execution_count": 1,
   "id": "d6571847",
   "metadata": {},
   "outputs": [],
   "source": [
    "# loop\n",
    "# for loop\n",
    "# while loop"
   ]
  },
  {
   "cell_type": "code",
   "execution_count": 2,
   "id": "329fbf1f",
   "metadata": {},
   "outputs": [],
   "source": [
    "# for loop"
   ]
  },
  {
   "cell_type": "code",
   "execution_count": 3,
   "id": "cb5f0b88",
   "metadata": {},
   "outputs": [],
   "source": [
    "#range(5)   # 0,1,2,3,4 num goes up to 4 and 5 is excluded  #for(i=0; i<5; i++)\n",
    "#range(1,5) # 1,2,3 4                                       #for(i=1; i<5; i++)\n",
    "#range(1,10,2) # 1,3,5,7,9                                  #for(i=1; i<10; i=i+2)"
   ]
  },
  {
   "cell_type": "code",
   "execution_count": 9,
   "id": "e741a9b9",
   "metadata": {},
   "outputs": [
    {
     "name": "stdout",
     "output_type": "stream",
     "text": [
      "0 Hello\n",
      "1 Hello\n",
      "2 Hello\n",
      "3 Hello\n",
      "4 Hello\n"
     ]
    }
   ],
   "source": [
    "for i in range(5):\n",
    "    print(i,\"Hello\")"
   ]
  },
  {
   "cell_type": "code",
   "execution_count": 10,
   "id": "55873349",
   "metadata": {},
   "outputs": [
    {
     "name": "stdout",
     "output_type": "stream",
     "text": [
      "1 Hello\n",
      "2 Hello\n",
      "3 Hello\n",
      "4 Hello\n"
     ]
    }
   ],
   "source": [
    "for i in range(1,5):#i must be always less than 5 so 5 is excluded\n",
    "    print(i,\"Hello\")"
   ]
  },
  {
   "cell_type": "code",
   "execution_count": 12,
   "id": "2dba2bf6",
   "metadata": {},
   "outputs": [
    {
     "name": "stdout",
     "output_type": "stream",
     "text": [
      "1 Hello\n",
      "3 Hello\n",
      "5 Hello\n"
     ]
    }
   ],
   "source": [
    "for i in range(1,7,2):\n",
    "    print(i,\"Hello\")"
   ]
  },
  {
   "cell_type": "code",
   "execution_count": 22,
   "id": "cf14b3b6",
   "metadata": {},
   "outputs": [
    {
     "name": "stdout",
     "output_type": "stream",
     "text": [
      "5 Hello\n",
      "4 Hello\n",
      "3 Hello\n",
      "2 Hello\n",
      "1 Hello\n"
     ]
    }
   ],
   "source": [
    "for i in range(5,0,-1):    #reverse loop\n",
    "    print(i,\"Hello\")"
   ]
  },
  {
   "cell_type": "code",
   "execution_count": 24,
   "id": "b929ea51",
   "metadata": {},
   "outputs": [
    {
     "name": "stdout",
     "output_type": "stream",
     "text": [
      "Enter a = 5\n",
      "5\n",
      "10\n",
      "15\n",
      "20\n",
      "25\n",
      "30\n",
      "35\n",
      "40\n",
      "45\n",
      "50\n"
     ]
    }
   ],
   "source": [
    "a = int(input(\"Enter a = \"))\n",
    "for i in range(1,11):             #loop\n",
    "    print(i*a)                       #opertation"
   ]
  },
  {
   "cell_type": "code",
   "execution_count": 28,
   "id": "d8dbc6ae",
   "metadata": {},
   "outputs": [
    {
     "name": "stdout",
     "output_type": "stream",
     "text": [
      "Enter a = 5\n",
      "5 * 1  =  5\n",
      "5 * 2  =  10\n",
      "5 * 3  =  15\n",
      "5 * 4  =  20\n",
      "5 * 5  =  25\n",
      "5 * 6  =  30\n",
      "5 * 7  =  35\n",
      "5 * 8  =  40\n",
      "5 * 9  =  45\n",
      "5 * 10  =  50\n"
     ]
    }
   ],
   "source": [
    "# 5 *1 = 5\n",
    "a = int(input(\"Enter a = \"))\n",
    "for i in range(1,11):\n",
    "    print(a, \"*\" , i , \" = \" ,i * a)"
   ]
  },
  {
   "cell_type": "code",
   "execution_count": 29,
   "id": "f68ca387",
   "metadata": {},
   "outputs": [
    {
     "name": "stdout",
     "output_type": "stream",
     "text": [
      "Enter x = 3\n",
      "Enter x = 5\n"
     ]
    }
   ],
   "source": [
    "for i in range(2):\n",
    "    x = int(input(\"Enter x = \"))"
   ]
  },
  {
   "cell_type": "code",
   "execution_count": 1,
   "id": "42e9e470",
   "metadata": {},
   "outputs": [
    {
     "name": "stdout",
     "output_type": "stream",
     "text": [
      "Enter x = 4\n",
      "4\n",
      "Enter x = 5\n",
      "9\n",
      "Enter x = 4\n",
      "13\n",
      "Enter x = 5\n",
      "18\n",
      "Enter x = 4\n",
      "22\n"
     ]
    }
   ],
   "source": [
    "s = 0\n",
    "for i in range(5):\n",
    "    x = int(input(\"Enter x = \"))\n",
    "    s = s + x\n",
    "    \n",
    "    print(s)"
   ]
  },
  {
   "cell_type": "code",
   "execution_count": 2,
   "id": "4aa84a77",
   "metadata": {},
   "outputs": [
    {
     "name": "stdout",
     "output_type": "stream",
     "text": [
      "Enter t = 3\n",
      "Enter x = 4\n",
      "4\n",
      "Enter x = 5\n",
      "9\n",
      "Enter x = 53\n",
      "62\n"
     ]
    }
   ],
   "source": [
    "s = 0\n",
    "t = int(input(\"Enter t = \"))       # example of bank saving\n",
    "for i in range(t):\n",
    "    x = int(input(\"Enter x = \"))\n",
    "    s = s + x\n",
    "    \n",
    "    print(s)"
   ]
  },
  {
   "cell_type": "code",
   "execution_count": 5,
   "id": "4f2694e4",
   "metadata": {},
   "outputs": [
    {
     "name": "stdout",
     "output_type": "stream",
     "text": [
      "Enter t = 5\n",
      "Enter x = a\n",
      "a\n",
      "\n",
      "Enter x = b\n",
      "a\n",
      "b\n",
      "\n",
      "Enter x = c\n",
      "a\n",
      "b\n",
      "c\n",
      "\n",
      "Enter x = d\n",
      "a\n",
      "b\n",
      "c\n",
      "d\n",
      "\n",
      "Enter x = e\n",
      "a\n",
      "b\n",
      "c\n",
      "d\n",
      "e\n",
      "\n"
     ]
    }
   ],
   "source": [
    "s = \"\"\n",
    "t = int(input(\"Enter t = \"))     # example of a class attendence\n",
    "for i in range(t):\n",
    "    x = input(\"Enter x = \")\n",
    "    s = s + x + \"\\n\"\n",
    "    \n",
    "    print(s)"
   ]
  },
  {
   "cell_type": "code",
   "execution_count": 1,
   "id": "2c02fadf",
   "metadata": {},
   "outputs": [
    {
     "name": "stdout",
     "output_type": "stream",
     "text": [
      "Enter t = 5\n",
      "Enter name = ram\n",
      "Enter phone = 23\n",
      "ram 23\n",
      "\n",
      "Enter name = shyam\n",
      "Enter phone = 23\n",
      "ram 23\n",
      "shyam 23\n",
      "\n",
      "Enter name = sdf\n",
      "Enter phone = 234\n",
      "ram 23\n",
      "shyam 23\n",
      "sdf 234\n",
      "\n",
      "Enter name = sdfs\n",
      "Enter phone = 234\n",
      "ram 23\n",
      "shyam 23\n",
      "sdf 234\n",
      "sdfs 234\n",
      "\n",
      "Enter name = zxdc\n",
      "Enter phone = 234\n",
      "ram 23\n",
      "shyam 23\n",
      "sdf 234\n",
      "sdfs 234\n",
      "zxdc 234\n",
      "\n"
     ]
    }
   ],
   "source": [
    "s = \"\"\n",
    "t = int(input(\"Enter t = \"))\n",
    "for i in range(t):\n",
    "    name = input(\"Enter name = \")\n",
    "    phone = input(\"Enter phone = \")\n",
    "    s = s + name + \" \" + phone + \"\\n\" \n",
    "    \n",
    "    print(s)"
   ]
  },
  {
   "cell_type": "code",
   "execution_count": 1,
   "id": "87b2138b",
   "metadata": {},
   "outputs": [
    {
     "name": "stdout",
     "output_type": "stream",
     "text": [
      "Enter t = 4\n",
      "Enter your name = ewr\n",
      "Enter your phone = 234\n",
      "ewr -- 234\n",
      "\n",
      "Enter your name = wer\n",
      "Enter your phone = 234\n",
      "wer -- 234\n",
      "\n",
      "Enter your name = wer\n",
      "Enter your phone = 23\n",
      "wer -- 23\n",
      "\n",
      "Enter your name = wewer\n",
      "Enter your phone = 2323\n",
      "wewer -- 2323\n",
      "\n"
     ]
    }
   ],
   "source": [
    "s = \"\"\n",
    "t = int(input(\"Enter t = \"))\n",
    "for i in range(t):\n",
    "    name = input(\"Enter your name = \")\n",
    "    phone = input(\"Enter your phone = \")\n",
    "    s = name + \" \" + \"-- \"  + str(phone) + \"\\n\"\n",
    "    \n",
    "    print(s)"
   ]
  },
  {
   "cell_type": "code",
   "execution_count": 1,
   "id": "bbbe3f9d",
   "metadata": {},
   "outputs": [],
   "source": [
    "# wap to find factorial\n",
    "# wap to make different patterns line triangle\n",
    "# wap to create a billing system (product, quality, qty, total, all_total)\n",
    "# write a program to add numbers from 1 to 100\n",
    "# write a program to multiply numbers from 1 to 100"
   ]
  },
  {
   "cell_type": "code",
   "execution_count": 1,
   "id": "4b1eabc5",
   "metadata": {},
   "outputs": [
    {
     "name": "stdout",
     "output_type": "stream",
     "text": [
      "1\n",
      "2\n",
      "6\n",
      "24\n"
     ]
    }
   ],
   "source": [
    "# factorial \n",
    "\n",
    "#a = int(input(\"Enter a number = \"))\n",
    "b = 1\n",
    "\n",
    "for i in range(1, 5):      # for i in range(1, 1+1) = (1,1)\n",
    "    b = b * i                # for i in range(1, 1+1) = (1,2)\n",
    "    print(b)                 # for i in range(1, 3+1) = (1,4)\n",
    "\n"
   ]
  },
  {
   "cell_type": "code",
   "execution_count": 21,
   "id": "428d8a1f",
   "metadata": {},
   "outputs": [
    {
     "name": "stdout",
     "output_type": "stream",
     "text": [
      "Enter a = 7\n",
      "2\n",
      "4\n",
      "12\n",
      "48\n",
      "240\n",
      "1440\n",
      "10080\n"
     ]
    }
   ],
   "source": [
    "a = int(input(\"Enter a = \"))\n",
    "b = 2\n",
    "\n",
    "for i in range(1,a + 1):  # if we provide value 6 then it is actually for i in range(1, 7) which prints number from 1 to 6 only\n",
    "    b = b * i              # 1 * 1 = 1\n",
    "                           # 1 * 2 = 2\n",
    "    print(b)               # 2 * 3 = 6\n",
    "                           # 6 * 4 = 24\n",
    "                           # 24 * 5 = 120\n",
    "                           # 120 * 6 = 720\n",
    "    \n",
    "  "
   ]
  },
  {
   "cell_type": "code",
   "execution_count": 9,
   "id": "16d99c03",
   "metadata": {},
   "outputs": [
    {
     "name": "stdout",
     "output_type": "stream",
     "text": [
      "*\n",
      "*\n",
      "*\n",
      "*\n",
      "*\n",
      "*\n",
      "*\n"
     ]
    }
   ],
   "source": [
    "for i in range(1,8):\n",
    "     print(\"*\")"
   ]
  },
  {
   "cell_type": "code",
   "execution_count": 1,
   "id": "55434c36",
   "metadata": {},
   "outputs": [
    {
     "name": "stdout",
     "output_type": "stream",
     "text": [
      "Enter a = 5\n",
      "* \n",
      "* * \n",
      "* * * \n",
      "* * * * \n",
      "* * * * * \n"
     ]
    }
   ],
   "source": [
    "a = int(input(\"Enter a = \"))\n",
    "\n",
    "for i in range(a):             # to print number of rows\n",
    "    for b in range(i+1):       # to print number of columns\n",
    "        print(\"*\", end=\" \")\n",
    "    \n",
    "    print()"
   ]
  },
  {
   "cell_type": "code",
   "execution_count": 4,
   "id": "b001782a",
   "metadata": {},
   "outputs": [
    {
     "name": "stdout",
     "output_type": "stream",
     "text": [
      "Enter a = 5\n",
      "* * * * * * \n",
      "* * * * * \n",
      "* * * * \n",
      "* * * \n",
      "* * \n"
     ]
    }
   ],
   "source": [
    "a = int(input(\"Enter a = \"))\n",
    "\n",
    "for i in range(a,0,-1):\n",
    "    for b in range(i+1):\n",
    "        print(\"*\" , end=\" \")\n",
    "    print()"
   ]
  },
  {
   "cell_type": "code",
   "execution_count": 7,
   "id": "d92b6ae8",
   "metadata": {},
   "outputs": [
    {
     "name": "stdout",
     "output_type": "stream",
     "text": [
      "Enter a = 6\n",
      "            * \n",
      "          * * \n",
      "        * * * \n",
      "      * * * * \n",
      "    * * * * * \n",
      "  * * * * * * \n"
     ]
    }
   ],
   "source": [
    "a = int(input(\"Enter a = \"))\n",
    "\n",
    "for i in range(a):\n",
    "    \n",
    "    for s in range(a-i):\n",
    "        print(\" \", end = \" \")\n",
    "        \n",
    "    for b in range(i+1):\n",
    "        print(\"*\", end = \" \")\n",
    "        \n",
    "    print()"
   ]
  },
  {
   "cell_type": "code",
   "execution_count": 18,
   "id": "72b0f1c5",
   "metadata": {},
   "outputs": [
    {
     "name": "stdout",
     "output_type": "stream",
     "text": [
      "Enter a = 4\n",
      "* * * * *   * * * *     * * *       * * \n"
     ]
    }
   ],
   "source": [
    "a = int(input(\"Enter a = \"))\n",
    "\n",
    "for i in range(a,0,-1):\n",
    "    \n",
    "    for s in range(a-i):\n",
    "        print(\" \", end = \" \")\n",
    "        \n",
    "    for b in range(i+1):\n",
    "        print(\"*\", end = \" \")\n",
    "print()\n",
    "    \n"
   ]
  },
  {
   "cell_type": "code",
   "execution_count": 1,
   "id": "fc94dd5f",
   "metadata": {},
   "outputs": [
    {
     "name": "stdout",
     "output_type": "stream",
     "text": [
      "1 1\n",
      "2 3\n",
      "3 6\n",
      "4 10\n",
      "5 15\n",
      "6 21\n",
      "7 28\n",
      "8 36\n",
      "9 45\n",
      "10 55\n",
      "55\n"
     ]
    }
   ],
   "source": [
    "# add number 1 to 100\n",
    "\n",
    "i = 1\n",
    "sum = 0\n",
    " \n",
    "while i<=10:\n",
    "    sum = sum + i\n",
    "    print(i, sum)\n",
    "    i = i + 1\n",
    "print(sum)\n",
    "    \n",
    "\n"
   ]
  },
  {
   "cell_type": "code",
   "execution_count": 2,
   "id": "874b9cbb",
   "metadata": {},
   "outputs": [
    {
     "name": "stdout",
     "output_type": "stream",
     "text": [
      "1 1\n",
      "2 2\n",
      "3 6\n",
      "4 24\n",
      "5 120\n",
      "6 720\n",
      "7 5040\n",
      "8 40320\n",
      "9 362880\n",
      "10 3628800\n",
      "3628800\n"
     ]
    }
   ],
   "source": [
    "# multiply numbers from 1 to 100\n",
    "\n",
    "i = 1\n",
    "multiple = 1\n",
    " \n",
    "while i<=10:\n",
    "    multiple = multiple * i\n",
    "    print(i, multiple)\n",
    "    i = i + 1\n",
    "print(multiple)\n",
    "    "
   ]
  },
  {
   "cell_type": "code",
   "execution_count": 1,
   "id": "a5f2f476",
   "metadata": {},
   "outputs": [
    {
     "name": "stdout",
     "output_type": "stream",
     "text": [
      "Enter t = 2\n",
      "Enter name of the product = er\n",
      "Enter quality = we\n",
      "Enter quantity = wer\n",
      "er we wer\n",
      "\n",
      "Enter name of the product = wer\n",
      "Enter quality = wer\n",
      "Enter quantity = wer\n",
      "wer wer wer\n",
      "\n"
     ]
    }
   ],
   "source": [
    "# wap to create a billing system (product, quality, qty, total, all_total)\n",
    "\n",
    "a = \"\"\n",
    "t = int(input(\"Enter t = \"))\n",
    "\n",
    "for i in range(t):\n",
    "\n",
    "    name = input(\"Enter name of the product = \")\n",
    "    quality = input(\"Enter quality = \")\n",
    "    quantity = input(\"Enter quantity = \")\n",
    "    a = name + \" \" + quality + \" \" + quantity + \"\\n\" \n",
    "    \n",
    "\n",
    "    print(a)\n",
    "    \n",
    "\n",
    "\n",
    "\n",
    "\n",
    "\n",
    "\n",
    "\n"
   ]
  },
  {
   "cell_type": "code",
   "execution_count": null,
   "id": "a9f415e1",
   "metadata": {},
   "outputs": [],
   "source": [
    "a = \"Python\"\n"
   ]
  }
 ],
 "metadata": {
  "kernelspec": {
   "display_name": "Python 3 (ipykernel)",
   "language": "python",
   "name": "python3"
  },
  "language_info": {
   "codemirror_mode": {
    "name": "ipython",
    "version": 3
   },
   "file_extension": ".py",
   "mimetype": "text/x-python",
   "name": "python",
   "nbconvert_exporter": "python",
   "pygments_lexer": "ipython3",
   "version": "3.10.9"
  }
 },
 "nbformat": 4,
 "nbformat_minor": 5
}
