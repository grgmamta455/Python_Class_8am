{
 "cells": [
  {
   "cell_type": "code",
   "execution_count": 1,
   "id": "2688fdff",
   "metadata": {},
   "outputs": [
    {
     "name": "stdout",
     "output_type": "stream",
     "text": [
      "<class 'str'>\n",
      "<class 'str'>\n",
      "<class 'str'>\n"
     ]
    }
   ],
   "source": [
    "a = 'Hello World I am Python'\n",
    "b = \"Hello World I am Python\"\n",
    "c = '''Hello World I am Python'''\n",
    "\n",
    "print(type(a))\n",
    "print(type(b))\n",
    "print(type(c))"
   ]
  },
  {
   "cell_type": "code",
   "execution_count": 4,
   "id": "6c674086",
   "metadata": {},
   "outputs": [
    {
     "name": "stdout",
     "output_type": "stream",
     "text": [
      "Hello WorldPython\n"
     ]
    }
   ],
   "source": [
    "a = \"Hello World\"\n",
    "b = \"Python\"\n",
    "c = a + b\n",
    "print(c)"
   ]
  },
  {
   "cell_type": "code",
   "execution_count": 5,
   "id": "57d1875f",
   "metadata": {},
   "outputs": [
    {
     "name": "stdout",
     "output_type": "stream",
     "text": [
      "Hello World\n",
      "Hello World\n",
      "\n"
     ]
    }
   ],
   "source": [
    "a = \"Hello World\\n\"\n",
    "print(a*2)"
   ]
  },
  {
   "cell_type": "code",
   "execution_count": 7,
   "id": "f91936a4",
   "metadata": {},
   "outputs": [
    {
     "name": "stdout",
     "output_type": "stream",
     "text": [
      "P\n",
      "y\n",
      "t\n",
      "h\n",
      "o\n",
      "n\n"
     ]
    }
   ],
   "source": [
    "a = \"Python\"\n",
    "for i in a:\n",
    "    print(i)"
   ]
  },
  {
   "cell_type": "code",
   "execution_count": 10,
   "id": "cc1eecdb",
   "metadata": {},
   "outputs": [
    {
     "name": "stdout",
     "output_type": "stream",
     "text": [
      "P\n",
      "Pyth\n"
     ]
    }
   ],
   "source": [
    "a = \"Python\"\n",
    "print(a[0])\n",
    "print(a[0:4])"
   ]
  },
  {
   "cell_type": "code",
   "execution_count": 14,
   "id": "220cda22",
   "metadata": {},
   "outputs": [
    {
     "name": "stdout",
     "output_type": "stream",
     "text": [
      "P\n",
      "Pyth\n",
      "Pto s\n"
     ]
    }
   ],
   "source": [
    "a = \"Python is amazing\"\n",
    "print(a[0])\n",
    "print(a[0:4])\n",
    "print(a[0:10:2])"
   ]
  },
  {
   "cell_type": "code",
   "execution_count": 3,
   "id": "2572a264",
   "metadata": {},
   "outputs": [
    {
     "data": {
      "text/plain": [
       "'h'"
      ]
     },
     "execution_count": 3,
     "metadata": {},
     "output_type": "execute_result"
    }
   ],
   "source": [
    "a = \"Hello World I am Python\"\n",
    "a[-3]"
   ]
  },
  {
   "cell_type": "code",
   "execution_count": 7,
   "id": "709ac953",
   "metadata": {},
   "outputs": [
    {
     "data": {
      "text/plain": [
       "'nohty'"
      ]
     },
     "execution_count": 7,
     "metadata": {},
     "output_type": "execute_result"
    }
   ],
   "source": [
    "a = \"Python\"\n",
    "a[-1:-6:-1]"
   ]
  },
  {
   "cell_type": "code",
   "execution_count": 8,
   "id": "0bf42d51",
   "metadata": {},
   "outputs": [
    {
     "data": {
      "text/plain": [
       "'nohtyP ma I dlroW olleH'"
      ]
     },
     "execution_count": 8,
     "metadata": {},
     "output_type": "execute_result"
    }
   ],
   "source": [
    "a = \"Hello World I am Python\"\n",
    "a[::-1]"
   ]
  },
  {
   "cell_type": "code",
   "execution_count": 9,
   "id": "291b1247",
   "metadata": {},
   "outputs": [
    {
     "data": {
      "text/plain": [
       "'65443432'"
      ]
     },
     "execution_count": 9,
     "metadata": {},
     "output_type": "execute_result"
    }
   ],
   "source": [
    "a = \"23434456\"\n",
    "a[::-1]"
   ]
  },
  {
   "cell_type": "code",
   "execution_count": 14,
   "id": "9a2619b1",
   "metadata": {},
   "outputs": [
    {
     "name": "stdout",
     "output_type": "stream",
     "text": [
      "Hello W\n"
     ]
    }
   ],
   "source": [
    "a = \"Hello World I am Python\"\n",
    "b = a[0:7]\n",
    "print(b)"
   ]
  },
  {
   "cell_type": "code",
   "execution_count": 17,
   "id": "016dc327",
   "metadata": {},
   "outputs": [
    {
     "data": {
      "text/plain": [
       "23"
      ]
     },
     "execution_count": 17,
     "metadata": {},
     "output_type": "execute_result"
    }
   ],
   "source": [
    "a = \"Hello World I am Python\"\n",
    "l = len(a)\n",
    "l"
   ]
  },
  {
   "cell_type": "code",
   "execution_count": 22,
   "id": "1e695d45",
   "metadata": {},
   "outputs": [
    {
     "name": "stdout",
     "output_type": "stream",
     "text": [
      "Hello World I am Python"
     ]
    }
   ],
   "source": [
    "a = \"Hello World I am Python\"\n",
    "l = len(a)   #prints 23\n",
    "\n",
    "for i in range(l):\n",
    "    print(a[i], end=\"\")"
   ]
  },
  {
   "cell_type": "code",
   "execution_count": 2,
   "id": "3ff12022",
   "metadata": {},
   "outputs": [
    {
     "name": "stdout",
     "output_type": "stream",
     "text": [
      "Hello World I am Python"
     ]
    }
   ],
   "source": [
    "a = \"Hello World I am Python\"\n",
    "l = len(a)\n",
    "\n",
    "i=0\n",
    "while i<l:\n",
    "    print(a[i], end=\"\")\n",
    "    i=i+1"
   ]
  },
  {
   "cell_type": "code",
   "execution_count": 3,
   "id": "85352ffe",
   "metadata": {},
   "outputs": [
    {
     "name": "stdout",
     "output_type": "stream",
     "text": [
      "5\n",
      "11\n",
      "13\n",
      "16\n"
     ]
    }
   ],
   "source": [
    "a = \"Hello World I am Python\"\n",
    "l = len(a)\n",
    "\n",
    "for i in range(l):\n",
    "    if a[i]==\" \":\n",
    "        print(i)"
   ]
  },
  {
   "cell_type": "code",
   "execution_count": 6,
   "id": "71c87922",
   "metadata": {},
   "outputs": [
    {
     "data": {
      "text/plain": [
       "'Hello I am Ram I am from Pokhara I am 34 years old.'"
      ]
     },
     "execution_count": 6,
     "metadata": {},
     "output_type": "execute_result"
    }
   ],
   "source": [
    "name = \"Ram\"\n",
    "age = \"34\"\n",
    "address = \"Pokhara\"\n",
    "\n",
    "info = \"Hello I am \" + name + \" I am from \" + address + \" I am \" + str(age) + \" years old.\"\n",
    "info"
   ]
  },
  {
   "cell_type": "code",
   "execution_count": 7,
   "id": "4c774f42",
   "metadata": {},
   "outputs": [
    {
     "data": {
      "text/plain": [
       "'I am xyz. I am from Pkr. I am 23 years old.'"
      ]
     },
     "execution_count": 7,
     "metadata": {},
     "output_type": "execute_result"
    }
   ],
   "source": [
    "name = \"xyz\"\n",
    "add = \"Pkr\"\n",
    "age = \"23\"\n",
    "\n",
    "info = f\"I am {name}. I am from {add}. I am {age} years old.\"\n",
    "info\n"
   ]
  },
  {
   "cell_type": "code",
   "execution_count": 1,
   "id": "eb5445fa",
   "metadata": {},
   "outputs": [
    {
     "name": "stdout",
     "output_type": "stream",
     "text": [
      "Enter n = 2\n",
      "Enter product namesd\n",
      "Enter qty2\n",
      "Enter price222\n",
      "sd2222444\n",
      "\n",
      "444\n",
      "Enter product namewer\n",
      "Enter qty2\n",
      "Enter price4\n",
      "sd2222444\n",
      "wer248\n",
      "\n",
      "452\n"
     ]
    }
   ],
   "source": [
    "bill = \"\"\n",
    "all_total = 0\n",
    "n = int(input(\"Enter n = \"))\n",
    "\n",
    "for i in range(n):\n",
    "    product_name = input(\"Enter product name\")\n",
    "    qty = int(input(\"Enter qty\"))\n",
    "    price = int(input(\"Enter price\"))\n",
    "    total = qty * price\n",
    "\n",
    "    data = f\"{product_name}{qty}{price}{total}\\n\"\n",
    "    bill = bill + data\n",
    "    all_total = all_total + total\n",
    "    \n",
    "    print(bill)\n",
    "    print(all_total)"
   ]
  },
  {
   "cell_type": "code",
   "execution_count": 3,
   "id": "940ea548",
   "metadata": {},
   "outputs": [
    {
     "name": "stdout",
     "output_type": "stream",
     "text": [
      "Yes there is\n"
     ]
    }
   ],
   "source": [
    "a =\"Ram, Sita, Sam, Abc \"\n",
    "if \"Ram\" in a:\n",
    "    print(\"Yes there is\")\n",
    "else:\n",
    "        print(\"No\")"
   ]
  },
  {
   "cell_type": "code",
   "execution_count": 27,
   "id": "554265aa",
   "metadata": {},
   "outputs": [
    {
     "name": "stdout",
     "output_type": "stream",
     "text": [
      "Enter name : Ram\n",
      "Ram is present\n",
      "2\n"
     ]
    }
   ],
   "source": [
    "a = \"Ram Sam Abc Hari Sita Ramesh\"\n",
    "name = input(\"Enter name : \")\n",
    "\n",
    "if name in a:\n",
    "    print(name,\"is present\")\n",
    "    print(a.count(name))\n",
    "else:\n",
    "    print(\"No\")"
   ]
  },
  {
   "cell_type": "code",
   "execution_count": 10,
   "id": "db4bb8ce",
   "metadata": {},
   "outputs": [
    {
     "name": "stdout",
     "output_type": "stream",
     "text": [
      "RAM SAM SITA HARI RAMESH\n",
      "ram sam sita hari ramesh\n"
     ]
    }
   ],
   "source": [
    "a = \"Ram Sam Sita Hari Ramesh\"\n",
    "print(a.upper())    #prints all case in capital\n",
    "print(a.lower())    #printd all case in lower"
   ]
  },
  {
   "cell_type": "code",
   "execution_count": 13,
   "id": "32d0053c",
   "metadata": {},
   "outputs": [
    {
     "name": "stdout",
     "output_type": "stream",
     "text": [
      "Enter name : sdfJ\n",
      "sdfj is absent\n"
     ]
    }
   ],
   "source": [
    "a = \"Ram Sam Sita Hari Ramesh\".lower()\n",
    "name = input(\"Enter name : \").lower()\n",
    "\n",
    "if name in a:\n",
    "    print(name, \"is present\")\n",
    "    print(a.count(name))\n",
    "else:\n",
    "    print(name, \"is absent\")"
   ]
  },
  {
   "cell_type": "code",
   "execution_count": 17,
   "id": "777f3de3",
   "metadata": {},
   "outputs": [
    {
     "name": "stdout",
     "output_type": "stream",
     "text": [
      "Enter the name : ram\n",
      "RAM is present\n",
      "2\n"
     ]
    }
   ],
   "source": [
    "a = \"Ram Hari Ramesh Krish Sam\".upper()\n",
    "name = input(\"Enter the name : \").upper()\n",
    "\n",
    "if name in a:\n",
    "    print(name, \"is present\")\n",
    "    print(a.count(name))\n",
    "else:\n",
    "    print(name, \"is absent\")"
   ]
  },
  {
   "cell_type": "code",
   "execution_count": 19,
   "id": "02a93ea7",
   "metadata": {},
   "outputs": [
    {
     "data": {
      "text/plain": [
       "'Ramana Hari Sam Sita Ramanaesh'"
      ]
     },
     "execution_count": 19,
     "metadata": {},
     "output_type": "execute_result"
    }
   ],
   "source": [
    "a = \"Ram Hari Sam Sita Ramesh\"\n",
    "name = a.replace(\"Ram\",\"Ramana\")   # the name Ram and the first alphabets of the name Ramesh is replaced by the name Ramana\n",
    "name"
   ]
  },
  {
   "cell_type": "code",
   "execution_count": 26,
   "id": "1cb188ad",
   "metadata": {},
   "outputs": [
    {
     "data": {
      "text/plain": [
       "'Ram  Niki Muku Ramesh'"
      ]
     },
     "execution_count": 26,
     "metadata": {},
     "output_type": "execute_result"
    }
   ],
   "source": [
    "a = \"Ram Sam Niki Muku Ramesh\"\n",
    "name = a.replace(\"Sam\",\"\")\n",
    "name\n"
   ]
  },
  {
   "cell_type": "code",
   "execution_count": 9,
   "id": "6b4ef66a",
   "metadata": {},
   "outputs": [
    {
     "name": "stdout",
     "output_type": "stream",
     "text": [
      "Enter the number = 2\n",
      "Enter the name of the product : sdf\n",
      "Enter the qty : 2\n",
      "Enter the price of the product : 2\n",
      "Enter the name of the product : sdf\n",
      "Enter the qty : 3\n",
      "Enter the price of the product : 3\n",
      "sdf 2 2\n",
      "sdf 3 3\n",
      "\n",
      "13\n"
     ]
    }
   ],
   "source": [
    "bill = \"\"\n",
    "all_total = 0\n",
    "\n",
    "a = int(input(\"Enter the number = \"))\n",
    "\n",
    "for i in range(a):\n",
    "    name = input(\"Enter the name of the product : \")\n",
    "    qty = int(input(\"Enter the qty : \"))\n",
    "    price = int(input(\"Enter the price of the product : \"))\n",
    "    \n",
    "    total = qty * price\n",
    "    \n",
    "    data = name + \" \" + str(qty) + \" \" + str(price) + \"\\n\"\n",
    "    \n",
    "    bill = bill + data\n",
    "    all_total = all_total + total\n",
    "    \n",
    "print(bill)\n",
    "print(all_total)\n",
    "    "
   ]
  },
  {
   "cell_type": "code",
   "execution_count": 10,
   "id": "5621d79f",
   "metadata": {},
   "outputs": [
    {
     "data": {
      "text/plain": [
       "'HELLO WORLD I AM PYTHON'"
      ]
     },
     "execution_count": 10,
     "metadata": {},
     "output_type": "execute_result"
    }
   ],
   "source": [
    "a = \"Hello World I am Python\"\n",
    "a.upper()"
   ]
  },
  {
   "cell_type": "code",
   "execution_count": 11,
   "id": "0ad1844e",
   "metadata": {},
   "outputs": [
    {
     "data": {
      "text/plain": [
       "'hello world i am python'"
      ]
     },
     "execution_count": 11,
     "metadata": {},
     "output_type": "execute_result"
    }
   ],
   "source": [
    "a = \"Hello World I am Python\"\n",
    "a.lower()"
   ]
  },
  {
   "cell_type": "code",
   "execution_count": 12,
   "id": "faff5f89",
   "metadata": {},
   "outputs": [
    {
     "name": "stdout",
     "output_type": "stream",
     "text": [
      "hello world i am python\n"
     ]
    }
   ],
   "source": [
    "a = \"Hello World I am Python\"\n",
    "b = a.lower()\n",
    "print(b)"
   ]
  },
  {
   "cell_type": "code",
   "execution_count": 13,
   "id": "5578f325",
   "metadata": {},
   "outputs": [
    {
     "name": "stdout",
     "output_type": "stream",
     "text": [
      "HELLO WORLD I AM PYTHON\n"
     ]
    }
   ],
   "source": [
    "a = \"Hello World I am Python\"\n",
    "b = b.upper()\n",
    "print(b)"
   ]
  },
  {
   "cell_type": "code",
   "execution_count": 17,
   "id": "9e385679",
   "metadata": {},
   "outputs": [
    {
     "name": "stdout",
     "output_type": "stream",
     "text": [
      "Hola World I am Python\n"
     ]
    }
   ],
   "source": [
    "a = \"Hello World I am Python\"\n",
    "a = a.replace('Hello','Hola')\n",
    "print(a)"
   ]
  },
  {
   "cell_type": "code",
   "execution_count": 3,
   "id": "74f6508b",
   "metadata": {},
   "outputs": [
    {
     "name": "stdout",
     "output_type": "stream",
     "text": [
      "Ram Hari Sita Ramesh\n"
     ]
    }
   ],
   "source": [
    "a = \"Ram Sam Hari Sita Ramesh\"\n",
    "a = a.replace('Sam ', '')\n",
    "print(a)"
   ]
  },
  {
   "cell_type": "code",
   "execution_count": 4,
   "id": "18779393",
   "metadata": {},
   "outputs": [
    {
     "name": "stdout",
     "output_type": "stream",
     "text": [
      "Rama Sam Hari Ramaesh\n"
     ]
    }
   ],
   "source": [
    "a = \"Ram Sam Hari Ramesh\"\n",
    "a = a.replace('Ram','Rama')\n",
    "print(a)"
   ]
  },
  {
   "cell_type": "code",
   "execution_count": null,
   "id": "d7fdaaad",
   "metadata": {},
   "outputs": [],
   "source": [
    "# a.append(\"Apple\")\n",
    "# a.insert(2,\"Apple\")\n",
    "# a.extend(b)\n",
    "#a.remove(\"Apple\")\n",
    "#a.count(\"Apple\")\n",
    "# a.pop(0)\n",
    "\n",
    "# for update a[0] = \"Apple\"\n",
    "#            a[0:2] = \"Apple\",\"Ball\"\n",
    "\n",
    "# for delete del a[0:3]\n"
   ]
  },
  {
   "cell_type": "code",
   "execution_count": 4,
   "id": "624737ab",
   "metadata": {},
   "outputs": [
    {
     "name": "stdout",
     "output_type": "stream",
     "text": [
      "Enter n = 2\n",
      "Enter name = sdfh\n",
      "Enter age = 76\n",
      "Enter address = jhzcj\n",
      "Enter name = 876\n",
      "Enter age = 87\n",
      "Enter address = hjg\n",
      "[['sdfh', 76, 'jhzcj'], ['876', 87, 'hjg']]\n"
     ]
    }
   ],
   "source": [
    "a = []\n",
    "\n",
    "n = int(input(\"Enter n = \"))\n",
    "for i in range(n):\n",
    "    name = input(\"Enter name = \")\n",
    "    age = int(input(\"Enter age = \"))\n",
    "    address = input(\"Enter address = \")\n",
    "    \n",
    "    info = [name,age,address]\n",
    "    a.append(info)\n",
    "print(a)"
   ]
  },
  {
   "cell_type": "code",
   "execution_count": 15,
   "id": "7f7d6d63",
   "metadata": {},
   "outputs": [
    {
     "name": "stdout",
     "output_type": "stream",
     "text": [
      "Enter age = 20\n",
      "['Pika', 20, 'Pkr']\n"
     ]
    }
   ],
   "source": [
    "a = [[\"Sam\",23,\"Ktm\"],\n",
    "    [\"Ram\",45,\"Pkr\"],\n",
    "    [\"Hari\",22,\"ktm\"],\n",
    "    [\"Pika\",20,\"Pkr\"]]\n",
    "age = int(input(\"Enter age = \"))\n",
    "\n",
    "for i in a:\n",
    "    if i[1] == age:\n",
    "        print(i)\n",
    "# after it prints the output, run the append function   \n",
    "#a.append([\"Mamta\",22,\"Pkr\"])\n",
    "#a"
   ]
  },
  {
   "cell_type": "code",
   "execution_count": 26,
   "id": "7ac6c268",
   "metadata": {},
   "outputs": [
    {
     "data": {
      "text/plain": [
       "[['ram', ('sds', 23, 'qwe'), 'Ktm'],\n",
       " ['sam', 32, 'Pkr'],\n",
       " ['hari', 44, 'Ktm'],\n",
       " ['sumi', 45, 'Pkr']]"
      ]
     },
     "execution_count": 26,
     "metadata": {},
     "output_type": "execute_result"
    }
   ],
   "source": [
    "# update\n",
    "\n",
    "a = [['ram',23,'Ktm'],\n",
    "    ['sam',32,'Pkr'],\n",
    "    ['hari',44,'Ktm'],\n",
    "    ['sumi',45,'Pkr']]\n",
    "a[0][1]= 'sds',23,'qwe'   # a[0][1] indicates row 0 and column 1 \n",
    "a"
   ]
  },
  {
   "cell_type": "code",
   "execution_count": 31,
   "id": "199be9cb",
   "metadata": {},
   "outputs": [
    {
     "data": {
      "text/plain": [
       "[['ram', 23, 'Pkr'], ['sam', 'Ktm'], ['sumi', 22, 'Pkr'], ['pika', 33, 'Ktm']]"
      ]
     },
     "execution_count": 31,
     "metadata": {},
     "output_type": "execute_result"
    }
   ],
   "source": [
    "# for deleting\n",
    "\n",
    "a = [['ram',23,'Pkr'],\n",
    "    ['sam',33,'Ktm'],\n",
    "    ['sumi',22,'Pkr'],\n",
    "    ['pika',33,'Ktm']]\n",
    "#del a[0]                # this deletes entire row 0\n",
    "del a[1][1]              # this deletes row 1 and column 1 value\n",
    "a"
   ]
  },
  {
   "cell_type": "code",
   "execution_count": 1,
   "id": "e4c582a9",
   "metadata": {},
   "outputs": [],
   "source": [
    "# dictionary\n",
    "# indexing\n",
    "# multiple and duplicate data\n",
    "# ordered\n",
    "# mutable"
   ]
  },
  {
   "cell_type": "code",
   "execution_count": null,
   "id": "f9e5c70e",
   "metadata": {},
   "outputs": [],
   "source": [
    "d = {}\n",
    "d = dict()"
   ]
  },
  {
   "cell_type": "code",
   "execution_count": 18,
   "id": "067daefa",
   "metadata": {},
   "outputs": [
    {
     "name": "stdout",
     "output_type": "stream",
     "text": [
      "<class 'dict'>\n",
      "{'a': 'Apple', 'b': 'Ball', 'c': 'Cat', 'd': 'Dog'}\n",
      "Apple\n",
      "Ball\n",
      "Cat\n",
      "Dog\n"
     ]
    },
    {
     "data": {
      "text/plain": [
       "4"
      ]
     },
     "execution_count": 18,
     "metadata": {},
     "output_type": "execute_result"
    }
   ],
   "source": [
    "# d = {<key:value>,<key:value>}\n",
    "\n",
    "d = {'a' : 'Apple','b':'Ball','c':'Cat','d':'Dog'}\n",
    "type(d)\n",
    "print(type(d))\n",
    "print(d)\n",
    "print(d['a'])\n",
    "print(d['b'])\n",
    "print(d['c'])\n",
    "print(d['d'])\n",
    "len(d)"
   ]
  },
  {
   "cell_type": "code",
   "execution_count": 21,
   "id": "c00260fd",
   "metadata": {},
   "outputs": [
    {
     "name": "stdout",
     "output_type": "stream",
     "text": [
      "{'a': 'Apple', 'b': 'Ball', 'c': 'Cat', 'd': 'Dog'}\n"
     ]
    }
   ],
   "source": [
    "d = {'a':'Apple','b':'Ball','c':'Cat','d':'Dog','a':'Apple'}\n",
    "print(d)   # value doesnt matter whether it same or different but the key must be different"
   ]
  },
  {
   "cell_type": "code",
   "execution_count": 23,
   "id": "d2028cf1",
   "metadata": {},
   "outputs": [
    {
     "name": "stdout",
     "output_type": "stream",
     "text": [
      "{'a': 'Apple', 'b': 'Ball', 'c': 'Cat', 'd': 'Dog', 'A': 'Apple'}\n"
     ]
    }
   ],
   "source": [
    "d = {'a':'Apple','b':'Ball','c':'Cat','d':'Dog','A':'Apple'}\n",
    "print(d)  # here, ,the keys are different 'a' and 'A', so it prints value of both keys"
   ]
  },
  {
   "cell_type": "code",
   "execution_count": null,
   "id": "a1e370fc",
   "metadata": {},
   "outputs": [],
   "source": [
    "# + and * are not used in dictionary"
   ]
  },
  {
   "cell_type": "code",
   "execution_count": 26,
   "id": "138ae099",
   "metadata": {},
   "outputs": [
    {
     "name": "stdout",
     "output_type": "stream",
     "text": [
      "{'a': 'Apple', 'b': 'Ball', 'c': 'Cat', 'A': 'Apple', 'g': 'sdfsdf'}\n"
     ]
    }
   ],
   "source": [
    "# for updating\n",
    "\n",
    "d = {'a':'Apple','b':'Ball','c':'Cat','A':'Apple'}\n",
    "e = {'g':'sdfsdf'}\n",
    "d.update(e)\n",
    "print(d)"
   ]
  },
  {
   "cell_type": "code",
   "execution_count": 30,
   "id": "f16a8e09",
   "metadata": {},
   "outputs": [
    {
     "name": "stdout",
     "output_type": "stream",
     "text": [
      "{'a': 'Apple', 'b': 'sdfdfgd', 'c': 'Cat', 'd': 'Dog'}\n"
     ]
    }
   ],
   "source": [
    "# for updating\n",
    "\n",
    "d = {'a':'Apple','b':'Ball','c':'Cat','d':'Dog'}\n",
    "e = {'b':'sdfdfgd'}\n",
    "d.update(e)\n",
    "print(d)"
   ]
  },
  {
   "cell_type": "code",
   "execution_count": 32,
   "id": "2dbbe6a5",
   "metadata": {},
   "outputs": [
    {
     "name": "stdout",
     "output_type": "stream",
     "text": [
      "{'a': 'Apple', 'b': 'Ball', 'c': 'Cat', 'd': 'Dog'}\n"
     ]
    }
   ],
   "source": [
    "# creating dictionary\n",
    "\n",
    "d = {}\n",
    "d['a'] = 'Apple'\n",
    "d['b'] = 'Ball'\n",
    "d['c'] = 'Cat'\n",
    "d['d'] = 'Dog'\n",
    "print(d)            # this is showing that dictionaries are mutable"
   ]
  },
  {
   "cell_type": "code",
   "execution_count": 35,
   "id": "653c9fe2",
   "metadata": {},
   "outputs": [
    {
     "name": "stdout",
     "output_type": "stream",
     "text": [
      "Enter n = 2\n",
      "Enter name = dsdfs23\n",
      "Enter phone = dsfs34\n",
      "Enter name = dfg\n",
      "Enter phone = 234\n",
      "{'dsdfs23': 'dsfs34', 'dfg': '234'}\n"
     ]
    }
   ],
   "source": [
    "# d = {}  # this means creating dictionary\n",
    "# info = {} # this also means that we are about to create dictionary\n",
    "\n",
    "info = {}\n",
    "n = int(input(\"Enter n = \"))\n",
    "for i in range(n):\n",
    "    name = input(\"Enter name = \")\n",
    "    phone = input(\"Enter phone = \")\n",
    "        \n",
    "    info[name] = phone\n",
    "print(info)"
   ]
  },
  {
   "cell_type": "code",
   "execution_count": 36,
   "id": "1a058a6b",
   "metadata": {},
   "outputs": [
    {
     "name": "stdout",
     "output_type": "stream",
     "text": [
      "Ram\n",
      "Sam\n",
      "Pika\n"
     ]
    }
   ],
   "source": [
    "d = {'Ram':'3948903','Sam':'34798','Pika':'345445'}\n",
    "for i in d:\n",
    "    print(i)  # it prints only keys"
   ]
  },
  {
   "cell_type": "code",
   "execution_count": 37,
   "id": "dee6f2c9",
   "metadata": {},
   "outputs": [
    {
     "name": "stdout",
     "output_type": "stream",
     "text": [
      "34545\n",
      "45645\n",
      "456342\n"
     ]
    }
   ],
   "source": [
    "d = {'Ram':'34545','Sam':'45645','Pika':'456342'}\n",
    "for i in d.values():\n",
    "    print(i)     # it prints only values"
   ]
  },
  {
   "cell_type": "code",
   "execution_count": 38,
   "id": "06b789c0",
   "metadata": {},
   "outputs": [
    {
     "name": "stdout",
     "output_type": "stream",
     "text": [
      "('Ram', '3453')\n",
      "('Sam', '23564')\n",
      "('Pika', '4645')\n"
     ]
    }
   ],
   "source": [
    "d = {'Ram':'3453','Sam':'23564','Pika':'4645'}\n",
    "for i in d.items():\n",
    "    print(i)    # it gives both keys and values"
   ]
  },
  {
   "cell_type": "code",
   "execution_count": 40,
   "id": "5d9da169",
   "metadata": {},
   "outputs": [
    {
     "data": {
      "text/plain": [
       "{'Ram': '345345', 'Sam': '567454', 'Mamta': '3454353'}"
      ]
     },
     "execution_count": 40,
     "metadata": {},
     "output_type": "execute_result"
    }
   ],
   "source": [
    "d = [['Ram','345345'],\n",
    "    ['Sam','567454'],\n",
    "    ['Mamta','3454353']]\n",
    "dict(d)"
   ]
  },
  {
   "cell_type": "code",
   "execution_count": 42,
   "id": "5b75bae9",
   "metadata": {},
   "outputs": [
    {
     "data": {
      "text/plain": [
       "{'Ram': '888888', 'Sam': '23423'}"
      ]
     },
     "execution_count": 42,
     "metadata": {},
     "output_type": "execute_result"
    }
   ],
   "source": [
    "# update\n",
    "\n",
    "d = {'Ram':'38478','Sam':'23423'}\n",
    "d['Ram'] = '888888'\n",
    "d"
   ]
  },
  {
   "cell_type": "code",
   "execution_count": 43,
   "id": "c7a0d9ca",
   "metadata": {},
   "outputs": [
    {
     "data": {
      "text/plain": [
       "{'Ram': '345353'}"
      ]
     },
     "execution_count": 43,
     "metadata": {},
     "output_type": "execute_result"
    }
   ],
   "source": [
    "# delete\n",
    "\n",
    "d = {'Ram':'345353','Sam':'235343'}\n",
    "del d['Sam']\n",
    "d"
   ]
  },
  {
   "cell_type": "code",
   "execution_count": 46,
   "id": "d0fb0029",
   "metadata": {},
   "outputs": [
    {
     "name": "stdout",
     "output_type": "stream",
     "text": [
      "{'Ram': '34545', 'Mamta': '234242'}\n",
      "234234\n"
     ]
    }
   ],
   "source": [
    "d = {'Ram':'34545','Sam':'234234','Mamta':'234242'}\n",
    "e = d.pop('Sam')\n",
    "print(d)     # key 'Sam' has been excluded\n",
    "print(e)     # value of 'Sam' is the output"
   ]
  },
  {
   "cell_type": "code",
   "execution_count": null,
   "id": "7c22c309",
   "metadata": {},
   "outputs": [],
   "source": [
    "# list inside dictionary\n",
    "d = {[][]}"
   ]
  },
  {
   "cell_type": "code",
   "execution_count": 47,
   "id": "1caee898",
   "metadata": {},
   "outputs": [
    {
     "name": "stdout",
     "output_type": "stream",
     "text": [
      "{'Ram': [34345345, 345345345], 'Sam': [34534534, 34345345]}\n"
     ]
    }
   ],
   "source": [
    "d = {'Ram':[34345345,345345345],'Sam':[34534534,34345345]}\n",
    "print(d)"
   ]
  },
  {
   "cell_type": "code",
   "execution_count": 52,
   "id": "891b6229",
   "metadata": {},
   "outputs": [
    {
     "name": "stdout",
     "output_type": "stream",
     "text": [
      "Enter n = 2\n",
      "Enter name = Ram\n",
      "Enter ntc number = 43534534\n",
      "Enter ncell number = 3423534\n",
      "Enter name = Sam\n",
      "Enter ntc number = 676786\n",
      "Enter ncell number = 23365677\n",
      "{'Ram': ['43534534', '3423534'], 'Sam': ['676786', '23365677']}\n"
     ]
    }
   ],
   "source": [
    "info = {}   # creating dictionary\n",
    "\n",
    "n = int(input(\"Enter n = \"))\n",
    "for i in range(n):\n",
    "    name = input(\"Enter name = \")\n",
    "    ntc_no = input(\"Enter ntc number = \")\n",
    "    ncell_no = input(\"Enter ncell number = \")\n",
    "    \n",
    "    info[name] = [ntc_no,ncell_no]\n",
    "print(info)\n",
    "    \n",
    "    "
   ]
  },
  {
   "cell_type": "code",
   "execution_count": 53,
   "id": "783ad906",
   "metadata": {},
   "outputs": [
    {
     "data": {
      "text/plain": [
       "['43534534', '3423534']"
      ]
     },
     "execution_count": 53,
     "metadata": {},
     "output_type": "execute_result"
    }
   ],
   "source": [
    "# reading data of key Ram in dictionary info\n",
    "\n",
    "info['Ram']\n"
   ]
  },
  {
   "cell_type": "code",
   "execution_count": 57,
   "id": "5fef8516",
   "metadata": {},
   "outputs": [
    {
     "data": {
      "text/plain": [
       "'43534534'"
      ]
     },
     "execution_count": 57,
     "metadata": {},
     "output_type": "execute_result"
    }
   ],
   "source": [
    "# reading the data of index 0\n",
    "\n",
    "info['Ram'][0]"
   ]
  },
  {
   "cell_type": "code",
   "execution_count": 62,
   "id": "d18c1eb4",
   "metadata": {},
   "outputs": [
    {
     "name": "stdout",
     "output_type": "stream",
     "text": [
      "Enter n = 3\n",
      "Enter name = Sam\n",
      "Enter age = 23\n",
      "Enter address = Pkr\n",
      "Enter name = Ram\n",
      "Enter age = 34\n",
      "Enter address = Ktm\n",
      "Enter name = Hari\n",
      "Enter age = 45\n",
      "Enter address = Lalitpur\n",
      "{'name': ['Sam', 'Ram', 'Hari'], 'age': ['23', '34', '45'], 'address': ['Pkr', 'Ktm', 'Lalitpur']}\n"
     ]
    }
   ],
   "source": [
    "# creating dictionary\n",
    "\n",
    "# d = {'name':['Sam','Ram','Hari'],\n",
    "#      'age':[23,34,45],\n",
    "#      'address':['Pkr','Ktm','Lalitpur']}\n",
    " \n",
    "\n",
    "d = {'name':[],'age':[],'address':[]}\n",
    "    \n",
    "n = int(input(\"Enter n = \"))\n",
    "for i in range(n):\n",
    "    name = input(\"Enter name = \")\n",
    "    age = input(\"Enter age = \")\n",
    "    address = input(\"Enter address = \")\n",
    "    \n",
    "    d['name'].append(name)\n",
    "    d['age'].append(age)\n",
    "    d['address'].append(address)\n",
    "print(d)"
   ]
  },
  {
   "cell_type": "code",
   "execution_count": 66,
   "id": "bc4e38cf",
   "metadata": {},
   "outputs": [
    {
     "data": {
      "text/plain": [
       "['Sam', 'Ram', 'Hari']"
      ]
     },
     "execution_count": 66,
     "metadata": {},
     "output_type": "execute_result"
    }
   ],
   "source": [
    "d['name']"
   ]
  },
  {
   "cell_type": "code",
   "execution_count": 68,
   "id": "9e00b008",
   "metadata": {},
   "outputs": [
    {
     "data": {
      "text/plain": [
       "['23', '34', '45']"
      ]
     },
     "execution_count": 68,
     "metadata": {},
     "output_type": "execute_result"
    }
   ],
   "source": [
    "d['age']"
   ]
  },
  {
   "cell_type": "code",
   "execution_count": 69,
   "id": "7b000144",
   "metadata": {},
   "outputs": [
    {
     "data": {
      "text/plain": [
       "['Pkr', 'Ktm', 'Lalitpur']"
      ]
     },
     "execution_count": 69,
     "metadata": {},
     "output_type": "execute_result"
    }
   ],
   "source": [
    "d['address']"
   ]
  },
  {
   "cell_type": "code",
   "execution_count": 77,
   "id": "a3b84835",
   "metadata": {},
   "outputs": [
    {
     "name": "stdout",
     "output_type": "stream",
     "text": [
      "Sam\n",
      "23\n",
      "Pkr\n"
     ]
    }
   ],
   "source": [
    "print(d['name'][0])\n",
    "print(d['age'][0])\n",
    "print(d['address'][0])"
   ]
  },
  {
   "cell_type": "code",
   "execution_count": 80,
   "id": "813dfc6c",
   "metadata": {},
   "outputs": [
    {
     "name": "stdout",
     "output_type": "stream",
     "text": [
      "Ram\n",
      "34\n",
      "Ktm\n"
     ]
    }
   ],
   "source": [
    "print(d['name'][1])\n",
    "print(d['age'][1])\n",
    "print(d['address'][1])"
   ]
  },
  {
   "cell_type": "code",
   "execution_count": 81,
   "id": "c434faff",
   "metadata": {},
   "outputs": [
    {
     "name": "stdout",
     "output_type": "stream",
     "text": [
      "Hari\n",
      "45\n",
      "Lalitpur\n"
     ]
    }
   ],
   "source": [
    "print(d['name'][2])\n",
    "print(d['age'][2])\n",
    "print(d['address'][2])"
   ]
  },
  {
   "cell_type": "code",
   "execution_count": 84,
   "id": "73dc97cc",
   "metadata": {},
   "outputs": [
    {
     "name": "stdout",
     "output_type": "stream",
     "text": [
      "Sam\n",
      "Ram\n",
      "Hari\n"
     ]
    }
   ],
   "source": [
    "for i in d['name']:\n",
    "    print(i)"
   ]
  },
  {
   "cell_type": "code",
   "execution_count": 86,
   "id": "d91cf6a2",
   "metadata": {},
   "outputs": [
    {
     "name": "stdout",
     "output_type": "stream",
     "text": [
      "Sam\n",
      "Ram\n",
      "Hari\n"
     ]
    }
   ],
   "source": [
    "c = 0\n",
    "for i in d['name']:\n",
    "    print(i)\n",
    "    c = c+1"
   ]
  },
  {
   "cell_type": "code",
   "execution_count": 108,
   "id": "846b170f",
   "metadata": {},
   "outputs": [
    {
     "name": "stdout",
     "output_type": "stream",
     "text": [
      "0\n"
     ]
    }
   ],
   "source": [
    "c = 0\n",
    "for i in d['name']:\n",
    "    if i == 'Sam':\n",
    "        print(c)\n",
    "    c = c+1"
   ]
  },
  {
   "cell_type": "code",
   "execution_count": 105,
   "id": "e66482e1",
   "metadata": {},
   "outputs": [
    {
     "name": "stdout",
     "output_type": "stream",
     "text": [
      "Sam\n",
      "23\n",
      "Pkr\n"
     ]
    }
   ],
   "source": [
    "c = 0\n",
    "\n",
    "for i in d['name']:\n",
    "    if i == 'Sam':\n",
    "    \n",
    "        print(d['name'][c])\n",
    "        print(d['age'][c])\n",
    "        print(d['address'][c])\n",
    "    \n",
    "    c = c+1"
   ]
  },
  {
   "cell_type": "code",
   "execution_count": null,
   "id": "0cee643e",
   "metadata": {},
   "outputs": [],
   "source": []
  },
  {
   "cell_type": "code",
   "execution_count": null,
   "id": "28c6c745",
   "metadata": {},
   "outputs": [],
   "source": []
  },
  {
   "cell_type": "code",
   "execution_count": null,
   "id": "3ea338cb",
   "metadata": {},
   "outputs": [],
   "source": []
  },
  {
   "cell_type": "code",
   "execution_count": null,
   "id": "de818c9c",
   "metadata": {},
   "outputs": [],
   "source": []
  }
 ],
 "metadata": {
  "kernelspec": {
   "display_name": "Python 3 (ipykernel)",
   "language": "python",
   "name": "python3"
  },
  "language_info": {
   "codemirror_mode": {
    "name": "ipython",
    "version": 3
   },
   "file_extension": ".py",
   "mimetype": "text/x-python",
   "name": "python",
   "nbconvert_exporter": "python",
   "pygments_lexer": "ipython3",
   "version": "3.10.9"
  }
 },
 "nbformat": 4,
 "nbformat_minor": 5
}
