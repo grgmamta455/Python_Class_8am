{
 "cells": [
  {
   "cell_type": "code",
   "execution_count": 1,
   "id": "61764b24",
   "metadata": {},
   "outputs": [],
   "source": [
    "# file\n",
    "# file = open('<file.name>','<mode>')\n",
    "# file.close()\n",
    "\n",
    "# with open('<file.name>','<mode>')\n",
    "#    <operations>\n",
    "    \n",
    "# mode\n",
    "# create -> x\n",
    "# read -> r\n",
    "# write -> w\n",
    "# append -> a"
   ]
  },
  {
   "cell_type": "code",
   "execution_count": 1,
   "id": "d280261a",
   "metadata": {},
   "outputs": [
    {
     "name": "stdout",
     "output_type": "stream",
     "text": [
      "The file is already there.\n"
     ]
    }
   ],
   "source": [
    "try:\n",
    "    file = open('dataa.txt','x')\n",
    "    file.close()\n",
    "except:\n",
    "    print('The file is already there.')"
   ]
  },
  {
   "cell_type": "code",
   "execution_count": 9,
   "id": "a06f74c6",
   "metadata": {},
   "outputs": [
    {
     "name": "stdout",
     "output_type": "stream",
     "text": [
      "Hi Ktm\n",
      "Hello World\n",
      "Hello World\n",
      "Hello World\n",
      "Hello World\n"
     ]
    }
   ],
   "source": [
    "file = open('dataa.txt','r')\n",
    "x = file.read()\n",
    "print(x)\n",
    "file.close()"
   ]
  },
  {
   "cell_type": "code",
   "execution_count": 6,
   "id": "df106f39",
   "metadata": {},
   "outputs": [
    {
     "data": {
      "text/plain": [
       "str"
      ]
     },
     "execution_count": 6,
     "metadata": {},
     "output_type": "execute_result"
    }
   ],
   "source": [
    "type(x)"
   ]
  },
  {
   "cell_type": "code",
   "execution_count": 10,
   "id": "420b8dd2",
   "metadata": {},
   "outputs": [
    {
     "data": {
      "text/plain": [
       "['Hi Ktm', 'Hello World', 'Hello World', 'Hello World', 'Hello World']"
      ]
     },
     "execution_count": 10,
     "metadata": {},
     "output_type": "execute_result"
    }
   ],
   "source": [
    "x.split('\\n')"
   ]
  },
  {
   "cell_type": "code",
   "execution_count": 21,
   "id": "9a34d826",
   "metadata": {},
   "outputs": [
    {
     "data": {
      "text/plain": [
       "['Hi Ktm', 'Hello World', 'Hello World', 'Hello World', 'Hello World']"
      ]
     },
     "execution_count": 21,
     "metadata": {},
     "output_type": "execute_result"
    }
   ],
   "source": [
    "y = x.split('\\n')\n",
    "y"
   ]
  },
  {
   "cell_type": "code",
   "execution_count": 22,
   "id": "cf52a47f",
   "metadata": {},
   "outputs": [
    {
     "data": {
      "text/plain": [
       "'Hi Ktm'"
      ]
     },
     "execution_count": 22,
     "metadata": {},
     "output_type": "execute_result"
    }
   ],
   "source": [
    "y[0]"
   ]
  },
  {
   "cell_type": "code",
   "execution_count": 23,
   "id": "86da825d",
   "metadata": {},
   "outputs": [
    {
     "data": {
      "text/plain": [
       "'Hello World'"
      ]
     },
     "execution_count": 23,
     "metadata": {},
     "output_type": "execute_result"
    }
   ],
   "source": [
    "y[1]"
   ]
  },
  {
   "cell_type": "code",
   "execution_count": 24,
   "id": "f25e07f4",
   "metadata": {},
   "outputs": [
    {
     "name": "stdout",
     "output_type": "stream",
     "text": [
      "Enter a = 1\n"
     ]
    },
    {
     "data": {
      "text/plain": [
       "'Hi Ktm'"
      ]
     },
     "execution_count": 24,
     "metadata": {},
     "output_type": "execute_result"
    }
   ],
   "source": [
    "i = int(input(\"Enter a = \"))\n",
    "y[i-1]"
   ]
  },
  {
   "cell_type": "code",
   "execution_count": 2,
   "id": "e35f76af",
   "metadata": {},
   "outputs": [],
   "source": [
    "file = open('dataa.txt','w')\n",
    "file.write(\"Hi Ktm, I am xyz.\")\n",
    "file.close()"
   ]
  },
  {
   "cell_type": "code",
   "execution_count": 3,
   "id": "6dfb14e9",
   "metadata": {},
   "outputs": [
    {
     "name": "stdout",
     "output_type": "stream",
     "text": [
      "Enter n = 2\n",
      "Enter name = sdfs\n",
      "Enter price = 232\n",
      "Enter quantity = 2\n",
      "Enter name = vgnjf\n",
      "Enter price = 67\n",
      "Enter quantity = 6\n",
      "sdfs 232 2 464\n",
      "vgnjf 67 6 402\n",
      "\n"
     ]
    }
   ],
   "source": [
    "# a kind of simple data entry application\n",
    "\n",
    "bill = \"\"\n",
    "n = int(input(\"Enter n = \"))\n",
    "for i in range(n):\n",
    "    name = input(\"Enter name = \")\n",
    "    price = int(input(\"Enter price = \"))\n",
    "    quantity = int(input(\"Enter quantity = \"))\n",
    "    \n",
    "    total = price * quantity\n",
    "    data = f\"{name} {price} {quantity} {total}\\n\"\n",
    "    \n",
    "    bill = bill + data\n",
    "\n",
    "print(bill)\n",
    "\n",
    "file = open('dataa1.txt','w')\n",
    "file.write(bill)\n",
    "file.close()"
   ]
  },
  {
   "cell_type": "code",
   "execution_count": 4,
   "id": "08dd4d3c",
   "metadata": {},
   "outputs": [
    {
     "name": "stdout",
     "output_type": "stream",
     "text": [
      "Enter n = 2\n",
      "Enter name = sfgfg\n",
      "Enter price = 767\n",
      "Enter quantity = 6\n",
      "Enter name = jklh\n",
      "Enter price = 56\n",
      "Enter quantity = 7\n",
      "sfgfg 767 6 4602\n",
      "jklh 56 7 392\n",
      "\n"
     ]
    }
   ],
   "source": [
    "# appending\n",
    "\n",
    "bill = \"\"\n",
    "n = int(input(\"Enter n = \"))\n",
    "for i in range(n):\n",
    "    name = input(\"Enter name = \")\n",
    "    price = int(input(\"Enter price = \"))\n",
    "    quantity = int(input(\"Enter quantity = \"))\n",
    "    \n",
    "    total = price * quantity\n",
    "    data = f\"{name} {price} {quantity} {total}\\n\"\n",
    "    \n",
    "    bill = bill + data\n",
    "\n",
    "print(bill)\n",
    "\n",
    "file = open('dataa1.txt','a')\n",
    "file.write(bill)\n",
    "file.close()"
   ]
  },
  {
   "cell_type": "code",
   "execution_count": 5,
   "id": "de8ce702",
   "metadata": {},
   "outputs": [
    {
     "name": "stdout",
     "output_type": "stream",
     "text": [
      "sdfs 232 2 464\n",
      "vgnjf 67 6 402\n",
      "sfgfg 767 6 4602\n",
      "jklh 56 7 392\n",
      "\n"
     ]
    }
   ],
   "source": [
    "# read the above areated and appended value\n",
    "\n",
    "file = open('dataa1.txt','r')\n",
    "print(file.read())\n",
    "file.close()"
   ]
  },
  {
   "cell_type": "code",
   "execution_count": 6,
   "id": "94f1d113",
   "metadata": {},
   "outputs": [
    {
     "name": "stdout",
     "output_type": "stream",
     "text": [
      "sdfs 232 2 464\n",
      "vgnjf 67 6 402\n",
      "sfgfg 767 6 4602\n",
      "jklh 56 7 392\n",
      "\n"
     ]
    }
   ],
   "source": [
    "# read the above created and appended values \n",
    "\n",
    "file = open('dataa1.txt','r')\n",
    "x = file.read()\n",
    "print(x)\n",
    "file.close()"
   ]
  },
  {
   "cell_type": "code",
   "execution_count": 7,
   "id": "9d660e2b",
   "metadata": {},
   "outputs": [
    {
     "data": {
      "text/plain": [
       "['sdfs 232 2 464', 'vgnjf 67 6 402', 'sfgfg 767 6 4602', 'jklh 56 7 392', '']"
      ]
     },
     "execution_count": 7,
     "metadata": {},
     "output_type": "execute_result"
    }
   ],
   "source": [
    "x.split('\\n')"
   ]
  },
  {
   "cell_type": "code",
   "execution_count": 8,
   "id": "0cfa73ed",
   "metadata": {},
   "outputs": [
    {
     "data": {
      "text/plain": [
       "['sdfs 232 2 464', 'vgnjf 67 6 402', 'sfgfg 767 6 4602', 'jklh 56 7 392', '']"
      ]
     },
     "execution_count": 8,
     "metadata": {},
     "output_type": "execute_result"
    }
   ],
   "source": [
    "y = x.split('\\n')\n",
    "y"
   ]
  },
  {
   "cell_type": "code",
   "execution_count": 9,
   "id": "afa1fc25",
   "metadata": {},
   "outputs": [
    {
     "data": {
      "text/plain": [
       "'sdfs 232 2 464'"
      ]
     },
     "execution_count": 9,
     "metadata": {},
     "output_type": "execute_result"
    }
   ],
   "source": [
    "y[0]"
   ]
  },
  {
   "cell_type": "code",
   "execution_count": 10,
   "id": "355039ee",
   "metadata": {},
   "outputs": [
    {
     "data": {
      "text/plain": [
       "'vgnjf 67 6 402'"
      ]
     },
     "execution_count": 10,
     "metadata": {},
     "output_type": "execute_result"
    }
   ],
   "source": [
    "y[1]"
   ]
  },
  {
   "cell_type": "code",
   "execution_count": 11,
   "id": "0af28b24",
   "metadata": {},
   "outputs": [
    {
     "data": {
      "text/plain": [
       "['sdfs 232 2 464', 'vgnjf 67 6 402', 'sfgfg 767 6 4602', 'jklh 56 7 392']"
      ]
     },
     "execution_count": 11,
     "metadata": {},
     "output_type": "execute_result"
    }
   ],
   "source": [
    "y = x.split('\\n')[0:-1]\n",
    "y"
   ]
  },
  {
   "cell_type": "code",
   "execution_count": 12,
   "id": "fc815df4",
   "metadata": {},
   "outputs": [
    {
     "name": "stdout",
     "output_type": "stream",
     "text": [
      "['sdfs', '232', '2', '464']\n",
      "['vgnjf', '67', '6', '402']\n",
      "['sfgfg', '767', '6', '4602']\n",
      "['jklh', '56', '7', '392']\n"
     ]
    }
   ],
   "source": [
    "for i in y:\n",
    "    print(i.split())"
   ]
  },
  {
   "cell_type": "code",
   "execution_count": 28,
   "id": "883e7a65",
   "metadata": {},
   "outputs": [
    {
     "name": "stdout",
     "output_type": "stream",
     "text": [
      "['sdfs', '232', '2', '464']\n",
      "['vgnjf', '67', '6', '402']\n",
      "['sfgfg', '767', '6', '4602']\n",
      "['jklh', '56', '7', '392']\n"
     ]
    },
    {
     "data": {
      "text/plain": [
       "[]"
      ]
     },
     "execution_count": 28,
     "metadata": {},
     "output_type": "execute_result"
    }
   ],
   "source": [
    "bill = []\n",
    "\n",
    "for i in y:\n",
    "    print(i.split())\n",
    "    \n",
    "bill"
   ]
  },
  {
   "cell_type": "code",
   "execution_count": 31,
   "id": "3adf8f83",
   "metadata": {},
   "outputs": [
    {
     "data": {
      "text/plain": [
       "0"
      ]
     },
     "execution_count": 31,
     "metadata": {},
     "output_type": "execute_result"
    }
   ],
   "source": [
    "s = 0\n",
    "for i in bill:\n",
    "    s = s+ int(i[-1])\n",
    "s"
   ]
  },
  {
   "cell_type": "code",
   "execution_count": 24,
   "id": "34ee75a8",
   "metadata": {},
   "outputs": [
    {
     "name": "stdout",
     "output_type": "stream",
     "text": [
      "Enter n = 2\n",
      "Enter name = sdfs\n",
      "Enter price = 4354\n",
      "Enter quantity = 2\n",
      "Enter name = gjghj\n",
      "Enter price = 32\n",
      "Enter quantity = 56\n",
      "sdfs,4354,2,8708\n",
      "gjghj,32,56,1792\n",
      "\n"
     ]
    }
   ],
   "source": [
    "# adding column title in the table\n",
    "\n",
    "bill = \"\"\n",
    "n = int(input(\"Enter n = \"))\n",
    "for i in range(n):\n",
    "    name = input(\"Enter name = \")\n",
    "    price = int(input(\"Enter price = \"))\n",
    "    quantity = int(input(\"Enter quantity = \"))\n",
    "    \n",
    "    total = price * quantity\n",
    "    data = f\"{name},{price},{quantity},{total}\\n\"\n",
    "    \n",
    "    bill = bill + data\n",
    "\n",
    "print(bill)\n",
    "\n",
    "file = open('dataa1.csv','w')\n",
    "file.write('Name,Price,Quantity,Total\\n')\n",
    "file.write(bill)\n",
    "file.close()"
   ]
  },
  {
   "cell_type": "code",
   "execution_count": 32,
   "id": "ff35d604",
   "metadata": {},
   "outputs": [
    {
     "data": {
      "text/html": [
       "<div>\n",
       "<style scoped>\n",
       "    .dataframe tbody tr th:only-of-type {\n",
       "        vertical-align: middle;\n",
       "    }\n",
       "\n",
       "    .dataframe tbody tr th {\n",
       "        vertical-align: top;\n",
       "    }\n",
       "\n",
       "    .dataframe thead th {\n",
       "        text-align: right;\n",
       "    }\n",
       "</style>\n",
       "<table border=\"1\" class=\"dataframe\">\n",
       "  <thead>\n",
       "    <tr style=\"text-align: right;\">\n",
       "      <th></th>\n",
       "      <th>Name</th>\n",
       "      <th>Price</th>\n",
       "      <th>Quantity</th>\n",
       "      <th>Total</th>\n",
       "    </tr>\n",
       "  </thead>\n",
       "  <tbody>\n",
       "    <tr>\n",
       "      <th>0</th>\n",
       "      <td>sdfs</td>\n",
       "      <td>4354</td>\n",
       "      <td>2</td>\n",
       "      <td>8708</td>\n",
       "    </tr>\n",
       "    <tr>\n",
       "      <th>1</th>\n",
       "      <td>gjghj</td>\n",
       "      <td>32</td>\n",
       "      <td>56</td>\n",
       "      <td>1792</td>\n",
       "    </tr>\n",
       "  </tbody>\n",
       "</table>\n",
       "</div>"
      ],
      "text/plain": [
       "    Name  Price  Quantity  Total\n",
       "0   sdfs   4354         2   8708\n",
       "1  gjghj     32        56   1792"
      ]
     },
     "execution_count": 32,
     "metadata": {},
     "output_type": "execute_result"
    }
   ],
   "source": [
    "# going into pandas\n",
    "\n",
    "import pandas as pd\n",
    "df = pd.read_csv('dataa1.csv')\n",
    "df\n"
   ]
  },
  {
   "cell_type": "code",
   "execution_count": null,
   "id": "61872809",
   "metadata": {},
   "outputs": [],
   "source": []
  },
  {
   "cell_type": "code",
   "execution_count": null,
   "id": "8bff0a67",
   "metadata": {},
   "outputs": [],
   "source": []
  },
  {
   "cell_type": "code",
   "execution_count": null,
   "id": "c9fdebe1",
   "metadata": {},
   "outputs": [],
   "source": []
  },
  {
   "cell_type": "code",
   "execution_count": null,
   "id": "76d556f8",
   "metadata": {},
   "outputs": [],
   "source": []
  },
  {
   "cell_type": "code",
   "execution_count": null,
   "id": "d6aa8ece",
   "metadata": {},
   "outputs": [],
   "source": []
  },
  {
   "cell_type": "code",
   "execution_count": null,
   "id": "939fc39b",
   "metadata": {},
   "outputs": [],
   "source": []
  }
 ],
 "metadata": {
  "kernelspec": {
   "display_name": "Python 3 (ipykernel)",
   "language": "python",
   "name": "python3"
  },
  "language_info": {
   "codemirror_mode": {
    "name": "ipython",
    "version": 3
   },
   "file_extension": ".py",
   "mimetype": "text/x-python",
   "name": "python",
   "nbconvert_exporter": "python",
   "pygments_lexer": "ipython3",
   "version": "3.10.9"
  }
 },
 "nbformat": 4,
 "nbformat_minor": 5
}
