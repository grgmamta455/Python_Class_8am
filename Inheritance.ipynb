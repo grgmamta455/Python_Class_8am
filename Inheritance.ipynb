{
 "cells": [
  {
   "cell_type": "code",
   "execution_count": 1,
   "id": "a4ae521a",
   "metadata": {},
   "outputs": [],
   "source": [
    "class A:\n",
    "    pass\n",
    "class B:\n",
    "    pass\n",
    "\n",
    "obj = B()"
   ]
  },
  {
   "cell_type": "code",
   "execution_count": 2,
   "id": "774f612c",
   "metadata": {},
   "outputs": [
    {
     "name": "stdout",
     "output_type": "stream",
     "text": [
      "Enter name = Ram\n",
      "Enter address = Pokhara\n",
      "Ram Pokhara\n",
      "Hello World I am Ram. I am from Pokhara\n"
     ]
    }
   ],
   "source": [
    "class Data:                                                  # class A:\n",
    "    def __init__(self):\n",
    "        self.name = input(\"Enter name = \")\n",
    "        self.address = input(\"Enter address = \")\n",
    "    def data(self):\n",
    "        print(self.name,self.address)\n",
    "        \n",
    "class Info(Data):                                           # class B(A):\n",
    "    def info(self):\n",
    "        print(f\"Hello World I am {self.name}. I am from {self.address}\")\n",
    "        \n",
    "obj = Info()\n",
    "obj.data()\n",
    "obj.info()"
   ]
  },
  {
   "cell_type": "code",
   "execution_count": 4,
   "id": "554be60a",
   "metadata": {},
   "outputs": [
    {
     "name": "stdout",
     "output_type": "stream",
     "text": [
      "Enter nameMamta\n",
      "Enter addressPokhara\n",
      "Mamta Pokhara\n",
      "Hello World I am Mamta.I am from Pokhara.\n"
     ]
    }
   ],
   "source": [
    "class Data:                                           # class A:\n",
    "    def __init__(self,name,address):\n",
    "        self.name = name\n",
    "        self.address = address\n",
    "        \n",
    "        \n",
    "    def data(self):                                 \n",
    "        print(self.name,self.address)\n",
    "        \n",
    "class Info(Data):                                     #class B(A):              \n",
    "    def info(self):\n",
    "        print(f\"Hello World I am {self.name}.I am from {self.address}.\")\n",
    "        \n",
    "name = input(\"Enter name\")\n",
    "address = input(\"Enter address\")\n",
    "\n",
    "obj = Info(name,address)\n",
    "obj.data()\n",
    "obj.info()"
   ]
  },
  {
   "cell_type": "code",
   "execution_count": 11,
   "id": "0cfef426",
   "metadata": {},
   "outputs": [
    {
     "name": "stdout",
     "output_type": "stream",
     "text": [
      "Enter name = jh\n",
      "Enter address = k\n",
      "jh k\n",
      "Hello World I am jh.I am from k\n"
     ]
    }
   ],
   "source": [
    "class Data:\n",
    "    def __init__(self,address):\n",
    "        self.address = address    \n",
    "        \n",
    "    def data(self):\n",
    "        print(self.name,self.address)\n",
    "        \n",
    "class Info(Data):\n",
    "    def __init__(self,name,address):\n",
    "        self.name = name\n",
    "        Data.__init__(self,address)\n",
    "        \n",
    "    def info(self):\n",
    "        print(f\"Hello World I am {self.name}.I am from {self.address}\")\n",
    "        \n",
    "name = input(\"Enter name = \")\n",
    "address = input(\"Enter address = \")\n",
    "obj = Info(name,address)\n",
    "\n",
    "obj.data()\n",
    "obj.info()"
   ]
  },
  {
   "cell_type": "code",
   "execution_count": null,
   "id": "c02e2f62",
   "metadata": {},
   "outputs": [],
   "source": [
    "# multilevel inheritance\n",
    "\n",
    "class A:\n",
    "    pass\n",
    "class B(A):\n",
    "    pass\n",
    "class C(B):\n",
    "    pass\n",
    "\n",
    "obj = C()"
   ]
  },
  {
   "cell_type": "code",
   "execution_count": null,
   "id": "a25d79c4",
   "metadata": {},
   "outputs": [],
   "source": [
    "# multiple inheritance\n",
    "\n",
    "class A:\n",
    "    pass\n",
    "class B:\n",
    "    pass\n",
    "\n",
    "class C(A,B):\n",
    "    pass\n",
    "\n",
    "obj = C()\n"
   ]
  },
  {
   "cell_type": "code",
   "execution_count": 12,
   "id": "274387b8",
   "metadata": {},
   "outputs": [
    {
     "name": "stdout",
     "output_type": "stream",
     "text": [
      "Enter name = kjhk\n",
      "Enter address = lk\n",
      "Enter age = 77\n",
      "kjhk lk\n",
      "Hello World I am kjhk.I am from lk.I am 77.\n"
     ]
    }
   ],
   "source": [
    "# multilevel inheritance\n",
    "\n",
    "class Age:                                     # class A:\n",
    "    def __init__(self,age):\n",
    "        self.age = age\n",
    "        \n",
    "class Data(Age):                               #class B(A):\n",
    "    def __init__(self,age,address):\n",
    "        self.address = address    \n",
    "        \n",
    "        Age.__init__(self,age)\n",
    "        \n",
    "    def data(self):\n",
    "        print(self.name,self.address)\n",
    "        \n",
    "class Info(Data):                             # class C(B):\n",
    "    def __init__(self,name,address,age):\n",
    "        self.name = name\n",
    "        \n",
    "        Data.__init__(self,address,age)\n",
    "        \n",
    "    def info(self):\n",
    "        print(f\"Hello World I am {self.name}.I am from {self.address}.I am {self.age}.\")\n",
    "        \n",
    "name = input(\"Enter name = \")\n",
    "address = input(\"Enter address = \")\n",
    "age = input(\"Enter age = \")\n",
    "obj = Info(name,age,address)\n",
    "\n",
    "obj.data()\n",
    "obj.info()"
   ]
  },
  {
   "cell_type": "code",
   "execution_count": 3,
   "id": "ababebb8",
   "metadata": {},
   "outputs": [
    {
     "name": "stdout",
     "output_type": "stream",
     "text": [
      "Enter name = Mamta\n",
      "Enter address = Pokhara\n",
      "Enter age = 22\n",
      "Mamta Pokhara\n",
      "Hello World I am Mamta.I am from Pokhara.I am 22.\n"
     ]
    }
   ],
   "source": [
    "# multiple inheritance\n",
    "\n",
    "# multilevel inheritance\n",
    "\n",
    "class Age:                                     # class A:\n",
    "    def __init__(self,age):\n",
    "        self.age = age\n",
    "        \n",
    "    def age(self):\n",
    "        print(self.age)\n",
    "        \n",
    "class Address:                               #class B:\n",
    "    def __init__(self,address):\n",
    "        self.address = address    \n",
    "        \n",
    "    def data(self):\n",
    "        print(self.name,self.address)\n",
    "        \n",
    "class Info(Age,Address):                             # class C(A,B):\n",
    "    def __init__(self,name,address,age):\n",
    "        self.name = name\n",
    "        \n",
    "        Age.__init__(self,age)\n",
    "        Address.__init__(self,address) \n",
    "        \n",
    "    def info(self):\n",
    "        print(f\"Hello World I am {self.name}.I am from {self.address}.I am {self.age}.\")\n",
    "        \n",
    "name = input(\"Enter name = \")\n",
    "address = input(\"Enter address = \")\n",
    "age = input(\"Enter age = \")\n",
    "\n",
    "obj = Info(name,address,age)\n",
    "obj.data()\n",
    "obj.info()"
   ]
  },
  {
   "cell_type": "code",
   "execution_count": 8,
   "id": "f796bb2b",
   "metadata": {},
   "outputs": [
    {
     "name": "stdout",
     "output_type": "stream",
     "text": [
      "Enter name = Ram \n",
      "Enter address = Pokhara\n",
      "Ram  Pokhara\n"
     ]
    }
   ],
   "source": [
    "class Data:\n",
    "    def __init__(self):\n",
    "        self.name = input(\"Enter name = \")\n",
    "        self.address = input(\"Enter address = \")\n",
    "#    def data(self):\n",
    "#       print(self.name,self.address)\n",
    "        \n",
    "#class Info(Data):\n",
    "#   def info(self):\n",
    "#       print(f\"Hello World I am {self.name}.I am from {self.address}\")\n",
    "        \n",
    "obj = Data()\n",
    "#obj.data()\n",
    "#obj.info()\n",
    "print(obj.name,obj.address)"
   ]
  },
  {
   "cell_type": "code",
   "execution_count": null,
   "id": "f5804a62",
   "metadata": {},
   "outputs": [],
   "source": [
    "\n"
   ]
  },
  {
   "cell_type": "code",
   "execution_count": null,
   "id": "912b05e9",
   "metadata": {},
   "outputs": [],
   "source": []
  },
  {
   "cell_type": "code",
   "execution_count": null,
   "id": "07930ac3",
   "metadata": {},
   "outputs": [],
   "source": []
  },
  {
   "cell_type": "code",
   "execution_count": null,
   "id": "a241363b",
   "metadata": {},
   "outputs": [],
   "source": []
  },
  {
   "cell_type": "code",
   "execution_count": null,
   "id": "fccdb169",
   "metadata": {},
   "outputs": [],
   "source": []
  },
  {
   "cell_type": "code",
   "execution_count": null,
   "id": "17d52879",
   "metadata": {},
   "outputs": [],
   "source": []
  },
  {
   "cell_type": "code",
   "execution_count": null,
   "id": "38bd8145",
   "metadata": {},
   "outputs": [],
   "source": []
  },
  {
   "cell_type": "code",
   "execution_count": null,
   "id": "de8bb303",
   "metadata": {},
   "outputs": [],
   "source": []
  },
  {
   "cell_type": "code",
   "execution_count": null,
   "id": "9e1d7b2f",
   "metadata": {},
   "outputs": [],
   "source": []
  },
  {
   "cell_type": "code",
   "execution_count": null,
   "id": "016f131a",
   "metadata": {},
   "outputs": [],
   "source": []
  },
  {
   "cell_type": "code",
   "execution_count": null,
   "id": "10e44847",
   "metadata": {},
   "outputs": [],
   "source": []
  },
  {
   "cell_type": "code",
   "execution_count": null,
   "id": "5b3466f8",
   "metadata": {},
   "outputs": [],
   "source": []
  },
  {
   "cell_type": "code",
   "execution_count": null,
   "id": "8b560b84",
   "metadata": {},
   "outputs": [],
   "source": []
  },
  {
   "cell_type": "code",
   "execution_count": null,
   "id": "facaedb2",
   "metadata": {},
   "outputs": [],
   "source": []
  },
  {
   "cell_type": "code",
   "execution_count": null,
   "id": "97ac0f07",
   "metadata": {},
   "outputs": [],
   "source": []
  },
  {
   "cell_type": "code",
   "execution_count": null,
   "id": "d0c2408b",
   "metadata": {},
   "outputs": [],
   "source": []
  },
  {
   "cell_type": "code",
   "execution_count": null,
   "id": "2cc56aa4",
   "metadata": {},
   "outputs": [],
   "source": []
  },
  {
   "cell_type": "code",
   "execution_count": null,
   "id": "91872ba7",
   "metadata": {},
   "outputs": [],
   "source": []
  },
  {
   "cell_type": "code",
   "execution_count": null,
   "id": "45aa090f",
   "metadata": {},
   "outputs": [],
   "source": []
  },
  {
   "cell_type": "code",
   "execution_count": null,
   "id": "156e3ecf",
   "metadata": {},
   "outputs": [],
   "source": []
  },
  {
   "cell_type": "code",
   "execution_count": null,
   "id": "196d6b5a",
   "metadata": {},
   "outputs": [],
   "source": []
  },
  {
   "cell_type": "code",
   "execution_count": null,
   "id": "25ad5c97",
   "metadata": {},
   "outputs": [],
   "source": []
  },
  {
   "cell_type": "code",
   "execution_count": null,
   "id": "24846f00",
   "metadata": {},
   "outputs": [],
   "source": []
  },
  {
   "cell_type": "code",
   "execution_count": null,
   "id": "97c78f15",
   "metadata": {},
   "outputs": [],
   "source": []
  },
  {
   "cell_type": "code",
   "execution_count": null,
   "id": "225df3cf",
   "metadata": {},
   "outputs": [],
   "source": []
  },
  {
   "cell_type": "code",
   "execution_count": null,
   "id": "480f9b67",
   "metadata": {},
   "outputs": [],
   "source": []
  },
  {
   "cell_type": "code",
   "execution_count": null,
   "id": "baf65578",
   "metadata": {},
   "outputs": [],
   "source": []
  },
  {
   "cell_type": "code",
   "execution_count": null,
   "id": "de6903c3",
   "metadata": {},
   "outputs": [],
   "source": []
  },
  {
   "cell_type": "code",
   "execution_count": null,
   "id": "aa2db6a8",
   "metadata": {},
   "outputs": [],
   "source": []
  },
  {
   "cell_type": "code",
   "execution_count": null,
   "id": "25bea676",
   "metadata": {},
   "outputs": [],
   "source": []
  },
  {
   "cell_type": "code",
   "execution_count": null,
   "id": "3200faf7",
   "metadata": {},
   "outputs": [],
   "source": []
  },
  {
   "cell_type": "code",
   "execution_count": null,
   "id": "71d80f14",
   "metadata": {},
   "outputs": [],
   "source": []
  },
  {
   "cell_type": "code",
   "execution_count": null,
   "id": "6e3a0cd0",
   "metadata": {},
   "outputs": [],
   "source": []
  },
  {
   "cell_type": "code",
   "execution_count": null,
   "id": "4b1d5976",
   "metadata": {},
   "outputs": [],
   "source": []
  },
  {
   "cell_type": "code",
   "execution_count": null,
   "id": "c52df10c",
   "metadata": {},
   "outputs": [],
   "source": []
  },
  {
   "cell_type": "code",
   "execution_count": null,
   "id": "091849d2",
   "metadata": {},
   "outputs": [],
   "source": []
  },
  {
   "cell_type": "code",
   "execution_count": null,
   "id": "86e45c89",
   "metadata": {},
   "outputs": [],
   "source": []
  },
  {
   "cell_type": "code",
   "execution_count": null,
   "id": "60412d58",
   "metadata": {},
   "outputs": [],
   "source": []
  }
 ],
 "metadata": {
  "kernelspec": {
   "display_name": "Python 3 (ipykernel)",
   "language": "python",
   "name": "python3"
  },
  "language_info": {
   "codemirror_mode": {
    "name": "ipython",
    "version": 3
   },
   "file_extension": ".py",
   "mimetype": "text/x-python",
   "name": "python",
   "nbconvert_exporter": "python",
   "pygments_lexer": "ipython3",
   "version": "3.10.9"
  }
 },
 "nbformat": 4,
 "nbformat_minor": 5
}
