{
 "cells": [
  {
   "cell_type": "code",
   "execution_count": 1,
   "id": "e69776ce",
   "metadata": {},
   "outputs": [],
   "source": [
    "# tuples and set\n",
    "#-indexing\n",
    "#-ordered\n",
    "#-multiple and duplicate data\n",
    "#-immutable"
   ]
  },
  {
   "cell_type": "code",
   "execution_count": 2,
   "id": "365c7a84",
   "metadata": {},
   "outputs": [
    {
     "name": "stdout",
     "output_type": "stream",
     "text": [
      "<class 'tuple'>\n",
      "<class 'tuple'>\n"
     ]
    }
   ],
   "source": [
    "a = (1,2,3)\n",
    "b = (\"Apple\",\"BAll\",\"Cat\")\n",
    "print(type(a))\n",
    "print(type(b))\n"
   ]
  },
  {
   "cell_type": "code",
   "execution_count": 3,
   "id": "fc9a027d",
   "metadata": {},
   "outputs": [
    {
     "data": {
      "text/plain": [
       "tuple"
      ]
     },
     "execution_count": 3,
     "metadata": {},
     "output_type": "execute_result"
    }
   ],
   "source": [
    "a = (1,)    # , is necessary\n",
    "type(a)"
   ]
  },
  {
   "cell_type": "code",
   "execution_count": 7,
   "id": "affb2e7c",
   "metadata": {},
   "outputs": [],
   "source": [
    "a = tuple()   # once tuple is defined , we cannot change like we change the list\n"
   ]
  },
  {
   "cell_type": "code",
   "execution_count": 1,
   "id": "857e4616",
   "metadata": {},
   "outputs": [
    {
     "name": "stdout",
     "output_type": "stream",
     "text": [
      "Ball\n",
      "('Apple', 'Ball', 'Cat', 1, 2)\n",
      "('Apple', 1, 4)\n"
     ]
    }
   ],
   "source": [
    "b = (\"Apple\",\"Ball\",\"Cat\",1,2,3,4,5)\n",
    "print(b[1])\n",
    "print(b[0:5])\n",
    "print(b[0:8:3])\n"
   ]
  },
  {
   "cell_type": "code",
   "execution_count": 11,
   "id": "11181c35",
   "metadata": {},
   "outputs": [
    {
     "name": "stdout",
     "output_type": "stream",
     "text": [
      "Ball\n",
      "('Apple', 'Ball', 'Cat', 1, 2)\n",
      "('Apple', 'Cat', 2, 4)\n"
     ]
    }
   ],
   "source": [
    "b = (\"Apple\",\"Ball\",\"Cat\",1,2,3,4,5,5)     # it takes duplicate data\n",
    "print(b[1])\n",
    "print(b[0:5])\n",
    "print(b[0:8:2])"
   ]
  },
  {
   "cell_type": "code",
   "execution_count": 12,
   "id": "fcd3ab17",
   "metadata": {},
   "outputs": [],
   "source": [
    "# min max sum"
   ]
  },
  {
   "cell_type": "code",
   "execution_count": null,
   "id": "355abfb3",
   "metadata": {},
   "outputs": [],
   "source": [
    "# imutable\n",
    "\n",
    "# once a tuple is created, we cannot perfrom the below statements\n",
    "\n",
    "# - not alloweed to create\n",
    "# - not allowed to append(), insert(), extend(), delete()\n",
    "# del remove() pop()\n",
    "# no update\n",
    "# no sort"
   ]
  },
  {
   "cell_type": "code",
   "execution_count": 13,
   "id": "1e7c3a56",
   "metadata": {},
   "outputs": [
    {
     "name": "stdout",
     "output_type": "stream",
     "text": [
      "(1, 2, 3, 4, 5, 6, 7)\n"
     ]
    }
   ],
   "source": [
    "a = (1,2,3,4)     # we can concat\n",
    "b = (5,6,7)\n",
    "c = a + b\n",
    "print(c)"
   ]
  },
  {
   "cell_type": "code",
   "execution_count": 16,
   "id": "fbba83e7",
   "metadata": {},
   "outputs": [
    {
     "data": {
      "text/plain": [
       "(1,)"
      ]
     },
     "execution_count": 16,
     "metadata": {},
     "output_type": "execute_result"
    }
   ],
   "source": [
    "a = ()\n",
    "b = (1,)\n",
    "a = a + b\n",
    "a"
   ]
  },
  {
   "cell_type": "code",
   "execution_count": 2,
   "id": "d38e4e29",
   "metadata": {},
   "outputs": [
    {
     "name": "stdout",
     "output_type": "stream",
     "text": [
      "Enter n = 4\n",
      "Enter x = fdggfh\n",
      "('fdggfh',)\n",
      "Enter x = rettry\n",
      "('fdggfh', 'rettry')\n",
      "Enter x = fghfgh\n",
      "('fdggfh', 'rettry', 'fghfgh')\n",
      "Enter x = rtyrt\n",
      "('fdggfh', 'rettry', 'fghfgh', 'rtyrt')\n"
     ]
    }
   ],
   "source": [
    "t = ()\n",
    "\n",
    "n = int(input(\"Enter n = \"))\n",
    "for i in range(n):\n",
    "    x = input(\"Enter x = \")\n",
    "    t = t + (x,)\n",
    "    print(t)"
   ]
  },
  {
   "cell_type": "code",
   "execution_count": 4,
   "id": "f40612ca",
   "metadata": {},
   "outputs": [
    {
     "name": "stdout",
     "output_type": "stream",
     "text": [
      "987\n",
      "234\n",
      "4157\n"
     ]
    }
   ],
   "source": [
    "a = (234,546,343,567,457,789,234,987)\n",
    "print(max(a))\n",
    "print(min(a))\n",
    "print(sum(a))\n"
   ]
  },
  {
   "cell_type": "code",
   "execution_count": 5,
   "id": "3a87cfb8",
   "metadata": {},
   "outputs": [
    {
     "data": {
      "text/plain": [
       "[234, 546, 343, 567, 457, 789, 234, 987]"
      ]
     },
     "execution_count": 5,
     "metadata": {},
     "output_type": "execute_result"
    }
   ],
   "source": [
    "a = (234,546,343,567,457,789,234,987)\n",
    "b = list(a)\n",
    "b"
   ]
  },
  {
   "cell_type": "code",
   "execution_count": 7,
   "id": "793b8e23",
   "metadata": {},
   "outputs": [
    {
     "data": {
      "text/plain": [
       "(546, 343, 567, 457, 789, 234, 987)"
      ]
     },
     "execution_count": 7,
     "metadata": {},
     "output_type": "execute_result"
    }
   ],
   "source": [
    "a = (234,546,343,567,457,789,234,987)\n",
    "b = list(a)\n",
    "del b[0]\n",
    "a = tuple(b)       # value of index 0 will be deleted\n",
    "a                 "
   ]
  },
  {
   "cell_type": "code",
   "execution_count": 8,
   "id": "f3ed1cb9",
   "metadata": {},
   "outputs": [
    {
     "data": {
      "text/plain": [
       "((1, 2, 3), (4, 5, 6), (7, 8, 9))"
      ]
     },
     "execution_count": 8,
     "metadata": {},
     "output_type": "execute_result"
    }
   ],
   "source": [
    "# tuple inside tuple\n",
    "\n",
    "a = ((1,2,3),\n",
    "     (4,5,6),\n",
    "     (7,8,9))\n",
    "a"
   ]
  },
  {
   "cell_type": "code",
   "execution_count": 1,
   "id": "71fe3ba5",
   "metadata": {
    "scrolled": true
   },
   "outputs": [
    {
     "name": "stdout",
     "output_type": "stream",
     "text": [
      "Enter n = 3\n",
      "Enter name = Sam\n",
      "Enter age = 22\n",
      "Enter address = Pkr\n",
      "Enter name = Ram\n",
      "Enter age = 33\n",
      "Enter address = Ktm\n",
      "Enter name = Hari\n",
      "Enter age = 33\n",
      "Enter address = Lalitpur\n"
     ]
    },
    {
     "data": {
      "text/plain": [
       "(('Sam', 22, 'Pkr'), ('Ram', 33, 'Ktm'), ('Hari', 33, 'Lalitpur'))"
      ]
     },
     "execution_count": 1,
     "metadata": {},
     "output_type": "execute_result"
    }
   ],
   "source": [
    "# creating tuple inside tuple\n",
    "\n",
    "info = ()\n",
    "n = int(input(\"Enter n = \"))\n",
    "\n",
    "for i in range(n):\n",
    "    name = input(\"Enter name = \")\n",
    "    age = int(input(\"Enter age = \"))\n",
    "    \n",
    "    address = input(\"Enter address = \")\n",
    "    \n",
    "    info = info + ((name,age,address),)\n",
    "info"
   ]
  },
  {
   "cell_type": "code",
   "execution_count": 3,
   "id": "32888cbf",
   "metadata": {},
   "outputs": [
    {
     "name": "stdout",
     "output_type": "stream",
     "text": [
      "['Sam', 22, 'Pkr']\n",
      "['Ram', 33, 'Ktm']\n",
      "['Hari', 33, 'Lalitpur']\n"
     ]
    }
   ],
   "source": [
    "a = (('Sam', 22, 'Pkr'), ('Ram', 33, 'Ktm'), ('Hari', 33, 'Lalitpur'))\n",
    "for i in a:\n",
    "    print(list(i))"
   ]
  },
  {
   "cell_type": "code",
   "execution_count": 3,
   "id": "ee61774d",
   "metadata": {},
   "outputs": [
    {
     "data": {
      "text/plain": [
       "[['Sam', 22, 'Pkr'], ['Ram', 33, 'Ktm'], ['Hari', 33, 'Lalitpur']]"
      ]
     },
     "execution_count": 3,
     "metadata": {},
     "output_type": "execute_result"
    }
   ],
   "source": [
    "\n",
    "l = []\n",
    "a = (('Sam', 22, 'Pkr'), ('Ram', 33, 'Ktm'), ('Hari', 33, 'Lalitpur'))\n",
    "for i in a:\n",
    "    l.append(list(i))\n",
    "l"
   ]
  },
  {
   "cell_type": "code",
   "execution_count": null,
   "id": "b35682c5",
   "metadata": {},
   "outputs": [],
   "source": [
    "# WAP to convert list inside list to tuple inside tuple"
   ]
  },
  {
   "cell_type": "code",
   "execution_count": 4,
   "id": "996098f6",
   "metadata": {},
   "outputs": [],
   "source": [
    "# det\n",
    "# - no indexing\n",
    "# - multiple but no duplicate data\n",
    "# - unordered\n",
    "# - mutable"
   ]
  },
  {
   "cell_type": "code",
   "execution_count": 5,
   "id": "f07bc303",
   "metadata": {},
   "outputs": [
    {
     "data": {
      "text/plain": [
       "set"
      ]
     },
     "execution_count": 5,
     "metadata": {},
     "output_type": "execute_result"
    }
   ],
   "source": [
    "s = {1,2,3,4,5,6,7}\n",
    "type(s)"
   ]
  },
  {
   "cell_type": "code",
   "execution_count": 6,
   "id": "cbe2214f",
   "metadata": {},
   "outputs": [
    {
     "data": {
      "text/plain": [
       "set"
      ]
     },
     "execution_count": 6,
     "metadata": {},
     "output_type": "execute_result"
    }
   ],
   "source": [
    "s = {1}\n",
    "type(s)"
   ]
  },
  {
   "cell_type": "code",
   "execution_count": 11,
   "id": "ad61ea67",
   "metadata": {},
   "outputs": [
    {
     "name": "stdout",
     "output_type": "stream",
     "text": [
      "{'Apple', 'Dog', 'Fish', 'Cat', 'Ball'}\n"
     ]
    }
   ],
   "source": [
    "s = {\"Apple\",\"Ball\",\"Cat\",\"Dog\",\"Fish\"}\n",
    "print(s)       # unordered data type"
   ]
  },
  {
   "cell_type": "code",
   "execution_count": 12,
   "id": "fd4ee283",
   "metadata": {},
   "outputs": [
    {
     "name": "stdout",
     "output_type": "stream",
     "text": [
      "{324, 213, 789, 23, 456, 687}\n"
     ]
    }
   ],
   "source": [
    "s = {23,456,687,324,789,213,}\n",
    "print(s)     # unordered data type"
   ]
  },
  {
   "cell_type": "code",
   "execution_count": 19,
   "id": "86f215ae",
   "metadata": {},
   "outputs": [
    {
     "ename": "TypeError",
     "evalue": "'set' object is not subscriptable",
     "output_type": "error",
     "traceback": [
      "\u001b[1;31m---------------------------------------------------------------------------\u001b[0m",
      "\u001b[1;31mTypeError\u001b[0m                                 Traceback (most recent call last)",
      "Cell \u001b[1;32mIn[19], line 2\u001b[0m\n\u001b[0;32m      1\u001b[0m s \u001b[38;5;241m=\u001b[39m {\u001b[38;5;124m\"\u001b[39m\u001b[38;5;124mApple\u001b[39m\u001b[38;5;124m\"\u001b[39m,\u001b[38;5;124m\"\u001b[39m\u001b[38;5;124mBall\u001b[39m\u001b[38;5;124m\"\u001b[39m,\u001b[38;5;124m\"\u001b[39m\u001b[38;5;124mCat\u001b[39m\u001b[38;5;124m\"\u001b[39m,\u001b[38;5;124m\"\u001b[39m\u001b[38;5;124mDog\u001b[39m\u001b[38;5;124m\"\u001b[39m,\u001b[38;5;124m\"\u001b[39m\u001b[38;5;124mFish\u001b[39m\u001b[38;5;124m\"\u001b[39m}\n\u001b[1;32m----> 2\u001b[0m \u001b[43ms\u001b[49m\u001b[43m[\u001b[49m\u001b[38;5;241;43m0\u001b[39;49m\u001b[43m]\u001b[49m\n",
      "\u001b[1;31mTypeError\u001b[0m: 'set' object is not subscriptable"
     ]
    }
   ],
   "source": [
    "s = {\"Apple\",\"Ball\",\"Cat\",\"Dog\",\"Fish\"}\n",
    "s[0]    # it doesn't have any specific order, so error is generated"
   ]
  },
  {
   "cell_type": "code",
   "execution_count": 20,
   "id": "c5edfe4a",
   "metadata": {},
   "outputs": [
    {
     "data": {
      "text/plain": [
       "{'Apple', 'Ball', 'Cat', 'Dog', 'Fish'}"
      ]
     },
     "execution_count": 20,
     "metadata": {},
     "output_type": "execute_result"
    }
   ],
   "source": [
    "s = {\"Apple\",\"Ball\",\"Cat\",\"Dog\",\"Fish\",\"Apple\",\"Ball\"}\n",
    "s"
   ]
  },
  {
   "cell_type": "code",
   "execution_count": 15,
   "id": "51ef738e",
   "metadata": {},
   "outputs": [],
   "source": [
    "# add(), update(), remove()"
   ]
  },
  {
   "cell_type": "code",
   "execution_count": 21,
   "id": "5a270954",
   "metadata": {},
   "outputs": [
    {
     "name": "stdout",
     "output_type": "stream",
     "text": [
      "Apple\n",
      "Dog\n",
      "Fish\n",
      "Cat\n",
      "Ball\n"
     ]
    }
   ],
   "source": [
    "s = {\"Apple\",\"Ball\",\"Cat\",\"Dog\",\"Fish\",\"Apple\",\"Ball\"}\n",
    "for i in s:\n",
    "    print(i)     # it gives value in unorderd format "
   ]
  },
  {
   "cell_type": "code",
   "execution_count": 22,
   "id": "1ae17bae",
   "metadata": {},
   "outputs": [
    {
     "data": {
      "text/plain": [
       "{1, 2, 3, 4}"
      ]
     },
     "execution_count": 22,
     "metadata": {},
     "output_type": "execute_result"
    }
   ],
   "source": [
    "# adding\n",
    "\n",
    "s = {1,2,3}\n",
    "s.add(4)     # adding\n",
    "s"
   ]
  },
  {
   "cell_type": "code",
   "execution_count": 24,
   "id": "e8fcc3a2",
   "metadata": {},
   "outputs": [
    {
     "data": {
      "text/plain": [
       "{1, 2, 3, 4, 5, 6, 7}"
      ]
     },
     "execution_count": 24,
     "metadata": {},
     "output_type": "execute_result"
    }
   ],
   "source": [
    "# update\n",
    "\n",
    "s = {1,2,3,4}\n",
    "a = {5,6,7}\n",
    "s.update(a)\n",
    "s"
   ]
  },
  {
   "cell_type": "code",
   "execution_count": 25,
   "id": "b016df01",
   "metadata": {},
   "outputs": [
    {
     "data": {
      "text/plain": [
       "{1, 3, 4, 5, 6, 7}"
      ]
     },
     "execution_count": 25,
     "metadata": {},
     "output_type": "execute_result"
    }
   ],
   "source": [
    "# remove\n",
    "\n",
    "s = {1, 2, 3, 4, 5, 6, 7}\n",
    "s.remove(2)          # value 2 is removed\n",
    "s"
   ]
  },
  {
   "cell_type": "code",
   "execution_count": 30,
   "id": "b8646211",
   "metadata": {},
   "outputs": [
    {
     "name": "stdout",
     "output_type": "stream",
     "text": [
      "{'John', 'Mike'}\n",
      "{'Ram', 'Sabin', 'Sam', 'Steve', 'Gates', 'Jobs', 'John', 'Hari', 'Bill', 'Mike', 'William'}\n"
     ]
    }
   ],
   "source": [
    "apple = {\"Ram\",\"Jobs\",\"Steve\",\"John\",\"Sabin\",\"Sam\",\"Mike\"}\n",
    "ms = {\"Bill\",\"Gates\",\"William\",\"Mike\",\"Hari\",\"John\"}\n",
    "\n",
    "i = apple.intersection(ms)        # using intersection\n",
    "print(i)\n",
    "\n",
    "un = apple.union(ms)              # using union\n",
    "print(un)"
   ]
  },
  {
   "cell_type": "code",
   "execution_count": 31,
   "id": "37001b8c",
   "metadata": {},
   "outputs": [
    {
     "name": "stdout",
     "output_type": "stream",
     "text": [
      "{'Ram', 'Sabin', 'Sam', 'Steve', 'Gates', 'Jobs', 'John', 'Hari', 'Bill', 'Mike', 'William'}\n"
     ]
    }
   ],
   "source": [
    "apple = {\"Ram\",\"Jobs\",\"Steve\",\"John\",\"Sabin\",\"Sam\",\"Mike\"}\n",
    "ms = {\"Bill\",\"Gates\",\"William\",\"Mike\",\"Hari\",\"John\"}\n",
    "\n",
    "i = apple.union(ms)\n",
    "print(i)"
   ]
  },
  {
   "cell_type": "code",
   "execution_count": 35,
   "id": "84e9f3e8",
   "metadata": {},
   "outputs": [
    {
     "name": "stdout",
     "output_type": "stream",
     "text": [
      "{'John', 'Mike'}\n",
      "{'Ram', 'Sabin', 'Sam', 'Steve', 'Gates', 'Jobs', 'John', 'Hari', 'Bill', 'Mike', 'William'}\n",
      "{'Ram', 'Sabin', 'Sam', 'Steve', 'Jobs'}\n",
      "{'Gates', 'Hari', 'Bill', 'William'}\n",
      "{'xyz', 'abc'}\n"
     ]
    }
   ],
   "source": [
    "U = {'xyz','abc','Ram', 'Sabin', 'Sam', 'Steve', 'Gates', 'Jobs', 'John', 'Hari', 'Bill', 'Mike', 'William'}\n",
    "\n",
    "apple = {\"Ram\",\"Jobs\",\"Steve\",\"John\",\"Sabin\",\"Sam\",\"Mike\"}\n",
    "ms = {\"Bill\",\"Gates\",\"William\",\"Mike\",\"Hari\",\"John\"}\n",
    "\n",
    "i = apple.intersection(ms)        # using intersection\n",
    "print(i)\n",
    "\n",
    "un = apple.union(ms)              # using union\n",
    "print(un)\n",
    "\n",
    "print(apple-ms)        \n",
    "\n",
    "print(ms-apple)\n",
    "\n",
    "print(U-un)   # prints value not belonging to both (apple) and (ms)\n"
   ]
  },
  {
   "cell_type": "code",
   "execution_count": 36,
   "id": "c7fb9b9d",
   "metadata": {},
   "outputs": [
    {
     "ename": "TypeError",
     "evalue": "unhashable type: 'list'",
     "output_type": "error",
     "traceback": [
      "\u001b[1;31m---------------------------------------------------------------------------\u001b[0m",
      "\u001b[1;31mTypeError\u001b[0m                                 Traceback (most recent call last)",
      "Cell \u001b[1;32mIn[36], line 4\u001b[0m\n\u001b[0;32m      1\u001b[0m \u001b[38;5;66;03m# only immutable inside\u001b[39;00m\n\u001b[0;32m      2\u001b[0m \u001b[38;5;66;03m# we can never keep list inside set\u001b[39;00m\n\u001b[0;32m      3\u001b[0m \u001b[38;5;66;03m# we can never keep \u001b[39;00m\n\u001b[1;32m----> 4\u001b[0m s \u001b[38;5;241m=\u001b[39m {[\u001b[38;5;241m1\u001b[39m,\u001b[38;5;241m2\u001b[39m,\u001b[38;5;241m3\u001b[39m],[\u001b[38;5;241m4\u001b[39m,\u001b[38;5;241m5\u001b[39m,\u001b[38;5;241m6\u001b[39m]}\n\u001b[0;32m      5\u001b[0m s\n",
      "\u001b[1;31mTypeError\u001b[0m: unhashable type: 'list'"
     ]
    }
   ],
   "source": [
    "# only immutable inside\n",
    "# we can never keep list inside set\n",
    "\n",
    "s = {[1,2,3],[4,5,6]}\n",
    "s\n"
   ]
  },
  {
   "cell_type": "code",
   "execution_count": 37,
   "id": "da654d8c",
   "metadata": {},
   "outputs": [
    {
     "ename": "TypeError",
     "evalue": "unhashable type: 'dict'",
     "output_type": "error",
     "traceback": [
      "\u001b[1;31m---------------------------------------------------------------------------\u001b[0m",
      "\u001b[1;31mTypeError\u001b[0m                                 Traceback (most recent call last)",
      "Cell \u001b[1;32mIn[37], line 2\u001b[0m\n\u001b[0;32m      1\u001b[0m \u001b[38;5;66;03m# we can never keep dictionary inside set\u001b[39;00m\n\u001b[1;32m----> 2\u001b[0m s \u001b[38;5;241m=\u001b[39m {{\u001b[38;5;241m1\u001b[39m:\u001b[38;5;241m2\u001b[39m,\u001b[38;5;241m5\u001b[39m:\u001b[38;5;241m10\u001b[39m}}\n",
      "\u001b[1;31mTypeError\u001b[0m: unhashable type: 'dict'"
     ]
    }
   ],
   "source": [
    "# we can never keep dictionary inside set\n",
    "s = {{1:2,5:10}}"
   ]
  },
  {
   "cell_type": "code",
   "execution_count": 38,
   "id": "d663480f",
   "metadata": {},
   "outputs": [
    {
     "ename": "TypeError",
     "evalue": "unhashable type: 'set'",
     "output_type": "error",
     "traceback": [
      "\u001b[1;31m---------------------------------------------------------------------------\u001b[0m",
      "\u001b[1;31mTypeError\u001b[0m                                 Traceback (most recent call last)",
      "Cell \u001b[1;32mIn[38], line 2\u001b[0m\n\u001b[0;32m      1\u001b[0m \u001b[38;5;66;03m# we can never keep set inside set\u001b[39;00m\n\u001b[1;32m----> 2\u001b[0m s \u001b[38;5;241m=\u001b[39m {{\u001b[38;5;241m1\u001b[39m,\u001b[38;5;241m2\u001b[39m,\u001b[38;5;241m3\u001b[39m}}\n",
      "\u001b[1;31mTypeError\u001b[0m: unhashable type: 'set'"
     ]
    }
   ],
   "source": [
    "# we can never keep set inside set\n",
    "s = {{1,2,3}}"
   ]
  },
  {
   "cell_type": "code",
   "execution_count": null,
   "id": "7b15f632",
   "metadata": {},
   "outputs": [],
   "source": [
    "# WAP to create, read, update and delete dict inside dict"
   ]
  },
  {
   "cell_type": "code",
   "execution_count": null,
   "id": "590acba7",
   "metadata": {},
   "outputs": [],
   "source": []
  },
  {
   "cell_type": "code",
   "execution_count": null,
   "id": "82b8842d",
   "metadata": {},
   "outputs": [],
   "source": []
  },
  {
   "cell_type": "code",
   "execution_count": null,
   "id": "cd0611fc",
   "metadata": {},
   "outputs": [],
   "source": []
  },
  {
   "cell_type": "code",
   "execution_count": null,
   "id": "1fb20f32",
   "metadata": {},
   "outputs": [],
   "source": []
  },
  {
   "cell_type": "code",
   "execution_count": null,
   "id": "bae96dd1",
   "metadata": {},
   "outputs": [],
   "source": []
  },
  {
   "cell_type": "code",
   "execution_count": null,
   "id": "a9278f9c",
   "metadata": {},
   "outputs": [],
   "source": []
  },
  {
   "cell_type": "code",
   "execution_count": null,
   "id": "6fdada06",
   "metadata": {},
   "outputs": [],
   "source": []
  }
 ],
 "metadata": {
  "kernelspec": {
   "display_name": "Python 3 (ipykernel)",
   "language": "python",
   "name": "python3"
  },
  "language_info": {
   "codemirror_mode": {
    "name": "ipython",
    "version": 3
   },
   "file_extension": ".py",
   "mimetype": "text/x-python",
   "name": "python",
   "nbconvert_exporter": "python",
   "pygments_lexer": "ipython3",
   "version": "3.10.9"
  }
 },
 "nbformat": 4,
 "nbformat_minor": 5
}
