{
 "cells": [
  {
   "cell_type": "code",
   "execution_count": 2,
   "id": "24690b65",
   "metadata": {},
   "outputs": [
    {
     "name": "stdout",
     "output_type": "stream",
     "text": [
      "Requirement already satisfied: mysql-connector in c:\\users\\dell\\anaconda3\\lib\\site-packages (2.2.9)\n"
     ]
    }
   ],
   "source": [
    "!pip install mysql-connector"
   ]
  },
  {
   "cell_type": "code",
   "execution_count": 3,
   "id": "50ac66c1",
   "metadata": {},
   "outputs": [],
   "source": [
    "# import mysql.connector\n",
    "# importing database\n",
    "# database = mysql.connector.connect(\n",
    "#               host=\"localhost\",\n",
    "#               user=\"root,\n",
    "#               password=\"\"\n",
    "# )\n",
    "\n",
    "# db = database.,cursor()\n",
    "# db.execute(\"CREATE DATABASE pythons\")"
   ]
  },
  {
   "cell_type": "code",
   "execution_count": 14,
   "id": "a1e87d09",
   "metadata": {},
   "outputs": [],
   "source": [
    "import mysql.connector\n",
    "# importing database\n",
    "database = mysql.connector.connect(\n",
    "            host=\"localhost\",\n",
    "            user=\"root\",\n",
    "            password=\"\",\n",
    "            database=\"python_class_8am\"\n",
    "      \n",
    ")\n",
    "db = database.cursor()\n"
   ]
  },
  {
   "cell_type": "code",
   "execution_count": 15,
   "id": "2c48f370",
   "metadata": {},
   "outputs": [
    {
     "name": "stdout",
     "output_type": "stream",
     "text": [
      "(3, 'Hari', 77, 89, 65, 88, 77, 478, 78, 'B')\n",
      "(5, 'Shyam', 78, 87, 98, 65, 76, 445, 85, 'B')\n",
      "(15, 'Samy', 78, 88, 98, 67, 89, 420, 84, 'A+')\n"
     ]
    }
   ],
   "source": [
    "# select in database\n",
    "\n",
    "db.execute(\"Select * from grades\")\n",
    "result = db.fetchall()              # displyas all the data from grades table of database python_class_8am \n",
    "for x in result:\n",
    "    print(x)"
   ]
  },
  {
   "cell_type": "code",
   "execution_count": 16,
   "id": "4854b7fc",
   "metadata": {},
   "outputs": [
    {
     "name": "stdout",
     "output_type": "stream",
     "text": [
      "(3, 'Hari', 'B')\n",
      "(5, 'Shyam', 'B')\n",
      "(15, 'Samy', 'A+')\n"
     ]
    }
   ],
   "source": [
    "# select in database\n",
    "db.execute(\"Select sn,name,grade from grades\")\n",
    "result = db.fetchall()              # displyas only the selected data from grades table of database python_class_8am \n",
    "for x in result:\n",
    "    print(x)"
   ]
  },
  {
   "cell_type": "code",
   "execution_count": 17,
   "id": "ebc66b97",
   "metadata": {},
   "outputs": [],
   "source": [
    "# select in database\n",
    "db.execute(\"Select * from grades where grade = 'A' \")\n",
    "result = db.fetchall()              # displyas only the selected data from grades table of database python_class_8am\n",
    "for x in result:                    # where grade is A\n",
    "    print(x)"
   ]
  },
  {
   "cell_type": "code",
   "execution_count": 18,
   "id": "f556fce3",
   "metadata": {},
   "outputs": [],
   "source": [
    "sql = '''INSERT INTO `grades` (`sn`, `name`, `physics`, `chemistry`, `maths`, `english`, `nepali`, `total`, `per`, `grade`) \n",
    "VALUES ('16', 'Nisha', '88', '78', '67', '98', '67', '450', '85', 'A')'''\n",
    "db.execute(sql)\n",
    "database.commit()"
   ]
  },
  {
   "cell_type": "code",
   "execution_count": 19,
   "id": "53b5db7c",
   "metadata": {},
   "outputs": [
    {
     "name": "stdout",
     "output_type": "stream",
     "text": [
      "Enter name = Sus\n",
      "Enter physics = 87\n",
      "Enter chemistry = 67\n",
      "Enter maths = 98\n",
      "Enter english = 77\n",
      "Enter nepali = 89\n"
     ]
    }
   ],
   "source": [
    "name = input(\"Enter name = \")\n",
    "physics = int(input(\"Enter physics = \"))\n",
    "chemistry = int(input(\"Enter chemistry = \"))\n",
    "maths = int(input(\"Enter maths = \"))\n",
    "english = int(input(\"Enter english = \"))\n",
    "nepali = int(input(\"Enter nepali = \"))\n",
    "\n",
    "if physics>= 32 and chemistry>= 32 and maths>= 32 and english>= 32 and nepali>= 32:\n",
    "    total = physics + chemistry + maths + english + nepali\n",
    "    per = total/5\n",
    "    \n",
    "    if per>80:\n",
    "        grade = \"A\"\n",
    "    elif per>=60:\n",
    "        grade = \"B\"\n",
    "    elif per>=45:\n",
    "        grade = \"C\"\n",
    "    elif per>=32:\n",
    "        grade = \"D\"\n",
    "    else:\n",
    "        grade = \"F\"\n",
    " \n",
    "        \n",
    "    #print(\"Total\")\n",
    "        \n",
    "sql = f'''INSERT INTO `grades` (`sn`, `name`, `physics`, `chemistry`, `maths`, `english`, `nepali`, `total`, `per`, `grade`)\n",
    "VALUES ('NULL','{name}','{physics}','{chemistry}','{maths}','{english}','{nepali}','{total}','{per}','{grade}')'''\n",
    "    \n",
    "db.execute(sql)\n",
    "database.commit()  \n",
    "        "
   ]
  },
  {
   "cell_type": "code",
   "execution_count": 20,
   "id": "bdf25ac6",
   "metadata": {},
   "outputs": [],
   "source": [
    "# update\n",
    "\n",
    "sql = \"UPDATE grades SET grade = 'A+' where name = 'Hari'\"\n",
    "db.execute(sql)\n",
    "database.commit()\n"
   ]
  },
  {
   "cell_type": "code",
   "execution_count": 21,
   "id": "006737c0",
   "metadata": {},
   "outputs": [],
   "source": [
    "# delete\n",
    "\n",
    "sql =\"Delete from grades where name ='Shyam' or grade = 'B'\"\n",
    "db.execute(sql)\n",
    "database.commit()"
   ]
  },
  {
   "cell_type": "code",
   "execution_count": null,
   "id": "59926939",
   "metadata": {},
   "outputs": [],
   "source": []
  },
  {
   "cell_type": "code",
   "execution_count": null,
   "id": "8fccda59",
   "metadata": {},
   "outputs": [],
   "source": []
  },
  {
   "cell_type": "code",
   "execution_count": null,
   "id": "609625d4",
   "metadata": {},
   "outputs": [],
   "source": []
  },
  {
   "cell_type": "code",
   "execution_count": null,
   "id": "90776cff",
   "metadata": {},
   "outputs": [],
   "source": []
  },
  {
   "cell_type": "code",
   "execution_count": null,
   "id": "e1f02530",
   "metadata": {},
   "outputs": [],
   "source": []
  },
  {
   "cell_type": "code",
   "execution_count": null,
   "id": "4146c94f",
   "metadata": {},
   "outputs": [],
   "source": []
  },
  {
   "cell_type": "code",
   "execution_count": null,
   "id": "eed70539",
   "metadata": {},
   "outputs": [],
   "source": []
  },
  {
   "cell_type": "code",
   "execution_count": null,
   "id": "5f051959",
   "metadata": {},
   "outputs": [],
   "source": []
  },
  {
   "cell_type": "code",
   "execution_count": null,
   "id": "286e9648",
   "metadata": {},
   "outputs": [],
   "source": []
  },
  {
   "cell_type": "code",
   "execution_count": null,
   "id": "04acd1a3",
   "metadata": {},
   "outputs": [],
   "source": []
  },
  {
   "cell_type": "code",
   "execution_count": null,
   "id": "9078100a",
   "metadata": {},
   "outputs": [],
   "source": []
  },
  {
   "cell_type": "code",
   "execution_count": null,
   "id": "ea9edfe5",
   "metadata": {},
   "outputs": [],
   "source": []
  },
  {
   "cell_type": "code",
   "execution_count": null,
   "id": "4912ff1d",
   "metadata": {},
   "outputs": [],
   "source": []
  },
  {
   "cell_type": "code",
   "execution_count": null,
   "id": "6116580a",
   "metadata": {},
   "outputs": [],
   "source": []
  },
  {
   "cell_type": "code",
   "execution_count": null,
   "id": "efd46a38",
   "metadata": {},
   "outputs": [],
   "source": []
  },
  {
   "cell_type": "code",
   "execution_count": null,
   "id": "7a8eac91",
   "metadata": {},
   "outputs": [],
   "source": []
  },
  {
   "cell_type": "code",
   "execution_count": null,
   "id": "fbb53d2b",
   "metadata": {},
   "outputs": [],
   "source": []
  }
 ],
 "metadata": {
  "kernelspec": {
   "display_name": "Python 3 (ipykernel)",
   "language": "python",
   "name": "python3"
  },
  "language_info": {
   "codemirror_mode": {
    "name": "ipython",
    "version": 3
   },
   "file_extension": ".py",
   "mimetype": "text/x-python",
   "name": "python",
   "nbconvert_exporter": "python",
   "pygments_lexer": "ipython3",
   "version": "3.10.9"
  }
 },
 "nbformat": 4,
 "nbformat_minor": 5
}
