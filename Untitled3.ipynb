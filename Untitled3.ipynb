{
 "cells": [
  {
   "cell_type": "code",
   "execution_count": 1,
   "id": "63a40ddd",
   "metadata": {},
   "outputs": [],
   "source": [
    "# listing\n",
    "# indexing\n",
    "# multiple data\n",
    "# duplicate\n",
    "# tuple"
   ]
  },
  {
   "cell_type": "code",
   "execution_count": 2,
   "id": "d8d6fcd0",
   "metadata": {},
   "outputs": [],
   "source": [
    "# listing\n",
    "# a = [] or a = list()"
   ]
  },
  {
   "cell_type": "code",
   "execution_count": 4,
   "id": "b96822ac",
   "metadata": {},
   "outputs": [
    {
     "name": "stdout",
     "output_type": "stream",
     "text": [
      "<class 'list'>\n",
      "['Apple', 'BAll', 'Cat', 'Dog', 'Bird', 'Fish']\n"
     ]
    }
   ],
   "source": [
    "# listing\n",
    "\n",
    "a = ['Apple','BAll','Cat','Dog','Bird','Fish']\n",
    "print(type(a))\n",
    "print(a)"
   ]
  },
  {
   "cell_type": "code",
   "execution_count": 6,
   "id": "99645cc3",
   "metadata": {},
   "outputs": [
    {
     "name": "stdout",
     "output_type": "stream",
     "text": [
      "Apple\n",
      "['Apple', 'Ball', 'Cat', 'Dog', 'Bird', 'Fish']\n",
      "['Apple', 'Bird']\n"
     ]
    }
   ],
   "source": [
    "# indexing\n",
    "\n",
    "a = ['Apple','Ball','Cat','Dog','Bird','Fish']\n",
    "print(a[0])\n",
    "print(a[0:])\n",
    "print(a[0:6:4])"
   ]
  },
  {
   "cell_type": "code",
   "execution_count": 8,
   "id": "9fa2d603",
   "metadata": {},
   "outputs": [
    {
     "name": "stdout",
     "output_type": "stream",
     "text": [
      "['Apple', 'Ball', 'Dog', 'Cat', 'Bird', 'Fish', 'Apple']\n"
     ]
    }
   ],
   "source": [
    "# multiple data\n",
    "\n",
    "a = ['Apple','Ball','Dog','Cat','Bird','Fish','Apple']\n",
    "print(a)"
   ]
  },
  {
   "cell_type": "code",
   "execution_count": 10,
   "id": "12c56959",
   "metadata": {},
   "outputs": [
    {
     "name": "stdout",
     "output_type": "stream",
     "text": [
      "[1, 2, 3, 4, 5, 8]\n"
     ]
    }
   ],
   "source": [
    "# concat\n",
    "\n",
    "a = [1,2,3,4,5]\n",
    "b = [8]\n",
    "c = a + b\n",
    "print(c)"
   ]
  },
  {
   "cell_type": "code",
   "execution_count": 11,
   "id": "4b577315",
   "metadata": {},
   "outputs": [
    {
     "data": {
      "text/plain": [
       "[1, 2, 3, 4, 5, 1, 2, 3, 4, 5, 1, 2, 3, 4, 5]"
      ]
     },
     "execution_count": 11,
     "metadata": {},
     "output_type": "execute_result"
    }
   ],
   "source": [
    "# multiplication \n",
    "\n",
    "a = [1,2,3,4,5]\n",
    "b = 3\n",
    "c = a * b\n",
    "c"
   ]
  },
  {
   "cell_type": "code",
   "execution_count": 14,
   "id": "3263c543",
   "metadata": {},
   "outputs": [
    {
     "name": "stdout",
     "output_type": "stream",
     "text": [
      "Enter n = 3\n",
      "Enter x = 2\n",
      "Enter x = 3\n",
      "Enter x = 4\n",
      "[2, 3, 4]\n"
     ]
    }
   ],
   "source": [
    "# ask the value from user\n",
    "\n",
    "l = []\n",
    "\n",
    "n = int(input(\"Enter n = \"))\n",
    "\n",
    "for i in range(n):\n",
    "    x = int(input(\"Enter x = \"))\n",
    "    l = l + [x]\n",
    "print(l)\n"
   ]
  },
  {
   "cell_type": "code",
   "execution_count": 18,
   "id": "77614bcd",
   "metadata": {},
   "outputs": [
    {
     "name": "stdout",
     "output_type": "stream",
     "text": [
      "Max value =  577\n",
      "Min value =  45\n",
      "Sum =  912\n"
     ]
    }
   ],
   "source": [
    "a = [234, 45, 56, 577]\n",
    "\n",
    "print(\"Max value = \", max(a))\n",
    "print(\"Min value = \", min(a))\n",
    "print(\"Sum = \", sum(a))"
   ]
  },
  {
   "cell_type": "code",
   "execution_count": 21,
   "id": "7dec5e9b",
   "metadata": {},
   "outputs": [
    {
     "name": "stdout",
     "output_type": "stream",
     "text": [
      "[425, 536, 4564, 5737]\n"
     ]
    }
   ],
   "source": [
    "a = [4564, 425, 536, 5737]\n",
    "a.sort()\n",
    "print(a)"
   ]
  },
  {
   "cell_type": "code",
   "execution_count": 22,
   "id": "c75bdfa5",
   "metadata": {},
   "outputs": [
    {
     "name": "stdout",
     "output_type": "stream",
     "text": [
      "[5737, 536, 425, 4564]\n"
     ]
    }
   ],
   "source": [
    "a = [4564, 425, 536, 5737]\n",
    "a.reverse()\n",
    "print(a)"
   ]
  },
  {
   "cell_type": "code",
   "execution_count": 23,
   "id": "2960e0e7",
   "metadata": {},
   "outputs": [],
   "source": [
    "# add values\n",
    "# append(), insert(), extend()\n",
    "# delete values\n",
    "# del() remove() pop() "
   ]
  },
  {
   "cell_type": "code",
   "execution_count": 6,
   "id": "c77d82dd",
   "metadata": {},
   "outputs": [
    {
     "name": "stdout",
     "output_type": "stream",
     "text": [
      "Apple\n",
      "Ball\n",
      "Dog\n",
      "Cat\n",
      "Bird\n",
      "Fish\n"
     ]
    }
   ],
   "source": [
    "a = ['Apple','Ball','Dog','Cat','Bird','Fish']\n",
    "for i in a:\n",
    "    print(i)"
   ]
  },
  {
   "cell_type": "code",
   "execution_count": 7,
   "id": "8036e569",
   "metadata": {},
   "outputs": [
    {
     "name": "stdout",
     "output_type": "stream",
     "text": [
      "Apple\n",
      "Ball\n",
      "Dog\n",
      "Cat\n",
      "Bird\n",
      "Fish\n"
     ]
    }
   ],
   "source": [
    "a = ['Apple','Ball','Dog','Cat','Bird','Fish']\n",
    "for i in range(len(a)):\n",
    "    print(a[i])"
   ]
  },
  {
   "cell_type": "code",
   "execution_count": 9,
   "id": "f8496cb7",
   "metadata": {},
   "outputs": [
    {
     "name": "stdout",
     "output_type": "stream",
     "text": [
      "Yes\n"
     ]
    }
   ],
   "source": [
    "a = ['Apple','Ball','Dog','Cat','Bird','Fish']\n",
    "if \"Apple\" in a:\n",
    "    print(\"Yes\")\n",
    "else:\n",
    "    print(\"No\")"
   ]
  },
  {
   "cell_type": "code",
   "execution_count": 12,
   "id": "195edbcd",
   "metadata": {},
   "outputs": [
    {
     "name": "stdout",
     "output_type": "stream",
     "text": [
      "Yes\n",
      "1\n"
     ]
    }
   ],
   "source": [
    "a = ['Ram','Sita','Gita','Sam','Pam','Ramesh']\n",
    "if \"Ram\" in a:\n",
    "    print(\"Yes\")\n",
    "    print(a.count(\"Ram\"))\n",
    "else:\n",
    "    print(\"No\")"
   ]
  },
  {
   "cell_type": "code",
   "execution_count": 16,
   "id": "b519ecef",
   "metadata": {},
   "outputs": [
    {
     "data": {
      "text/plain": [
       "[1, 2, 3, 4, 'Apple', 'Ball']"
      ]
     },
     "execution_count": 16,
     "metadata": {},
     "output_type": "execute_result"
    }
   ],
   "source": [
    "# append()\n",
    "\n",
    "a = [1,2,3,4]\n",
    "a.append('Apple')\n",
    "a.append('Ball')\n",
    "a"
   ]
  },
  {
   "cell_type": "code",
   "execution_count": 19,
   "id": "64fcec85",
   "metadata": {},
   "outputs": [
    {
     "name": "stdout",
     "output_type": "stream",
     "text": [
      "['Apple', 'Cat', 'Ball', 'Dog', 'Bird', 'Monkey']\n"
     ]
    }
   ],
   "source": [
    "# insert\n",
    "\n",
    "a = ['Apple','Ball','Dog','Bird','Monkey']\n",
    "a.insert(1,'Cat')\n",
    "print(a)"
   ]
  },
  {
   "cell_type": "code",
   "execution_count": 24,
   "id": "6c4ce132",
   "metadata": {},
   "outputs": [
    {
     "data": {
      "text/plain": [
       "['Apple', 'Ball', 'Cat', 'Dog', 'Fish', 1, 2, 3, 4, 'lkj']"
      ]
     },
     "execution_count": 24,
     "metadata": {},
     "output_type": "execute_result"
    }
   ],
   "source": [
    "# extend()\n",
    "\n",
    "a = ['Apple','Ball','Cat','Dog','Fish']\n",
    "b = [1, 2, 3, 4, 'lkj']\n",
    "a. extend(b)\n",
    "a\n"
   ]
  },
  {
   "cell_type": "code",
   "execution_count": 26,
   "id": "cb38360a",
   "metadata": {},
   "outputs": [
    {
     "data": {
      "text/plain": [
       "['Ant', 'Ball', 'Cat', 'Dog', 'Fish']"
      ]
     },
     "execution_count": 26,
     "metadata": {},
     "output_type": "execute_result"
    }
   ],
   "source": [
    "# update\n",
    "\n",
    "a = ['Apple','Ball','Cat','Dog','Fish']\n",
    "a[0] = 'Ant'\n",
    "a"
   ]
  },
  {
   "cell_type": "code",
   "execution_count": 29,
   "id": "3c5c621b",
   "metadata": {},
   "outputs": [
    {
     "data": {
      "text/plain": [
       "['sds', 'hjk', 'vhjg']"
      ]
     },
     "execution_count": 29,
     "metadata": {},
     "output_type": "execute_result"
    }
   ],
   "source": [
    "# update\n",
    "\n",
    "a = ['Apple','Ball','Cat','Dog','Bird']\n",
    "a[0:5] =['sds','hjk','vhjg']\n",
    "a"
   ]
  },
  {
   "cell_type": "code",
   "execution_count": null,
   "id": "ae0ccdfe",
   "metadata": {},
   "outputs": [],
   "source": []
  },
  {
   "cell_type": "code",
   "execution_count": null,
   "id": "4ea2dc7b",
   "metadata": {},
   "outputs": [],
   "source": []
  },
  {
   "cell_type": "code",
   "execution_count": null,
   "id": "5625d0a2",
   "metadata": {},
   "outputs": [],
   "source": []
  },
  {
   "cell_type": "code",
   "execution_count": null,
   "id": "139cb9f6",
   "metadata": {},
   "outputs": [],
   "source": []
  },
  {
   "cell_type": "code",
   "execution_count": null,
   "id": "68ba280f",
   "metadata": {},
   "outputs": [],
   "source": []
  }
 ],
 "metadata": {
  "kernelspec": {
   "display_name": "Python 3 (ipykernel)",
   "language": "python",
   "name": "python3"
  },
  "language_info": {
   "codemirror_mode": {
    "name": "ipython",
    "version": 3
   },
   "file_extension": ".py",
   "mimetype": "text/x-python",
   "name": "python",
   "nbconvert_exporter": "python",
   "pygments_lexer": "ipython3",
   "version": "3.10.9"
  }
 },
 "nbformat": 4,
 "nbformat_minor": 5
}
