{
 "cells": [
  {
   "cell_type": "code",
   "execution_count": 1,
   "id": "66e086d2",
   "metadata": {},
   "outputs": [],
   "source": [
    "# string"
   ]
  },
  {
   "cell_type": "code",
   "execution_count": 2,
   "id": "2beed71b",
   "metadata": {},
   "outputs": [
    {
     "name": "stdout",
     "output_type": "stream",
     "text": [
      "p\n",
      "y\n",
      "t\n",
      "h\n",
      "o\n",
      "n\n"
     ]
    }
   ],
   "source": [
    "a = \"python\"\n",
    "for i in a:            # no need to put range in in for loop\n",
    "    print(i)"
   ]
  },
  {
   "cell_type": "code",
   "execution_count": 3,
   "id": "4bd712fc",
   "metadata": {},
   "outputs": [
    {
     "name": "stdout",
     "output_type": "stream",
     "text": [
      "p  Hello World\n",
      "y  Hello World\n",
      "t  Hello World\n",
      "h  Hello World\n",
      "o  Hello World\n",
      "n  Hello World\n"
     ]
    }
   ],
   "source": [
    "a = \"python\"\n",
    "for i in a:\n",
    "    print(i,\" Hello World\")"
   ]
  },
  {
   "cell_type": "code",
   "execution_count": 2,
   "id": "7fabc351",
   "metadata": {},
   "outputs": [
    {
     "name": "stdout",
     "output_type": "stream",
     "text": [
      "Hello World, I am python"
     ]
    }
   ],
   "source": [
    "a = \"Hello World, I am python\"\n",
    "for i in a:\n",
    "    print(i, end = \"\")"
   ]
  },
  {
   "cell_type": "code",
   "execution_count": 7,
   "id": "a8a4e888",
   "metadata": {},
   "outputs": [
    {
     "name": "stdout",
     "output_type": "stream",
     "text": [
      "HelloWorldIampython"
     ]
    }
   ],
   "source": [
    "a = \"Hello World I am python\"\n",
    "\n",
    "for i in a:\n",
    "        \n",
    "        if i != \" \":\n",
    "            print(i, end = \"\")"
   ]
  },
  {
   "cell_type": "code",
   "execution_count": 8,
   "id": "3a76dad9",
   "metadata": {},
   "outputs": [
    {
     "name": "stdout",
     "output_type": "stream",
     "text": [
      "Hello World I am python"
     ]
    }
   ],
   "source": [
    "a = \"Hello World I am python.\"\n",
    "\n",
    "for i in a:\n",
    "        \n",
    "        if i != \".\":\n",
    "            print(i, end = \"\")"
   ]
  },
  {
   "cell_type": "code",
   "execution_count": 9,
   "id": "184c53a0",
   "metadata": {},
   "outputs": [
    {
     "name": "stdout",
     "output_type": "stream",
     "text": [
      "Hello World I am python I am from Ktm I am the best"
     ]
    }
   ],
   "source": [
    "a = \"Hello World I am python. I am from Ktm. I am the best.\"\n",
    "\n",
    "for i in a:\n",
    "        \n",
    "        if i != \".\":\n",
    "            print(i, end = \"\")"
   ]
  },
  {
   "cell_type": "code",
   "execution_count": 10,
   "id": "9cf27a70",
   "metadata": {},
   "outputs": [],
   "source": [
    "# while loop\n",
    "# while <condition>\n",
    "#       <operation>"
   ]
  },
  {
   "cell_type": "code",
   "execution_count": 5,
   "id": "2fee363c",
   "metadata": {},
   "outputs": [
    {
     "name": "stdout",
     "output_type": "stream",
     "text": [
      "0\n",
      "1\n",
      "2\n",
      "3\n",
      "4\n",
      "5\n"
     ]
    }
   ],
   "source": [
    "a = 0\n",
    "while a<=5:\n",
    "    print(a)\n",
    "    a = a+1   \n"
   ]
  },
  {
   "cell_type": "code",
   "execution_count": 4,
   "id": "8bf879c7",
   "metadata": {},
   "outputs": [
    {
     "name": "stdout",
     "output_type": "stream",
     "text": [
      "1 Hello World\n",
      "2 Hello World\n",
      "3 Hello World\n",
      "4 Hello World\n",
      "5 Hello World\n"
     ]
    }
   ],
   "source": [
    "a = 1\n",
    "while a<=5:           #for in range(1,5)\n",
    "    print(a, \"Hello World\")\n",
    "    a = a+1"
   ]
  },
  {
   "cell_type": "code",
   "execution_count": 5,
   "id": "10448d00",
   "metadata": {},
   "outputs": [
    {
     "name": "stdout",
     "output_type": "stream",
     "text": [
      "0 Hello World\n",
      "0.5 Hello World\n",
      "1.0 Hello World\n",
      "1.5 Hello World\n",
      "2.0 Hello World\n"
     ]
    }
   ],
   "source": [
    "a = 0\n",
    "while a<=2:           #for in range(1,5)\n",
    "    print(a, \"Hello World\")\n",
    "    a = a+0.5"
   ]
  },
  {
   "cell_type": "code",
   "execution_count": 3,
   "id": "d2a4c53f",
   "metadata": {},
   "outputs": [
    {
     "name": "stdout",
     "output_type": "stream",
     "text": [
      "Enter n = 6\n",
      "6 * 1 = 6\n",
      "6 * 2 = 12\n",
      "6 * 3 = 18\n",
      "6 * 4 = 24\n",
      "6 * 5 = 30\n",
      "6 * 6 = 36\n",
      "6 * 7 = 42\n",
      "6 * 8 = 48\n",
      "6 * 9 = 54\n",
      "6 * 10 = 60\n"
     ]
    }
   ],
   "source": [
    "i = 1\n",
    "n = int(input(\"Enter n = \"))\n",
    "\n",
    "while (i<=10):\n",
    "    print(n, \"*\", i, \"=\", i*n )\n",
    "    i = i+1\n"
   ]
  },
  {
   "cell_type": "code",
   "execution_count": 1,
   "id": "a0cb4177",
   "metadata": {},
   "outputs": [
    {
     "name": "stdout",
     "output_type": "stream",
     "text": [
      "Enter n = 3\n",
      "Enter x = 34\n",
      "Now your total balance =  34\n",
      "Enter x = 34\n",
      "Now your total balance =  68\n",
      "Enter x = 34\n",
      "Now your total balance =  102\n"
     ]
    }
   ],
   "source": [
    "s = 0\n",
    "i = 0\n",
    "\n",
    "n = int(input(\"Enter n = \"))\n",
    "\n",
    "while i<n:\n",
    "    x = int(input(\"Enter x = \"))\n",
    "    s = s + x\n",
    "    i += 1        #i = i+1\n",
    "    print(\"Now your total balance = \", s)\n",
    "        "
   ]
  },
  {
   "cell_type": "code",
   "execution_count": 1,
   "id": "1f990155",
   "metadata": {},
   "outputs": [
    {
     "name": "stdout",
     "output_type": "stream",
     "text": [
      "Enter n = 3\n",
      "Enter name = sfe\n",
      "Enter phone = 34\n",
      "sfe--34\n",
      "\n",
      "Enter name = ert\n",
      "Enter phone = 343\n",
      "sfe--34\n",
      "ert--343\n",
      "\n",
      "Enter name = dlfkj\n",
      "Enter phone = 323\n",
      "sfe--34\n",
      "ert--343\n",
      "dlfkj--323\n",
      "\n"
     ]
    }
   ],
   "source": [
    "s = \"\"\n",
    "\n",
    "n = int(input(\"Enter n = \"))\n",
    "for i in range(n):\n",
    "\n",
    "    name = input(\"Enter name = \")\n",
    "    phone = input(\"Enter phone = \")\n",
    "    \n",
    "    s = s + name + \"--\" + str(phone) +\"\\n\"\n",
    "    print(s)\n",
    "    "
   ]
  },
  {
   "cell_type": "code",
   "execution_count": 5,
   "id": "c5071970",
   "metadata": {},
   "outputs": [
    {
     "name": "stdout",
     "output_type": "stream",
     "text": [
      "Enter n = 2\n",
      "Enter name = sdfsdf\n",
      "Enter phone = 35435\n",
      "sdfsdf - 35435\n",
      "\n",
      "Enter name = sdfs\n",
      "Enter phone = 2353\n",
      "sdfsdf - 35435\n",
      "sdfs - 2353\n",
      "\n"
     ]
    }
   ],
   "source": [
    "i = 0\n",
    "s = \"\"\n",
    "n = int(input(\"Enter n = \"))\n",
    "while i<n:\n",
    "    name = input(\"Enter name = \")\n",
    "    phone = input(\"Enter phone = \")\n",
    "    \n",
    "    s = s + name + \" - \" + str(phone) +\"\\n\"\n",
    "    i=i+1\n",
    "    print(s)"
   ]
  },
  {
   "cell_type": "code",
   "execution_count": 3,
   "id": "c9d6ff45",
   "metadata": {},
   "outputs": [
    {
     "name": "stdout",
     "output_type": "stream",
     "text": [
      "5\n",
      "4\n",
      "3\n",
      "2\n",
      "1\n",
      "0\n"
     ]
    }
   ],
   "source": [
    "i = 5\n",
    "while i>=0:\n",
    "    print(i)\n",
    "    i = i-1"
   ]
  },
  {
   "cell_type": "code",
   "execution_count": 9,
   "id": "38e87518",
   "metadata": {},
   "outputs": [
    {
     "name": "stdout",
     "output_type": "stream",
     "text": [
      "Enter the value of n = 4\n",
      "1\n",
      "2\n",
      "3\n",
      "4\n"
     ]
    }
   ],
   "source": [
    "# WAP to find a factorial\n",
    "\n",
    "i = 1\n",
    "n = int(input(\"Enter the value of n = \"))\n",
    "for i in range(1,n+1):\n",
    "    print(i)\n",
    "\n",
    "\n"
   ]
  },
  {
   "cell_type": "code",
   "execution_count": 10,
   "id": "e853f127",
   "metadata": {},
   "outputs": [
    {
     "name": "stdout",
     "output_type": "stream",
     "text": [
      "Enter the value of n = 5\n",
      "1\n",
      "2\n",
      "6\n",
      "24\n",
      "120\n"
     ]
    }
   ],
   "source": [
    "i = 1\n",
    "fac = 1\n",
    "n = int(input(\"Enter the value of n = \"))\n",
    "for i in range(1,n+1):\n",
    "    fac = i * fac\n",
    "    print(fac)\n"
   ]
  },
  {
   "cell_type": "code",
   "execution_count": 11,
   "id": "15b78899",
   "metadata": {},
   "outputs": [
    {
     "name": "stdout",
     "output_type": "stream",
     "text": [
      "\n",
      "0\n",
      "00\n",
      "000\n",
      "0000\n"
     ]
    }
   ],
   "source": [
    "n = 5\n",
    "for i in range(n):\n",
    "    print(i * \"0\")"
   ]
  },
  {
   "cell_type": "code",
   "execution_count": 13,
   "id": "3d9cd8c9",
   "metadata": {},
   "outputs": [
    {
     "name": "stdout",
     "output_type": "stream",
     "text": [
      "00000\n",
      "0000\n",
      "000\n",
      "00\n",
      "0\n"
     ]
    }
   ],
   "source": [
    "n = 5\n",
    "for i in range(n,0,-1):\n",
    "    print(i * \"0\")"
   ]
  },
  {
   "cell_type": "code",
   "execution_count": 6,
   "id": "45bb77bd",
   "metadata": {},
   "outputs": [
    {
     "name": "stdout",
     "output_type": "stream",
     "text": [
      "     00\n",
      "    0000\n",
      "   000000\n",
      "  00000000\n"
     ]
    }
   ],
   "source": [
    "n = 5\n",
    "for i in range(1,n):\n",
    "    print((n-i)*\" \", 2*(i * \"0\"))"
   ]
  },
  {
   "cell_type": "code",
   "execution_count": 3,
   "id": "4443ac00",
   "metadata": {},
   "outputs": [
    {
     "name": "stdout",
     "output_type": "stream",
     "text": [
      "Enter the starting range = 2\n",
      "Enter the ending range = 43\n",
      "Prime numbers in the range 2 to 43\n",
      "2\n",
      "3\n",
      "5\n",
      "7\n",
      "11\n",
      "13\n",
      "17\n",
      "19\n",
      "23\n",
      "29\n",
      "31\n",
      "37\n",
      "41\n",
      "43\n"
     ]
    }
   ],
   "source": [
    "# WAP to detect if the given number is prime or composite \n",
    "\n",
    "# prime numbers 2, 3, 5, 7, 11, 13, 17, 19, 23, 29, 31, 37, \n",
    "#               41, 43, 47, 53, 59, 61, 67, 71, 73, 79, 83, 89, 97\n",
    "\n",
    "# composite numbers 4, 6, 8, 9, 10, 12, 14, 15, 16, 18, 20, 21, 22, \n",
    "#                   24, 25, 26, 27, 28, 30, 32, 33, 34, 35, 36, 38, \n",
    "#                   39, 40, 42, 44, 45, 46, 48, 49, 50, 51, 52, 54, \n",
    "#                   55, 56, 57, 58, 60, 62, 63, 64, 65, 66, 68, 69,\n",
    "#                   70, 72, 74, 75, 76, 77, 78, 80, 81, 82, 84, 85, \n",
    "#                   86, 87, 88, 90, 91, 92, 93, 94, 95, 96, 98, 99, 100\n",
    "\n",
    "start = int(input(\"Enter the starting range = \"))\n",
    "end = int(input(\"Enter the ending range = \"))\n",
    "\n",
    "print(\"Prime numbers in the range\", start, \"to\", end)\n",
    "\n",
    "   \n",
    "for i in range(start, end+1):\n",
    "    flag = 0\n",
    "    for j in range(2, i):\n",
    "        if (i % j == 0):\n",
    "            flag = 1\n",
    "            break\n",
    "    if (flag == 0):\n",
    "            print(i)\n",
    "                             "
   ]
  },
  {
   "cell_type": "code",
   "execution_count": null,
   "id": "670914ed",
   "metadata": {},
   "outputs": [],
   "source": [
    "# control statements\n",
    "\n",
    "# continue\n",
    "# break\n",
    "# pass"
   ]
  },
  {
   "cell_type": "code",
   "execution_count": 3,
   "id": "45467a6c",
   "metadata": {},
   "outputs": [
    {
     "name": "stdout",
     "output_type": "stream",
     "text": [
      "0\n",
      "1\n",
      "2\n",
      "3\n",
      "4\n",
      "5\n",
      "6\n"
     ]
    }
   ],
   "source": [
    "for i in range(10):\n",
    "    if i == 7:\n",
    "        break       # it breaks the loop according to the if condition \n",
    "    print(i)\n"
   ]
  },
  {
   "cell_type": "code",
   "execution_count": 8,
   "id": "966ece42",
   "metadata": {},
   "outputs": [
    {
     "name": "stdout",
     "output_type": "stream",
     "text": [
      "0\n",
      "1\n",
      "2\n",
      "3\n",
      "4\n",
      "5\n",
      "6\n",
      "7\n",
      "9\n"
     ]
    }
   ],
   "source": [
    "for i in range(10):\n",
    "    if i == 8:\n",
    "        continue       # value of i will be equal to 7 so, the loop continues according to the if condition \n",
    "    print(i)"
   ]
  },
  {
   "cell_type": "code",
   "execution_count": 20,
   "id": "304b6d3c",
   "metadata": {},
   "outputs": [
    {
     "name": "stdout",
     "output_type": "stream",
     "text": [
      "Hello World"
     ]
    }
   ],
   "source": [
    "a = \"Hello World. I am Python.\"\n",
    "for i in a:\n",
    "    if i ==\".\":                 # . is equal to . so it doesnt print the words that continues after . because we have \n",
    "        break                   # included break statement\n",
    "    print(i, end=\"\")\n"
   ]
  },
  {
   "cell_type": "code",
   "execution_count": 21,
   "id": "625baebe",
   "metadata": {},
   "outputs": [
    {
     "name": "stdout",
     "output_type": "stream",
     "text": [
      "Hello World I am Pyhton"
     ]
    }
   ],
   "source": [
    "a = \"Hello World. I am Pyhton.\"\n",
    "\n",
    "for i in a:\n",
    "    if i == \".\":                # . is equal to . and the condition is continue so it prints the words after .  \n",
    "        continue\n",
    "    print(i, end = \"\")\n"
   ]
  },
  {
   "cell_type": "code",
   "execution_count": 22,
   "id": "a922a1e4",
   "metadata": {},
   "outputs": [
    {
     "name": "stdout",
     "output_type": "stream",
     "text": [
      "0 1 2 3 4 6 7 9 "
     ]
    }
   ],
   "source": [
    "for i in range(10):\n",
    "    if i == 5 or i == 8:\n",
    "        continue\n",
    "    print(i, end = \" \")"
   ]
  },
  {
   "cell_type": "code",
   "execution_count": 24,
   "id": "06963675",
   "metadata": {},
   "outputs": [
    {
     "name": "stdout",
     "output_type": "stream",
     "text": [
      "Hello World I am Python"
     ]
    }
   ],
   "source": [
    "a = \"Hello World. I am Python._\"\n",
    "\n",
    "for i in a:\n",
    "    if i == \".\" or i == \"_\":              \n",
    "        continue\n",
    "    print(i, end = \"\")"
   ]
  },
  {
   "cell_type": "code",
   "execution_count": 1,
   "id": "cb611693",
   "metadata": {},
   "outputs": [
    {
     "name": "stdout",
     "output_type": "stream",
     "text": [
      "0\n",
      "1\n",
      "2\n",
      "3\n",
      "4\n",
      "5\n",
      "6\n",
      "7\n"
     ]
    }
   ],
   "source": [
    "i = 0\n",
    "while i<=10:\n",
    "    if i == 8:\n",
    "        break\n",
    "    print(i)\n",
    "    i = i+1\n",
    "    "
   ]
  },
  {
   "cell_type": "code",
   "execution_count": 1,
   "id": "4a53fa88",
   "metadata": {},
   "outputs": [
    {
     "name": "stdout",
     "output_type": "stream",
     "text": [
      "0 1 2 3 4 6 7 8 9 10 "
     ]
    }
   ],
   "source": [
    "i = 0\n",
    "while i<=10:\n",
    "    if i == 5:\n",
    "        i = i+1\n",
    "        continue\n",
    "    print(i, end = \" \")\n",
    "    i = i+1\n"
   ]
  },
  {
   "cell_type": "code",
   "execution_count": 6,
   "id": "5b355fa7",
   "metadata": {},
   "outputs": [
    {
     "name": "stdout",
     "output_type": "stream",
     "text": [
      "5\n",
      "10\n",
      "15\n",
      "20\n",
      "25\n",
      "30\n",
      "35\n",
      "40\n",
      "45\n",
      "50\n"
     ]
    }
   ],
   "source": [
    "for i in range(1,51):\n",
    "    if i % 5 != 0:\n",
    "        continue\n",
    "    print(i)"
   ]
  },
  {
   "cell_type": "code",
   "execution_count": 10,
   "id": "b367dd60",
   "metadata": {},
   "outputs": [
    {
     "name": "stdout",
     "output_type": "stream",
     "text": [
      "1\n",
      "3\n",
      "6\n",
      "10\n",
      "15\n"
     ]
    }
   ],
   "source": [
    "# WAP to add and multiply numbers fron 1 to 100\n",
    "# Add 1+2+3+4+5 = 15\n",
    "\n",
    "s = 0\n",
    "for i in range(1,6):\n",
    "    s = s+i\n",
    "    print(s)\n"
   ]
  },
  {
   "cell_type": "code",
   "execution_count": 14,
   "id": "ff3a0e4a",
   "metadata": {},
   "outputs": [
    {
     "name": "stdout",
     "output_type": "stream",
     "text": [
      "5051\n"
     ]
    }
   ],
   "source": [
    "s = 1\n",
    "for i in range(1,101):\n",
    "    s = s+i\n",
    "print(s)"
   ]
  },
  {
   "cell_type": "code",
   "execution_count": 15,
   "id": "8b708bd0",
   "metadata": {},
   "outputs": [
    {
     "name": "stdout",
     "output_type": "stream",
     "text": [
      "3628800\n"
     ]
    }
   ],
   "source": [
    "# multiply 1*2*3\n",
    "\n",
    "s = 1\n",
    "for i in range(1,11):\n",
    "    s = s*i\n",
    "print(s)"
   ]
  },
  {
   "cell_type": "code",
   "execution_count": 28,
   "id": "a0cfe052",
   "metadata": {},
   "outputs": [
    {
     "name": "stdout",
     "output_type": "stream",
     "text": [
      "Enter n = 3\n",
      "Enter name = erfte\n",
      "Enter price = 34\n",
      "Enter qty = 3\n",
      "Enter name = dfg\n",
      "Enter price = 343\n",
      "Enter qty = 2\n",
      "Enter name = wsef12\n",
      "Enter price = 234\n",
      "Enter qty = 3\n",
      "erfte 34 3 102\n",
      "dfg 343 2 686\n",
      "wsef12 234 3 702\n",
      "\n",
      "1490\n"
     ]
    }
   ],
   "source": [
    "# WAP to create a billing system \n",
    "\n",
    "bill = \"\"\n",
    "all_total = 0\n",
    "n = int(input(\"Enter n = \"))\n",
    "for i in range(n):\n",
    "    name = input(\"Enter name = \")\n",
    "    price = int(input(\"Enter price = \"))\n",
    "    qty = int(input(\"Enter qty = \"))\n",
    "    total = price * qty\n",
    "    \n",
    "    data = name + \" \" + str(price) + \" \" + str(qty) + \" \" +str(total) +\"\\n\"\n",
    "    \n",
    "    bill = bill + data\n",
    "    \n",
    "    all_total = all_total + total\n",
    "    \n",
    "print(bill)\n",
    "print(all_total)\n",
    "\n",
    "\n",
    "\n"
   ]
  },
  {
   "cell_type": "code",
   "execution_count": 30,
   "id": "61a401ef",
   "metadata": {},
   "outputs": [
    {
     "name": "stdout",
     "output_type": "stream",
     "text": [
      "Enter n = 7\n",
      "The number is prime.\n"
     ]
    }
   ],
   "source": [
    "# WAP to detect if the given number is prime or composite\n",
    "\n",
    "# prime numbers 1,3,5,7,11,13,17,19\n",
    "# composite numbers 2,4,6,8,10,12,14,16,18,20\n",
    "\n",
    "n = int(input(\"Enter n = \"))\n",
    "\n",
    "if n>=2:\n",
    "    for i in range(2,n//2+1):\n",
    "        if n%i==0:\n",
    "            print(\"The number is composite.\")\n",
    "            break\n",
    "    else:\n",
    "            print(\"The number is prime.\")\n",
    "else:\n",
    "    print(\"The value of n should be n>=2.\")\n"
   ]
  },
  {
   "cell_type": "code",
   "execution_count": 26,
   "id": "89e4eca6",
   "metadata": {},
   "outputs": [
    {
     "name": "stdout",
     "output_type": "stream",
     "text": [
      "Enter the value of n = 3\n",
      "Enter name of the product = sdf\n",
      "Enter price of the product = 3\n",
      "Enter quantity of the product = 3\n",
      "Enter name of the product = sdf\n",
      "Enter price of the product = 3\n",
      "Enter quantity of the product = 3\n",
      "Enter name of the product = sdf\n",
      "Enter price of the product = 3\n",
      "Enter quantity of the product = 3\n",
      "sdf 3 3 9\n",
      "sdf 3 3 9\n",
      "sdf 3 3 9\n",
      "\n",
      "27\n"
     ]
    }
   ],
   "source": [
    "bill = \"\"\n",
    "n = int(input(\"Enter the value of n = \"))\n",
    "all_total = 0\n",
    "\n",
    "for i in range(n):\n",
    "    name = input(\"Enter name of the product = \")\n",
    "    price = int(input(\"Enter price of the product = \"))\n",
    "    quantity = int(input(\"Enter quantity of the product = \"))\n",
    "    total = price * quantity\n",
    "    \n",
    "    data = name + \" \" + str(price) + \" \" + str(quantity) + \" \" + str(total) + \"\\n\"\n",
    "    bill = bill + data\n",
    "    \n",
    "    all_total = all_total + total\n",
    "    \n",
    "print(bill)\n",
    "print(all_total)"
   ]
  },
  {
   "cell_type": "code",
   "execution_count": null,
   "id": "9d68f6a8",
   "metadata": {},
   "outputs": [],
   "source": []
  },
  {
   "cell_type": "code",
   "execution_count": null,
   "id": "e4b61d80",
   "metadata": {},
   "outputs": [],
   "source": []
  },
  {
   "cell_type": "code",
   "execution_count": null,
   "id": "87db143e",
   "metadata": {},
   "outputs": [],
   "source": []
  },
  {
   "cell_type": "code",
   "execution_count": null,
   "id": "b926b238",
   "metadata": {},
   "outputs": [],
   "source": []
  },
  {
   "cell_type": "code",
   "execution_count": null,
   "id": "0ad198f4",
   "metadata": {},
   "outputs": [],
   "source": []
  },
  {
   "cell_type": "code",
   "execution_count": null,
   "id": "0ed6d8da",
   "metadata": {},
   "outputs": [],
   "source": []
  },
  {
   "cell_type": "code",
   "execution_count": null,
   "id": "051bdcee",
   "metadata": {},
   "outputs": [],
   "source": []
  }
 ],
 "metadata": {
  "kernelspec": {
   "display_name": "Python 3 (ipykernel)",
   "language": "python",
   "name": "python3"
  },
  "language_info": {
   "codemirror_mode": {
    "name": "ipython",
    "version": 3
   },
   "file_extension": ".py",
   "mimetype": "text/x-python",
   "name": "python",
   "nbconvert_exporter": "python",
   "pygments_lexer": "ipython3",
   "version": "3.10.9"
  }
 },
 "nbformat": 4,
 "nbformat_minor": 5
}
