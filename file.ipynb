{
 "cells": [
  {
   "cell_type": "code",
   "execution_count": 1,
   "id": "85c6e43e",
   "metadata": {},
   "outputs": [],
   "source": [
    "# file\n",
    "# file = open('<file_name>','<modes>')\n",
    "# file.close()\n",
    "\n",
    "# with open('<file_name>','<modes>')as file:\n",
    "#    <operations>\n",
    "    \n",
    "# Mode\n",
    "# create -> x\n",
    "# read -> r\n",
    "# write -> w\n",
    "# append -> a"
   ]
  },
  {
   "cell_type": "code",
   "execution_count": 2,
   "id": "d4f3b24a",
   "metadata": {},
   "outputs": [
    {
     "name": "stdout",
     "output_type": "stream",
     "text": [
      "The file is already there.\n"
     ]
    }
   ],
   "source": [
    "try:\n",
    "    file = open('data.txt','x')     # to create file we are using (create -> x)   # if there is a chance of getting error then it is kept inside try\n",
    "    file.close()\n",
    "except:\n",
    "    print(\"The file is already there.\") # this ststement will printed if the above statements inside try is expected to generate error "
   ]
  },
  {
   "cell_type": "code",
   "execution_count": 4,
   "id": "11b47a58",
   "metadata": {},
   "outputs": [
    {
     "name": "stdout",
     "output_type": "stream",
     "text": [
      "Hello World\n"
     ]
    }
   ],
   "source": [
    "file = open('data.txt','r')             # to read we are using (read ->r) x = file.read()\n",
    "x = file.read()\n",
    "print(x)\n",
    "file.close()"
   ]
  },
  {
   "cell_type": "code",
   "execution_count": 4,
   "id": "ac551728",
   "metadata": {},
   "outputs": [
    {
     "data": {
      "text/plain": [
       "str"
      ]
     },
     "execution_count": 4,
     "metadata": {},
     "output_type": "execute_result"
    }
   ],
   "source": [
    "type(x)"
   ]
  },
  {
   "cell_type": "code",
   "execution_count": 5,
   "id": "40fe2e6d",
   "metadata": {},
   "outputs": [
    {
     "data": {
      "text/plain": [
       "['1.Hello World', '2.Hello World', '3.sdkjsdls']"
      ]
     },
     "execution_count": 5,
     "metadata": {},
     "output_type": "execute_result"
    }
   ],
   "source": [
    "x.split('\\n')"
   ]
  },
  {
   "cell_type": "code",
   "execution_count": 7,
   "id": "5c598d54",
   "metadata": {},
   "outputs": [
    {
     "data": {
      "text/plain": [
       "['1.Hello World', '2.Hello World', '3.sdkjsdls']"
      ]
     },
     "execution_count": 7,
     "metadata": {},
     "output_type": "execute_result"
    }
   ],
   "source": [
    "y = x.split('\\n')\n",
    "y"
   ]
  },
  {
   "cell_type": "code",
   "execution_count": 8,
   "id": "0ddb7480",
   "metadata": {},
   "outputs": [
    {
     "data": {
      "text/plain": [
       "'2.Hello World'"
      ]
     },
     "execution_count": 8,
     "metadata": {},
     "output_type": "execute_result"
    }
   ],
   "source": [
    "y[1]"
   ]
  },
  {
   "cell_type": "code",
   "execution_count": 9,
   "id": "9545e57e",
   "metadata": {},
   "outputs": [
    {
     "name": "stdout",
     "output_type": "stream",
     "text": [
      "Enter i = 1\n"
     ]
    },
    {
     "data": {
      "text/plain": [
       "'1.Hello World'"
      ]
     },
     "execution_count": 9,
     "metadata": {},
     "output_type": "execute_result"
    }
   ],
   "source": [
    "i = int(input(\"Enter i = \"))\n",
    "y[i-1]\n"
   ]
  },
  {
   "cell_type": "code",
   "execution_count": 7,
   "id": "a5099dda",
   "metadata": {},
   "outputs": [],
   "source": [
    "file = open('data1.txt','w')\n",
    "file.write(\"Hello World\")\n",
    "file.close()"
   ]
  },
  {
   "cell_type": "code",
   "execution_count": 9,
   "id": "e651c339",
   "metadata": {},
   "outputs": [
    {
     "name": "stdout",
     "output_type": "stream",
     "text": [
      "Enter n = 2\n",
      "Enter name = Pen\n",
      "Enter price = 20\n",
      "Enter quantity = 2\n",
      "Enter name = Pencil\n",
      "Enter price = 40\n",
      "Enter quantity = 4\n",
      "Pen 20 2 40\n",
      "Pencil 40 4 160\n",
      "\n"
     ]
    }
   ],
   "source": [
    "# a kind of simple data entry application\n",
    "bill = \"\"\n",
    "n = int(input(\"Enter n = \"))\n",
    "for i in range(n):\n",
    "    name = input(\"Enter name = \")\n",
    "    price = int(input(\"Enter price = \"))\n",
    "    quantity = int(input(\"Enter quantity = \"))\n",
    "    \n",
    "    total = price * quantity\n",
    "    data = f\"{name} {price} {quantity} {total}\\n\"\n",
    "    bill = bill + data\n",
    "    \n",
    "print(bill)\n",
    "\n",
    "file = open('data2.txt','w')\n",
    "file.write(bill)\n",
    "file.close()\n"
   ]
  },
  {
   "cell_type": "code",
   "execution_count": 10,
   "id": "5885fc87",
   "metadata": {},
   "outputs": [
    {
     "name": "stdout",
     "output_type": "stream",
     "text": [
      "Enter n = 2\n",
      "Enter name = Book\n",
      "Enter price = 3000\n",
      "Enter quantity = 2\n",
      "Enter name = Copy\n",
      "Enter price = 200\n",
      "Enter quantity = 3\n",
      "Book 3000 2 6000\n",
      "Copy 200 3 600\n",
      "\n"
     ]
    }
   ],
   "source": [
    "# a kind of simple data entry application\n",
    "bill = \"\"\n",
    "n = int(input(\"Enter n = \"))\n",
    "for i in range(n):\n",
    "    name = input(\"Enter name = \")\n",
    "    price = int(input(\"Enter price = \"))\n",
    "    quantity = int(input(\"Enter quantity = \"))\n",
    "    \n",
    "    total = price * quantity\n",
    "    data = f\"{name} {price} {quantity} {total}\\n\"\n",
    "    bill = bill + data\n",
    "    \n",
    "print(bill)\n",
    "\n",
    "file = open('data2.txt','a')       # a is append so it keeps on adding new new values as we keep on adding\n",
    "file.write(bill)                   # if in case it doesn't find data2.txt file, it itself keeps on adding values creating own file\n",
    "file.close()\n"
   ]
  },
  {
   "cell_type": "code",
   "execution_count": 11,
   "id": "7d92d107",
   "metadata": {},
   "outputs": [
    {
     "name": "stdout",
     "output_type": "stream",
     "text": [
      "Pen 20 2 40\n",
      "Pencil 40 4 160\n",
      "Book 3000 2 6000\n",
      "Copy 200 3 600\n",
      "\n"
     ]
    }
   ],
   "source": [
    "file = open('data2.txt','r')      \n",
    "print(file.read())                  \n",
    "file.close()\n"
   ]
  },
  {
   "cell_type": "code",
   "execution_count": 12,
   "id": "28db86e9",
   "metadata": {},
   "outputs": [
    {
     "name": "stdout",
     "output_type": "stream",
     "text": [
      "Pen 20 2 40\n",
      "Pencil 40 4 160\n",
      "Book 3000 2 6000\n",
      "Copy 200 3 600\n",
      "\n"
     ]
    }
   ],
   "source": [
    "file = open('data2.txt','r')      \n",
    "x = file.read()\n",
    "print(x)\n",
    "file.close()\n"
   ]
  },
  {
   "cell_type": "code",
   "execution_count": 13,
   "id": "6c77b8a2",
   "metadata": {},
   "outputs": [
    {
     "data": {
      "text/plain": [
       "['Pen 20 2 40', 'Pencil 40 4 160', 'Book 3000 2 6000', 'Copy 200 3 600', '']"
      ]
     },
     "execution_count": 13,
     "metadata": {},
     "output_type": "execute_result"
    }
   ],
   "source": [
    "y = x.split('\\n')\n",
    "y"
   ]
  },
  {
   "cell_type": "code",
   "execution_count": 14,
   "id": "187bd4d3",
   "metadata": {},
   "outputs": [
    {
     "data": {
      "text/plain": [
       "'Pen 20 2 40\\nPencil 40 4 160\\nBook 3000 2 6000\\nCopy 200 3 600\\n'"
      ]
     },
     "execution_count": 14,
     "metadata": {},
     "output_type": "execute_result"
    }
   ],
   "source": [
    "x"
   ]
  },
  {
   "cell_type": "code",
   "execution_count": 15,
   "id": "6024b10d",
   "metadata": {},
   "outputs": [
    {
     "data": {
      "text/plain": [
       "['Pen 20 2 40', 'Pencil 40 4 160', 'Book 3000 2 6000', 'Copy 200 3 600']"
      ]
     },
     "execution_count": 15,
     "metadata": {},
     "output_type": "execute_result"
    }
   ],
   "source": [
    "y = x.split('\\n')[0:-1]\n",
    "y"
   ]
  },
  {
   "cell_type": "code",
   "execution_count": 16,
   "id": "c20700b9",
   "metadata": {},
   "outputs": [
    {
     "name": "stdout",
     "output_type": "stream",
     "text": [
      "['Pen', '20', '2', '40']\n",
      "['Pencil', '40', '4', '160']\n",
      "['Book', '3000', '2', '6000']\n",
      "['Copy', '200', '3', '600']\n"
     ]
    }
   ],
   "source": [
    "for i in y:\n",
    "    print(i.split())"
   ]
  },
  {
   "cell_type": "code",
   "execution_count": 17,
   "id": "fe356103",
   "metadata": {},
   "outputs": [
    {
     "data": {
      "text/plain": [
       "[['Pen', '20', '2', '40'],\n",
       " ['Pencil', '40', '4', '160'],\n",
       " ['Book', '3000', '2', '6000'],\n",
       " ['Copy', '200', '3', '600']]"
      ]
     },
     "execution_count": 17,
     "metadata": {},
     "output_type": "execute_result"
    }
   ],
   "source": [
    "bill = []\n",
    "for i in y:\n",
    "    bill.append(i.split())     # this displays list inside list\n",
    "bill                                   "
   ]
  },
  {
   "cell_type": "code",
   "execution_count": 18,
   "id": "6056c84f",
   "metadata": {},
   "outputs": [
    {
     "data": {
      "text/plain": [
       "6800"
      ]
     },
     "execution_count": 18,
     "metadata": {},
     "output_type": "execute_result"
    }
   ],
   "source": [
    "s = 0\n",
    "for i in bill:\n",
    "    s = s + int(i[-1])\n",
    "s"
   ]
  },
  {
   "cell_type": "code",
   "execution_count": 19,
   "id": "ec23adbd",
   "metadata": {},
   "outputs": [
    {
     "name": "stdout",
     "output_type": "stream",
     "text": [
      "40\n",
      "160\n",
      "6000\n",
      "600\n"
     ]
    }
   ],
   "source": [
    "for i in bill:\n",
    "    print(i[-1]) "
   ]
  },
  {
   "cell_type": "code",
   "execution_count": 16,
   "id": "5ca2dc42",
   "metadata": {},
   "outputs": [
    {
     "name": "stdout",
     "output_type": "stream",
     "text": [
      "Enter n = 2\n",
      "Enter name = pen\n",
      "Enter price = 23\n",
      "Enter quantity = 3\n",
      "Enter name = pencil\n",
      "Enter price = 23\n",
      "Enter quantity = 2\n",
      "pen 23 3 69\n",
      "pencil 23 2 46\n",
      "\n"
     ]
    }
   ],
   "source": [
    "# a kind of simple data entry application\n",
    "bill = \"\"\n",
    "n = int(input(\"Enter n = \"))\n",
    "for i in range(n):\n",
    "    name = input(\"Enter name = \")\n",
    "    price = int(input(\"Enter price = \"))\n",
    "    quantity = int(input(\"Enter quantity = \"))\n",
    "    \n",
    "    total = price * quantity\n",
    "    data = f\"{name} {price} {quantity} {total}\\n\"\n",
    "    bill = bill + data\n",
    "    \n",
    "print(bill)\n",
    "\n",
    "file = open('data1.csv','w')       \n",
    "file.write(bill)                   \n",
    "file.close()\n"
   ]
  },
  {
   "cell_type": "code",
   "execution_count": 8,
   "id": "1c2eca61",
   "metadata": {},
   "outputs": [
    {
     "data": {
      "text/plain": [
       "'C:\\\\Users\\\\Dell\\\\Python_class_8am'"
      ]
     },
     "execution_count": 8,
     "metadata": {},
     "output_type": "execute_result"
    }
   ],
   "source": [
    "pwd"
   ]
  },
  {
   "cell_type": "code",
   "execution_count": 3,
   "id": "e3c13a01",
   "metadata": {},
   "outputs": [
    {
     "name": "stdout",
     "output_type": "stream",
     "text": [
      "Enter n = 3\n",
      "Enter name = Pen\n",
      "Enter price = 25\n",
      "Enter quantity = 5\n",
      "Enter name = Pencil\n",
      "Enter price = 30\n",
      "Enter quantity = 2\n",
      "Enter name = Book\n",
      "Enter price = 5000\n",
      "Enter quantity = 3\n",
      "Pen,25,5,125\n",
      "Pencil,30,2,60\n",
      "Book,5000,3,15000\n",
      "\n"
     ]
    }
   ],
   "source": [
    "# a kind of simple data entry application\n",
    "bill = \"\"\n",
    "n = int(input(\"Enter n = \"))\n",
    "for i in range(n):\n",
    "    name = input(\"Enter name = \")\n",
    "    price = int(input(\"Enter price = \"))\n",
    "    quantity = int(input(\"Enter quantity = \"))\n",
    "    \n",
    "    total = price * quantity\n",
    "    data = f\"{name},{price},{quantity},{total}\\n\"\n",
    "    bill = bill + data\n",
    "    \n",
    "print(bill)\n",
    "\n",
    "file = open('data1.csv','w')       \n",
    "file.write('Name,Price,Quantity,Total\\n')                   \n",
    "file.write(bill)\n",
    "file.close()"
   ]
  },
  {
   "cell_type": "code",
   "execution_count": 4,
   "id": "9b360e6c",
   "metadata": {},
   "outputs": [
    {
     "data": {
      "text/html": [
       "<div>\n",
       "<style scoped>\n",
       "    .dataframe tbody tr th:only-of-type {\n",
       "        vertical-align: middle;\n",
       "    }\n",
       "\n",
       "    .dataframe tbody tr th {\n",
       "        vertical-align: top;\n",
       "    }\n",
       "\n",
       "    .dataframe thead th {\n",
       "        text-align: right;\n",
       "    }\n",
       "</style>\n",
       "<table border=\"1\" class=\"dataframe\">\n",
       "  <thead>\n",
       "    <tr style=\"text-align: right;\">\n",
       "      <th></th>\n",
       "      <th>Name</th>\n",
       "      <th>Price</th>\n",
       "      <th>Quantity</th>\n",
       "      <th>Total</th>\n",
       "    </tr>\n",
       "  </thead>\n",
       "  <tbody>\n",
       "    <tr>\n",
       "      <th>0</th>\n",
       "      <td>Pen</td>\n",
       "      <td>25</td>\n",
       "      <td>5</td>\n",
       "      <td>125</td>\n",
       "    </tr>\n",
       "    <tr>\n",
       "      <th>1</th>\n",
       "      <td>Pencil</td>\n",
       "      <td>30</td>\n",
       "      <td>2</td>\n",
       "      <td>60</td>\n",
       "    </tr>\n",
       "    <tr>\n",
       "      <th>2</th>\n",
       "      <td>Book</td>\n",
       "      <td>5000</td>\n",
       "      <td>3</td>\n",
       "      <td>15000</td>\n",
       "    </tr>\n",
       "  </tbody>\n",
       "</table>\n",
       "</div>"
      ],
      "text/plain": [
       "     Name  Price  Quantity  Total\n",
       "0     Pen     25         5    125\n",
       "1  Pencil     30         2     60\n",
       "2    Book   5000         3  15000"
      ]
     },
     "execution_count": 4,
     "metadata": {},
     "output_type": "execute_result"
    }
   ],
   "source": [
    "import pandas as pd\n",
    "df = pd.read_csv('data1.csv')\n",
    "df"
   ]
  },
  {
   "cell_type": "code",
   "execution_count": null,
   "id": "15674acc",
   "metadata": {},
   "outputs": [],
   "source": []
  },
  {
   "cell_type": "code",
   "execution_count": null,
   "id": "bbc12dcb",
   "metadata": {},
   "outputs": [],
   "source": []
  },
  {
   "cell_type": "code",
   "execution_count": null,
   "id": "50dec8b4",
   "metadata": {},
   "outputs": [],
   "source": []
  },
  {
   "cell_type": "code",
   "execution_count": null,
   "id": "57236c31",
   "metadata": {},
   "outputs": [],
   "source": []
  }
 ],
 "metadata": {
  "kernelspec": {
   "display_name": "Python 3 (ipykernel)",
   "language": "python",
   "name": "python3"
  },
  "language_info": {
   "codemirror_mode": {
    "name": "ipython",
    "version": 3
   },
   "file_extension": ".py",
   "mimetype": "text/x-python",
   "name": "python",
   "nbconvert_exporter": "python",
   "pygments_lexer": "ipython3",
   "version": "3.10.9"
  }
 },
 "nbformat": 4,
 "nbformat_minor": 5
}
