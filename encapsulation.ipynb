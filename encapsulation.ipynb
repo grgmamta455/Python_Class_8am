{
 "cells": [
  {
   "cell_type": "code",
   "execution_count": 1,
   "id": "77330e80",
   "metadata": {},
   "outputs": [
    {
     "name": "stdout",
     "output_type": "stream",
     "text": [
      "Enter name = Mamta\n",
      "Enter age = 22\n",
      "Mamta 22\n"
     ]
    }
   ],
   "source": [
    "# private, protected, public\n",
    "\n",
    "# Public members\n",
    "class Info:\n",
    "    def __init__(self):\n",
    "        self.name = input(\"Enter name = \")\n",
    "        self.age = input(\"Enter age = \")\n",
    "obj = Info()\n",
    "print(obj.name,obj.age)"
   ]
  },
  {
   "cell_type": "code",
   "execution_count": 3,
   "id": "6d70a16f",
   "metadata": {},
   "outputs": [
    {
     "name": "stdout",
     "output_type": "stream",
     "text": [
      "Enter name = Sam\n",
      "Enter age = 33\n",
      "Sam 33\n"
     ]
    }
   ],
   "source": [
    "# protected\n",
    "\n",
    "class Info:\n",
    "    def __init__(self):\n",
    "        self._name = input(\"Enter name = \")            # single underscore is used, so protected\n",
    "        self._age = int(input(\"Enter age = \"))\n",
    "                       \n",
    "obj = Info()\n",
    "print(obj._name,obj._age)"
   ]
  },
  {
   "cell_type": "code",
   "execution_count": 5,
   "id": "e9a0c852",
   "metadata": {},
   "outputs": [
    {
     "name": "stdout",
     "output_type": "stream",
     "text": [
      "Enter name = sdf\n",
      "Enter age = 2\n"
     ]
    },
    {
     "ename": "AttributeError",
     "evalue": "'Info' object has no attribute '__name'",
     "output_type": "error",
     "traceback": [
      "\u001b[1;31m---------------------------------------------------------------------------\u001b[0m",
      "\u001b[1;31mAttributeError\u001b[0m                            Traceback (most recent call last)",
      "Cell \u001b[1;32mIn[5], line 9\u001b[0m\n\u001b[0;32m      6\u001b[0m         \u001b[38;5;28mself\u001b[39m\u001b[38;5;241m.\u001b[39m__age \u001b[38;5;241m=\u001b[39m \u001b[38;5;28mint\u001b[39m(\u001b[38;5;28minput\u001b[39m(\u001b[38;5;124m\"\u001b[39m\u001b[38;5;124mEnter age = \u001b[39m\u001b[38;5;124m\"\u001b[39m))\n\u001b[0;32m      8\u001b[0m obj \u001b[38;5;241m=\u001b[39m Info()\n\u001b[1;32m----> 9\u001b[0m \u001b[38;5;28mprint\u001b[39m(\u001b[43mobj\u001b[49m\u001b[38;5;241;43m.\u001b[39;49m\u001b[43m__name\u001b[49m,obj\u001b[38;5;241m.\u001b[39m__age)\n",
      "\u001b[1;31mAttributeError\u001b[0m: 'Info' object has no attribute '__name'"
     ]
    }
   ],
   "source": [
    "# private\n",
    "\n",
    "class Info:\n",
    "    def __init__(self):\n",
    "        self.__name = input(\"Enter name = \")            # double underscore is used, so protected\n",
    "        self.__age = int(input(\"Enter age = \"))\n",
    "                       \n",
    "obj = Info()\n",
    "print(obj.__name,obj.__age)"
   ]
  },
  {
   "cell_type": "code",
   "execution_count": 8,
   "id": "1ba1ebbe",
   "metadata": {},
   "outputs": [
    {
     "name": "stdout",
     "output_type": "stream",
     "text": [
      "Enter name = Pam\n",
      "Enter age = 33\n",
      "Pam\n",
      "33\n"
     ]
    }
   ],
   "source": [
    "# private\n",
    "\n",
    "class Info:\n",
    "    def __init__(self):\n",
    "        self.__name = input(\"Enter name = \")            # double underscore is used, so protected\n",
    "        self.__age = int(input(\"Enter age = \"))\n",
    "                       \n",
    "obj = Info()\n",
    "print(obj._Info__name)        # we use this trick to print out, but we dont usually do this .If we use this,                           \n",
    "print(obj._Info__age)         # it is mainly for debugging. But the fact is that if we start using this then there is no point\n",
    "                              # of creation of public, private and protected attributes."
   ]
  },
  {
   "cell_type": "code",
   "execution_count": 7,
   "id": "69b9d483",
   "metadata": {},
   "outputs": [
    {
     "name": "stdout",
     "output_type": "stream",
     "text": [
      "Enter name = kh\n",
      "Enter address = jhg\n",
      "Enter age = 6\n",
      "kh jhg 6\n",
      "Hello World I am kh.I am from jhg.\n"
     ]
    }
   ],
   "source": [
    "class Data:                                           # class A:\n",
    "    def __init__(self,name,address,age):\n",
    "        self.name = name\n",
    "        self._address = address       # protected as single _ is used\n",
    "        self.__age = age              # private as double _ is used\n",
    "        \n",
    "    def data(self):                                 \n",
    "        print(self.name,self._address,self.__age)  # here age is private so it must be defined inside same class Data:\n",
    "        \n",
    "class Info(Data):                                     #class B(A):              \n",
    "    def info(self):\n",
    "        print(f\"Hello World I am {self.name}.I am from {self._address}.\")  # we cannot define age here as it is private \n",
    "        \n",
    "name = input(\"Enter name = \")\n",
    "address = input(\"Enter address = \")\n",
    "age = input(\"Enter age = \")\n",
    "\n",
    "obj = Info(name,address,age)\n",
    "obj.data()\n",
    "obj.info()"
   ]
  },
  {
   "cell_type": "code",
   "execution_count": 9,
   "id": "e06cf9d7",
   "metadata": {},
   "outputs": [
    {
     "name": "stdout",
     "output_type": "stream",
     "text": [
      "Enter name = Sam\n",
      "Enter address = Pokhara\n",
      "Enter age = 22\n",
      "Sam Pokhara 22\n",
      "Hello World I am Sam.I am from Pokhara. I am 22.\n"
     ]
    }
   ],
   "source": [
    "class Data:                                           # class A:\n",
    "    def __init__(self,name,address,age):\n",
    "        self.name = name\n",
    "        self._address = address       # protected as single _ is used\n",
    "        self.__age = age              # private as double _ is used\n",
    "        \n",
    "    def data(self):                                 \n",
    "        print(self.name,self._address,self.__age)  # here age is private so it must be defined inside same class Data:\n",
    "        \n",
    "class Info(Data):                                     #class B(A):              \n",
    "    def info(self):\n",
    "        print(f\"Hello World I am {self.name}.I am from {self._address}. I am {self._Data__age}.\")  # here we can define age using above mentioned trick i.e. {self. _Data__age}       \n",
    "name = input(\"Enter name = \")\n",
    "address = input(\"Enter address = \")\n",
    "age = input(\"Enter age = \")\n",
    "\n",
    "obj = Info(name,address,age)\n",
    "obj.data()\n",
    "obj.info()"
   ]
  },
  {
   "cell_type": "code",
   "execution_count": 10,
   "id": "49e1f02c",
   "metadata": {},
   "outputs": [
    {
     "name": "stdout",
     "output_type": "stream",
     "text": [
      "Enter name = Sam\n",
      "Enter address = Pokhara\n",
      "Enter age = 33\n",
      "Sam Pokhara 33\n",
      "Hello World I am Sam.I am from Pokhara. I am 33.\n"
     ]
    }
   ],
   "source": [
    "class Data:                                           # class A:\n",
    "    def __init__(self,name,address,age):\n",
    "        self.name = name\n",
    "        self._address = address       # protected as single _ is used\n",
    "        self.__age = age              # private as double _ is used\n",
    "        \n",
    "    def data(self):                                 \n",
    "        print(self.name,self._address,self.__age)  # here age is private so it must be defined inside same class Data:\n",
    "        \n",
    "    def my_age(self):\n",
    "        return self.__age               # using return type\n",
    "        \n",
    "class Info(Data):                                     #class B(A):              \n",
    "    def info(self):\n",
    "        print(f\"Hello World I am {self.name}.I am from {self._address}. I am {super().my_age()}.\")  # if return is used we must use {super().my_age()}      \n",
    "name = input(\"Enter name = \")\n",
    "address = input(\"Enter address = \")\n",
    "age = input(\"Enter age = \")\n",
    "\n",
    "obj = Info(name,address,age)\n",
    "obj.data()\n",
    "obj.info()"
   ]
  },
  {
   "cell_type": "code",
   "execution_count": null,
   "id": "51cf8e88",
   "metadata": {},
   "outputs": [],
   "source": []
  },
  {
   "cell_type": "code",
   "execution_count": null,
   "id": "7f7e3e77",
   "metadata": {},
   "outputs": [],
   "source": []
  },
  {
   "cell_type": "code",
   "execution_count": null,
   "id": "59461030",
   "metadata": {},
   "outputs": [],
   "source": []
  },
  {
   "cell_type": "code",
   "execution_count": null,
   "id": "577b92c7",
   "metadata": {},
   "outputs": [],
   "source": []
  },
  {
   "cell_type": "code",
   "execution_count": null,
   "id": "59b65514",
   "metadata": {},
   "outputs": [],
   "source": []
  },
  {
   "cell_type": "code",
   "execution_count": null,
   "id": "2fdbdbf2",
   "metadata": {},
   "outputs": [],
   "source": []
  },
  {
   "cell_type": "code",
   "execution_count": null,
   "id": "8efd7b25",
   "metadata": {},
   "outputs": [],
   "source": []
  },
  {
   "cell_type": "code",
   "execution_count": null,
   "id": "78a22569",
   "metadata": {},
   "outputs": [],
   "source": []
  },
  {
   "cell_type": "code",
   "execution_count": null,
   "id": "80762a92",
   "metadata": {},
   "outputs": [],
   "source": []
  },
  {
   "cell_type": "code",
   "execution_count": null,
   "id": "3e7d0574",
   "metadata": {},
   "outputs": [],
   "source": []
  },
  {
   "cell_type": "code",
   "execution_count": null,
   "id": "76f9ad18",
   "metadata": {},
   "outputs": [],
   "source": []
  },
  {
   "cell_type": "code",
   "execution_count": null,
   "id": "3b65efbf",
   "metadata": {},
   "outputs": [],
   "source": []
  },
  {
   "cell_type": "code",
   "execution_count": null,
   "id": "5921bfd2",
   "metadata": {},
   "outputs": [],
   "source": []
  },
  {
   "cell_type": "code",
   "execution_count": null,
   "id": "b58464dd",
   "metadata": {},
   "outputs": [],
   "source": []
  },
  {
   "cell_type": "code",
   "execution_count": null,
   "id": "68fe602f",
   "metadata": {},
   "outputs": [],
   "source": []
  },
  {
   "cell_type": "code",
   "execution_count": null,
   "id": "861adecf",
   "metadata": {},
   "outputs": [],
   "source": []
  },
  {
   "cell_type": "code",
   "execution_count": null,
   "id": "ebb2bea2",
   "metadata": {},
   "outputs": [],
   "source": []
  },
  {
   "cell_type": "code",
   "execution_count": null,
   "id": "2b0809a8",
   "metadata": {},
   "outputs": [],
   "source": []
  },
  {
   "cell_type": "code",
   "execution_count": null,
   "id": "4772abaa",
   "metadata": {},
   "outputs": [],
   "source": []
  },
  {
   "cell_type": "code",
   "execution_count": null,
   "id": "b95e5d09",
   "metadata": {},
   "outputs": [],
   "source": []
  },
  {
   "cell_type": "code",
   "execution_count": null,
   "id": "cde414d2",
   "metadata": {},
   "outputs": [],
   "source": []
  },
  {
   "cell_type": "code",
   "execution_count": null,
   "id": "7e902184",
   "metadata": {},
   "outputs": [],
   "source": []
  },
  {
   "cell_type": "code",
   "execution_count": null,
   "id": "bb40362b",
   "metadata": {},
   "outputs": [],
   "source": []
  },
  {
   "cell_type": "code",
   "execution_count": null,
   "id": "0f87adab",
   "metadata": {},
   "outputs": [],
   "source": []
  },
  {
   "cell_type": "code",
   "execution_count": null,
   "id": "18d5a9c0",
   "metadata": {},
   "outputs": [],
   "source": []
  },
  {
   "cell_type": "code",
   "execution_count": null,
   "id": "aed36d03",
   "metadata": {},
   "outputs": [],
   "source": []
  },
  {
   "cell_type": "code",
   "execution_count": null,
   "id": "d1d603ce",
   "metadata": {},
   "outputs": [],
   "source": []
  },
  {
   "cell_type": "code",
   "execution_count": null,
   "id": "afac6b75",
   "metadata": {},
   "outputs": [],
   "source": []
  }
 ],
 "metadata": {
  "kernelspec": {
   "display_name": "Python 3 (ipykernel)",
   "language": "python",
   "name": "python3"
  },
  "language_info": {
   "codemirror_mode": {
    "name": "ipython",
    "version": 3
   },
   "file_extension": ".py",
   "mimetype": "text/x-python",
   "name": "python",
   "nbconvert_exporter": "python",
   "pygments_lexer": "ipython3",
   "version": "3.10.9"
  }
 },
 "nbformat": 4,
 "nbformat_minor": 5
}
