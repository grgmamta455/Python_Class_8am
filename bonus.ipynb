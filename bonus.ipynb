{
 "cells": [
  {
   "cell_type": "code",
   "execution_count": 1,
   "id": "46a91fd1",
   "metadata": {},
   "outputs": [
    {
     "name": "stdout",
     "output_type": "stream",
     "text": [
      "2023-06-19 08:24:58.253556\n"
     ]
    }
   ],
   "source": [
    "# date and time package\n",
    "\n",
    "import datetime as dt\n",
    "\n",
    "x = dt.datetime.now()\n",
    "print(x)"
   ]
  },
  {
   "cell_type": "code",
   "execution_count": 3,
   "id": "475313bc",
   "metadata": {},
   "outputs": [
    {
     "name": "stdout",
     "output_type": "stream",
     "text": [
      "2023\n",
      "6\n",
      "19\n",
      "8\n"
     ]
    }
   ],
   "source": [
    "x = dt.datetime.now()\n",
    "print(x.year)\n",
    "print(x.month)\n",
    "print(x.day)\n",
    "print(x.hour)"
   ]
  },
  {
   "cell_type": "code",
   "execution_count": 11,
   "id": "6bb7b91e",
   "metadata": {},
   "outputs": [
    {
     "name": "stdout",
     "output_type": "stream",
     "text": [
      "Monday\n",
      "Mon\n",
      "June\n",
      "Jun\n",
      "20\n",
      "Mon Jun 19 08:26:32 2023\n",
      "06/19/23\n",
      "19\n"
     ]
    }
   ],
   "source": [
    "print(x.strftime(\"%A\"))\n",
    "print(x.strftime(\"%a\"))\n",
    "print(x.strftime(\"%B\"))\n",
    "print(x.strftime(\"%b\"))\n",
    "print(x.strftime(\"%C\"))\n",
    "print(x.strftime(\"%c\"))\n",
    "print(x.strftime(\"%D\"))\n",
    "print(x.strftime(\"%d\"))"
   ]
  },
  {
   "cell_type": "code",
   "execution_count": 12,
   "id": "44cc1304",
   "metadata": {},
   "outputs": [
    {
     "name": "stdout",
     "output_type": "stream",
     "text": [
      "Enter name = Mamta\n",
      "0:00:03.936664\n"
     ]
    }
   ],
   "source": [
    "x = dt.datetime.now()\n",
    "name = input(\"Enter name = \")\n",
    "y = dt.datetime.now()\n",
    "\n",
    "print(y-x)"
   ]
  },
  {
   "cell_type": "code",
   "execution_count": 16,
   "id": "b7268cbd",
   "metadata": {},
   "outputs": [
    {
     "name": "stdout",
     "output_type": "stream",
     "text": [
      "Enter otp code = 2323\n",
      "Please collect your cash.\n"
     ]
    }
   ],
   "source": [
    "x = dt.datetime.now().second\n",
    "otp = input(\"Enter otp code = \")\n",
    "y = dt.datetime.now().second\n",
    "if y-x < 5:\n",
    "    print(\"Please collect your cash.\")\n",
    "else:\n",
    "    print(f\"You took {y-x} seconds.\", \"Your time is out!\")\n"
   ]
  },
  {
   "cell_type": "code",
   "execution_count": 18,
   "id": "fccac18c",
   "metadata": {},
   "outputs": [
    {
     "name": "stdout",
     "output_type": "stream",
     "text": [
      "Enter otp code = 3243\n",
      "You took 6 seconds. Your time is out!\n"
     ]
    }
   ],
   "source": [
    "x = dt.datetime.now().second\n",
    "otp = input(\"Enter otp code = \")\n",
    "y = dt.datetime.now().second\n",
    "if y-x < 5:\n",
    "    print(\"Please collect your cash.\")\n",
    "else:\n",
    "    print(f\"You took {y-x} seconds.\", \"Your time is out!\")\n"
   ]
  },
  {
   "cell_type": "code",
   "execution_count": 19,
   "id": "0e3184b3",
   "metadata": {},
   "outputs": [
    {
     "data": {
      "text/plain": [
       "['.ipynb_checkpoints',\n",
       " 'bonus.ipynb',\n",
       " 'books.csv',\n",
       " 'data.csv',\n",
       " 'data.txt',\n",
       " 'data1.csv',\n",
       " 'data1.txt',\n",
       " 'data2.txt',\n",
       " 'dataa.csv',\n",
       " 'dataa.txt',\n",
       " 'dataa1.csv',\n",
       " 'dataa1.txt',\n",
       " 'dataa2.csv',\n",
       " 'database.ipynb',\n",
       " 'dictionary.ipynb',\n",
       " 'dict_data.csv',\n",
       " 'encapsulation.ipynb',\n",
       " 'file.ipynb',\n",
       " 'function.ipynb',\n",
       " 'if else.ipynb',\n",
       " 'if_else',\n",
       " 'Inheritance.ipynb',\n",
       " 'list_data.csv',\n",
       " 'loop.ipynb',\n",
       " 'new_data.csv',\n",
       " 'new_data.json',\n",
       " 'new_dataa2.csv',\n",
       " 'new_dataa3.csv',\n",
       " 'Object_Oriented_Programming.ipynb',\n",
       " 'p1.ipynb',\n",
       " 'panda.ipynb',\n",
       " 'panda1.ipynb',\n",
       " 'Polymorphism.ipynb',\n",
       " 'sorting.ipynb',\n",
       " 'string.ipynb',\n",
       " 'tuple.ipynb',\n",
       " 'tuple_p.ipynb',\n",
       " 'Untitled.ipynb',\n",
       " 'Untitled1.ipynb',\n",
       " 'Untitled2.ipynb',\n",
       " 'Untitled3.ipynb',\n",
       " 'Untitled4.ipynb',\n",
       " 'Untitled5.ipynb',\n",
       " 'Untitled6.ipynb',\n",
       " 'while loop.ipynb']"
      ]
     },
     "execution_count": 19,
     "metadata": {},
     "output_type": "execute_result"
    }
   ],
   "source": [
    "# os package\n",
    "\n",
    "import os \n",
    "os.listdir()"
   ]
  },
  {
   "cell_type": "code",
   "execution_count": 20,
   "id": "d8cb75f5",
   "metadata": {},
   "outputs": [],
   "source": [
    "os.mkdir('newFolder')   # new folder named 'newFolder' will be created inside Python_class_8am folder"
   ]
  },
  {
   "cell_type": "code",
   "execution_count": 21,
   "id": "7d2f9bb7",
   "metadata": {},
   "outputs": [],
   "source": [
    "os.chdir('newFolder')"
   ]
  },
  {
   "cell_type": "code",
   "execution_count": 22,
   "id": "480c0393",
   "metadata": {},
   "outputs": [
    {
     "data": {
      "text/plain": [
       "'C:\\\\Users\\\\Dell\\\\Python_class_8am\\\\newFolder'"
      ]
     },
     "execution_count": 22,
     "metadata": {},
     "output_type": "execute_result"
    }
   ],
   "source": [
    "pwd"
   ]
  },
  {
   "cell_type": "code",
   "execution_count": 23,
   "id": "5f8358dc",
   "metadata": {},
   "outputs": [
    {
     "name": "stdout",
     "output_type": "stream",
     "text": [
      "C:\\Users\\Dell\\Python_class_8am\n"
     ]
    }
   ],
   "source": [
    "cd .."
   ]
  },
  {
   "cell_type": "code",
   "execution_count": 24,
   "id": "bf1d1c21",
   "metadata": {},
   "outputs": [],
   "source": [
    "os.rename('newFolder','New_Folder')"
   ]
  },
  {
   "cell_type": "code",
   "execution_count": 25,
   "id": "e8554754",
   "metadata": {},
   "outputs": [],
   "source": [
    "os.rename('New_Folder','new_folder')"
   ]
  },
  {
   "cell_type": "code",
   "execution_count": 26,
   "id": "58b863ac",
   "metadata": {},
   "outputs": [],
   "source": [
    "os.rmdir('new_folder')"
   ]
  },
  {
   "cell_type": "code",
   "execution_count": null,
   "id": "b8840ebb",
   "metadata": {},
   "outputs": [],
   "source": [
    "# Comphresions, list, Dictionary"
   ]
  },
  {
   "cell_type": "code",
   "execution_count": 28,
   "id": "5507e2df",
   "metadata": {},
   "outputs": [
    {
     "data": {
      "text/plain": [
       "[0, 1, 2, 3, 4, 5, 6, 7, 8, 9]"
      ]
     },
     "execution_count": 28,
     "metadata": {},
     "output_type": "execute_result"
    }
   ],
   "source": [
    "l = [i for i in range(10)]\n",
    "l"
   ]
  },
  {
   "cell_type": "code",
   "execution_count": 29,
   "id": "7dcefebc",
   "metadata": {},
   "outputs": [
    {
     "name": "stdout",
     "output_type": "stream",
     "text": [
      "Enter value = Sam\n",
      "Enter value = Pam\n",
      "Enter value = HAri\n",
      "Enter value = Pema\n",
      "Enter value = Ram\n"
     ]
    },
    {
     "data": {
      "text/plain": [
       "['Sam', 'Pam', 'HAri', 'Pema', 'Ram']"
      ]
     },
     "execution_count": 29,
     "metadata": {},
     "output_type": "execute_result"
    }
   ],
   "source": [
    "l = [input(\"Enter value = \") for i in range(5)]\n",
    "l"
   ]
  },
  {
   "cell_type": "code",
   "execution_count": 30,
   "id": "e11d4a1d",
   "metadata": {},
   "outputs": [
    {
     "data": {
      "text/plain": [
       "['apple', 'ball', 'cat', 'fish', 'bird', 'dog']"
      ]
     },
     "execution_count": 30,
     "metadata": {},
     "output_type": "execute_result"
    }
   ],
   "source": [
    "l = [\"Apple\",\"Ball\",\"Cat\",\"Fish\",\"Bird\",\"Dog\"]\n",
    "data = [i.lower() for i in l]\n",
    "data"
   ]
  },
  {
   "cell_type": "code",
   "execution_count": 31,
   "id": "f55116c9",
   "metadata": {},
   "outputs": [
    {
     "data": {
      "text/plain": [
       "{'Apple': 'apple',\n",
       " 'Ball': 'ball',\n",
       " 'Cat': 'cat',\n",
       " 'Fish': 'fish',\n",
       " 'Bird': 'bird',\n",
       " 'Dog': 'dog'}"
      ]
     },
     "execution_count": 31,
     "metadata": {},
     "output_type": "execute_result"
    }
   ],
   "source": [
    "# in dict\n",
    "\n",
    "l = [\"Apple\",\"Ball\",\"Cat\",\"Fish\",\"Bird\",\"Dog\"]\n",
    "d = {i:i.lower() for i in l}\n",
    "d"
   ]
  },
  {
   "cell_type": "code",
   "execution_count": 32,
   "id": "cd7b5114",
   "metadata": {},
   "outputs": [
    {
     "data": {
      "text/plain": [
       "dict_values(['apple', 'ball', 'cat', 'fish', 'bird', 'dog'])"
      ]
     },
     "execution_count": 32,
     "metadata": {},
     "output_type": "execute_result"
    }
   ],
   "source": [
    "d.values()"
   ]
  },
  {
   "cell_type": "code",
   "execution_count": 33,
   "id": "4e24b100",
   "metadata": {},
   "outputs": [
    {
     "data": {
      "text/plain": [
       "['apple', 'ball', 'cat', 'fish', 'bird', 'dog']"
      ]
     },
     "execution_count": 33,
     "metadata": {},
     "output_type": "execute_result"
    }
   ],
   "source": [
    "list(d.values())"
   ]
  },
  {
   "cell_type": "code",
   "execution_count": 34,
   "id": "2afabdfa",
   "metadata": {},
   "outputs": [
    {
     "data": {
      "text/plain": [
       "[('Apple', 'apple'),\n",
       " ('Ball', 'ball'),\n",
       " ('Cat', 'cat'),\n",
       " ('Fish', 'fish'),\n",
       " ('Bird', 'bird'),\n",
       " ('Dog', 'dog')]"
      ]
     },
     "execution_count": 34,
     "metadata": {},
     "output_type": "execute_result"
    }
   ],
   "source": [
    "list(d.items())"
   ]
  },
  {
   "cell_type": "code",
   "execution_count": 36,
   "id": "7b13c12a",
   "metadata": {},
   "outputs": [
    {
     "name": "stdout",
     "output_type": "stream",
     "text": [
      "Enter name = Ram\n",
      "Enter phone9833244333\n",
      "Enter name = Sam\n",
      "Enter phone9837372828\n",
      "Enter name = Pam\n",
      "Enter phone98327432445\n",
      "Enter name = Hari\n",
      "Enter phone9847598489\n",
      "Enter name = Ramesh\n",
      "Enter phone9876263773\n"
     ]
    },
    {
     "data": {
      "text/plain": [
       "{'Ram': '9833244333',\n",
       " 'Sam': '9837372828',\n",
       " 'Pam': '98327432445',\n",
       " 'Hari': '9847598489',\n",
       " 'Ramesh': '9876263773'}"
      ]
     },
     "execution_count": 36,
     "metadata": {},
     "output_type": "execute_result"
    }
   ],
   "source": [
    "d = {input(\"Enter name = \"):input(\"Enter phone\") for i in range(5)}\n",
    "d"
   ]
  },
  {
   "cell_type": "code",
   "execution_count": null,
   "id": "c648e9e4",
   "metadata": {},
   "outputs": [],
   "source": []
  },
  {
   "cell_type": "code",
   "execution_count": null,
   "id": "d78f06d1",
   "metadata": {},
   "outputs": [],
   "source": []
  },
  {
   "cell_type": "code",
   "execution_count": null,
   "id": "83434bdf",
   "metadata": {},
   "outputs": [],
   "source": []
  },
  {
   "cell_type": "code",
   "execution_count": null,
   "id": "759573ae",
   "metadata": {},
   "outputs": [],
   "source": []
  },
  {
   "cell_type": "code",
   "execution_count": null,
   "id": "ce212d5a",
   "metadata": {},
   "outputs": [],
   "source": []
  },
  {
   "cell_type": "code",
   "execution_count": null,
   "id": "c5eddec0",
   "metadata": {},
   "outputs": [],
   "source": []
  },
  {
   "cell_type": "code",
   "execution_count": null,
   "id": "03c274bc",
   "metadata": {},
   "outputs": [],
   "source": []
  },
  {
   "cell_type": "code",
   "execution_count": null,
   "id": "d5585c95",
   "metadata": {},
   "outputs": [],
   "source": []
  },
  {
   "cell_type": "code",
   "execution_count": null,
   "id": "b08b1863",
   "metadata": {},
   "outputs": [],
   "source": []
  },
  {
   "cell_type": "code",
   "execution_count": null,
   "id": "30606ea3",
   "metadata": {},
   "outputs": [],
   "source": []
  },
  {
   "cell_type": "code",
   "execution_count": null,
   "id": "c3d9b9d6",
   "metadata": {},
   "outputs": [],
   "source": []
  },
  {
   "cell_type": "code",
   "execution_count": null,
   "id": "c1e877d7",
   "metadata": {},
   "outputs": [],
   "source": []
  }
 ],
 "metadata": {
  "kernelspec": {
   "display_name": "Python 3 (ipykernel)",
   "language": "python",
   "name": "python3"
  },
  "language_info": {
   "codemirror_mode": {
    "name": "ipython",
    "version": 3
   },
   "file_extension": ".py",
   "mimetype": "text/x-python",
   "name": "python",
   "nbconvert_exporter": "python",
   "pygments_lexer": "ipython3",
   "version": "3.10.9"
  }
 },
 "nbformat": 4,
 "nbformat_minor": 5
}
