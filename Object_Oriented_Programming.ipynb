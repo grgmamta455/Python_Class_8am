{
 "cells": [
  {
   "cell_type": "code",
   "execution_count": 1,
   "id": "fe4f9d8b",
   "metadata": {},
   "outputs": [],
   "source": [
    "#class <class_name>:\n",
    "#        <method>\n",
    "        \n",
    "#obj = <class_name>()"
   ]
  },
  {
   "cell_type": "code",
   "execution_count": 8,
   "id": "a8e0e274",
   "metadata": {},
   "outputs": [
    {
     "name": "stdout",
     "output_type": "stream",
     "text": [
      "Hello World\n"
     ]
    }
   ],
   "source": [
    "class Hello:                             # class is initialized  # first alphabet of class must always be capital\n",
    "    @staticmethod\n",
    "    def hello():                         # method\n",
    "        print(\"Hello World\")\n",
    "\n",
    "obj = Hello()                            # object\n",
    "obj.hello()"
   ]
  },
  {
   "cell_type": "code",
   "execution_count": 9,
   "id": "1cc8dcb5",
   "metadata": {},
   "outputs": [
    {
     "name": "stdout",
     "output_type": "stream",
     "text": [
      "Hello World\n"
     ]
    }
   ],
   "source": [
    "class Hello:                             # class is initialized  # first alphabet of class must always be capital\n",
    "    \n",
    "    def hello(self):                         # method\n",
    "        print(\"Hello World\")\n",
    "\n",
    "obj = Hello()                            # object\n",
    "obj.hello()"
   ]
  },
  {
   "cell_type": "code",
   "execution_count": 10,
   "id": "0aa3d07f",
   "metadata": {},
   "outputs": [
    {
     "name": "stdout",
     "output_type": "stream",
     "text": [
      "Hello World\n"
     ]
    }
   ],
   "source": [
    "class Hello:\n",
    "    \n",
    "    def hello(s):\n",
    "        print(\"Hello World\")\n",
    "        \n",
    "obj = Hello()\n",
    "obj.hello()"
   ]
  },
  {
   "cell_type": "code",
   "execution_count": 13,
   "id": "6a1bfe12",
   "metadata": {},
   "outputs": [
    {
     "name": "stdout",
     "output_type": "stream",
     "text": [
      "10000\n"
     ]
    }
   ],
   "source": [
    "class Cal:\n",
    "    \n",
    "    def volume(self,l,b,h):\n",
    "        v = l * b * h\n",
    "        print(v)\n",
    "        \n",
    "obj = Cal()\n",
    "obj.volume(100,50,2)"
   ]
  },
  {
   "cell_type": "code",
   "execution_count": 14,
   "id": "a18a799e",
   "metadata": {},
   "outputs": [
    {
     "name": "stdout",
     "output_type": "stream",
     "text": [
      "10000\n",
      "5000\n"
     ]
    }
   ],
   "source": [
    "class Cal:\n",
    "    \n",
    "    def volume(self,l,b,h):\n",
    "        v = l * b * h\n",
    "        print(v)\n",
    "        \n",
    "    def area(self,l,b):\n",
    "        a = l * b\n",
    "        print(a)\n",
    "        \n",
    "obj = Cal()\n",
    "obj.volume(100,50,2)\n",
    "obj.area(100,50)"
   ]
  },
  {
   "cell_type": "code",
   "execution_count": 16,
   "id": "d1b28b99",
   "metadata": {},
   "outputs": [
    {
     "name": "stdout",
     "output_type": "stream",
     "text": [
      "Enter l = 4\n",
      "Enter b = 5\n",
      "Enter h = 4\n",
      "80\n",
      "20\n"
     ]
    }
   ],
   "source": [
    "class Cal:\n",
    "    \n",
    "    def __init__(self,l,b,h):   # self is a reference to the current constructer \n",
    "        self.x = l\n",
    "        self.y = b\n",
    "        self.z = h\n",
    "    \n",
    "    def volume(self):\n",
    "        v = self.x * self.y * self.z\n",
    "        print(v)\n",
    "        \n",
    "    def area(self):\n",
    "        a = self.x * self.y\n",
    "        print(a)\n",
    "        \n",
    "l = int(input(\"Enter l = \"))\n",
    "b = int(input(\"Enter b = \"))\n",
    "h = int(input(\"Enter h = \"))\n",
    "\n",
    "obj = Cal(l,b,h)\n",
    "obj.volume()\n",
    "obj.area()"
   ]
  },
  {
   "cell_type": "code",
   "execution_count": 20,
   "id": "a79f0643",
   "metadata": {},
   "outputs": [
    {
     "name": "stdout",
     "output_type": "stream",
     "text": [
      "Enter l = 5\n",
      "Enter b = 5\n",
      "Enter h = 7\n",
      "175\n",
      "25\n"
     ]
    }
   ],
   "source": [
    "class Volume:\n",
    "    \n",
    "    def __init__(self,l,b,h):   # self is a reference to the current constructer \n",
    "        self.x = l\n",
    "        self.y = b\n",
    "        self.z = h\n",
    "    \n",
    "    def volume(self):\n",
    "        v = self.x * self.y * self.z\n",
    "        print(v)\n",
    "        \n",
    "class Area:\n",
    "    \n",
    "    def __init__(self,l,b):   # self is a reference to the current constructer \n",
    "        self.x = l\n",
    "        self.y = b\n",
    "    def area(self):\n",
    "        a = self.x * self.y\n",
    "        print(a)\n",
    "        \n",
    "l = int(input(\"Enter l = \"))\n",
    "b = int(input(\"Enter b = \"))\n",
    "h = int(input(\"Enter h = \"))\n",
    "\n",
    "obj = Volume(l,b,h)\n",
    "obj.volume()\n",
    "obj1 = Area(l,b)\n",
    "obj1.area()"
   ]
  },
  {
   "cell_type": "code",
   "execution_count": null,
   "id": "57c56285",
   "metadata": {},
   "outputs": [],
   "source": []
  },
  {
   "cell_type": "code",
   "execution_count": null,
   "id": "0ff4da26",
   "metadata": {},
   "outputs": [],
   "source": []
  },
  {
   "cell_type": "code",
   "execution_count": null,
   "id": "73796b18",
   "metadata": {},
   "outputs": [],
   "source": []
  },
  {
   "cell_type": "code",
   "execution_count": null,
   "id": "281da518",
   "metadata": {},
   "outputs": [],
   "source": []
  },
  {
   "cell_type": "code",
   "execution_count": null,
   "id": "51d27e79",
   "metadata": {},
   "outputs": [],
   "source": []
  },
  {
   "cell_type": "code",
   "execution_count": null,
   "id": "a8ff9ff3",
   "metadata": {},
   "outputs": [],
   "source": []
  },
  {
   "cell_type": "code",
   "execution_count": null,
   "id": "a9e75a20",
   "metadata": {},
   "outputs": [],
   "source": []
  },
  {
   "cell_type": "code",
   "execution_count": null,
   "id": "707587a4",
   "metadata": {},
   "outputs": [],
   "source": []
  }
 ],
 "metadata": {
  "kernelspec": {
   "display_name": "Python 3 (ipykernel)",
   "language": "python",
   "name": "python3"
  },
  "language_info": {
   "codemirror_mode": {
    "name": "ipython",
    "version": 3
   },
   "file_extension": ".py",
   "mimetype": "text/x-python",
   "name": "python",
   "nbconvert_exporter": "python",
   "pygments_lexer": "ipython3",
   "version": "3.10.9"
  }
 },
 "nbformat": 4,
 "nbformat_minor": 5
}
