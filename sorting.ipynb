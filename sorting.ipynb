{
 "cells": [
  {
   "cell_type": "code",
   "execution_count": 1,
   "id": "6a91afc5",
   "metadata": {},
   "outputs": [],
   "source": [
    "# python collection\n",
    "# (list)\n",
    "# (tuple)\n",
    "# (dict)\n",
    "# (set)"
   ]
  },
  {
   "cell_type": "code",
   "execution_count": 2,
   "id": "a7d9e634",
   "metadata": {},
   "outputs": [],
   "source": [
    "# list \n",
    "# indexing\n",
    "# multiple data\n",
    "# duplicate\n",
    "# mutable"
   ]
  },
  {
   "cell_type": "code",
   "execution_count": 5,
   "id": "5359bcd4",
   "metadata": {},
   "outputs": [],
   "source": [
    "l = []\n",
    "l = list()"
   ]
  },
  {
   "cell_type": "code",
   "execution_count": 7,
   "id": "4d06b377",
   "metadata": {},
   "outputs": [
    {
     "name": "stdout",
     "output_type": "stream",
     "text": [
      "<class 'list'>\n",
      "[1, 2, 3, 4, 5, 6, 7, 8, 9]\n"
     ]
    }
   ],
   "source": [
    "a = [1,2,3,4,5,6,7,8,9]\n",
    "print(type(a))\n",
    "print(a)\n"
   ]
  },
  {
   "cell_type": "code",
   "execution_count": 1,
   "id": "dd968e4a",
   "metadata": {},
   "outputs": [
    {
     "name": "stdout",
     "output_type": "stream",
     "text": [
      "Cat\n",
      "['Apple', 'BAll', 'Cat', 'Asdj']\n",
      "['Apple', 'Asdj']\n"
     ]
    }
   ],
   "source": [
    "# indexing\n",
    "\n",
    "a = [\"Apple\", \"BAll\", \"Cat\", \"Asdj\"]\n",
    "print(a[2])\n",
    "print(a[0:4])\n",
    "print(a[0:4:3])"
   ]
  },
  {
   "cell_type": "code",
   "execution_count": 18,
   "id": "01ffa4c5",
   "metadata": {},
   "outputs": [
    {
     "data": {
      "text/plain": [
       "['Asd', 'Ssd', 'Dasab', 'Ksdn', 'Asd']"
      ]
     },
     "execution_count": 18,
     "metadata": {},
     "output_type": "execute_result"
    }
   ],
   "source": [
    "# multiple Data\n",
    "\n",
    "a = [\"Asd\", \"Ssd\", \"Dasab\", \"Ksdn\", \"Asd\"] # multiple data \"Asd\" has been printed twice\n",
    "a"
   ]
  },
  {
   "cell_type": "code",
   "execution_count": 20,
   "id": "5b32e88b",
   "metadata": {},
   "outputs": [
    {
     "name": "stdout",
     "output_type": "stream",
     "text": [
      "[1, 2, 3, 2]\n"
     ]
    }
   ],
   "source": [
    "a = [1,2,3]\n",
    "b = [2]\n",
    "c = a + b    # concatenation # in order to add both must be list\n",
    "print(c)"
   ]
  },
  {
   "cell_type": "code",
   "execution_count": 22,
   "id": "76b8339b",
   "metadata": {},
   "outputs": [
    {
     "name": "stdout",
     "output_type": "stream",
     "text": [
      "[1, 2, 3, 1, 2, 3]\n"
     ]
    }
   ],
   "source": [
    "a = [1,2,3]\n",
    "b = 2\n",
    "c = a * b   # in order to multiply, one must be list and the other must be an integer\n",
    "print(c)"
   ]
  },
  {
   "cell_type": "code",
   "execution_count": 27,
   "id": "cf2a8c5a",
   "metadata": {},
   "outputs": [
    {
     "name": "stdout",
     "output_type": "stream",
     "text": [
      "Enter n = 4\n",
      "Enter x = 2\n",
      "Enter x = 3\n",
      "Enter x = 5\n",
      "Enter x = 3\n",
      "[2, 3, 5, 3]\n"
     ]
    }
   ],
   "source": [
    "# ask value from user\n",
    "\n",
    "l =[]\n",
    "n = int(input(\"Enter n = \"))\n",
    "for i in range(n):\n",
    "    x = int(input(\"Enter x = \"))\n",
    "    l = l + [x]\n",
    "print(l)"
   ]
  },
  {
   "cell_type": "code",
   "execution_count": 31,
   "id": "6b2818f6",
   "metadata": {},
   "outputs": [
    {
     "name": "stdout",
     "output_type": "stream",
     "text": [
      "Max value =  677\n",
      "Min value =  234\n",
      "Sum =  1488\n"
     ]
    }
   ],
   "source": [
    "l = [234, 234, 677, 343]\n",
    "print(\"Max value = \", max(l))   # prints max value\n",
    "print(\"Min value = \", min(l))   # prints min value\n",
    "print(\"Sum = \", sum(l))         # prints the sum"
   ]
  },
  {
   "cell_type": "code",
   "execution_count": 35,
   "id": "ecf0edbe",
   "metadata": {},
   "outputs": [
    {
     "name": "stdout",
     "output_type": "stream",
     "text": [
      "[234, 234, 343, 677]\n"
     ]
    }
   ],
   "source": [
    "# mutable\n",
    "l.sort()\n",
    "print(l)       # prints in ascending order"
   ]
  },
  {
   "cell_type": "code",
   "execution_count": 33,
   "id": "03b2e7ec",
   "metadata": {},
   "outputs": [
    {
     "name": "stdout",
     "output_type": "stream",
     "text": [
      "[677, 343, 234, 234]\n"
     ]
    }
   ],
   "source": [
    "l.reverse()\n",
    "print(l)       # prints in descending order/from the greatest to smallest"
   ]
  },
  {
   "cell_type": "code",
   "execution_count": null,
   "id": "394ab77a",
   "metadata": {},
   "outputs": [],
   "source": [
    "# add values\n",
    "# append() insert() extend()\n",
    "# delete values\n",
    "# del remove() pop()"
   ]
  },
  {
   "cell_type": "code",
   "execution_count": 37,
   "id": "0a4ba8da",
   "metadata": {},
   "outputs": [
    {
     "name": "stdout",
     "output_type": "stream",
     "text": [
      "Apple\n",
      "Ball\n",
      "Cat\n",
      "Dog\n",
      "Bird\n"
     ]
    }
   ],
   "source": [
    "a = [\"Apple\", \"Ball\", \"Cat\", \"Dog\", \"Bird\"]\n",
    "for i in a:\n",
    "    print(i)"
   ]
  },
  {
   "cell_type": "code",
   "execution_count": 38,
   "id": "0b3f29b5",
   "metadata": {},
   "outputs": [
    {
     "name": "stdout",
     "output_type": "stream",
     "text": [
      "Apple\n",
      "Ball\n",
      "Cat\n",
      "Dog\n",
      "Bird\n"
     ]
    }
   ],
   "source": [
    "for i in range(len(a)):\n",
    "    print(a[i])"
   ]
  },
  {
   "cell_type": "code",
   "execution_count": 40,
   "id": "b17227c8",
   "metadata": {},
   "outputs": [
    {
     "name": "stdout",
     "output_type": "stream",
     "text": [
      "Yes\n"
     ]
    }
   ],
   "source": [
    "a = [\"Ram\", \"Sam\", \"Hari\", \"Gita\", \"Ramesh\"]\n",
    "if \"Ram\" in a:\n",
    "    print(\"Yes\")\n",
    "else:\n",
    "    print(\"No\")"
   ]
  },
  {
   "cell_type": "code",
   "execution_count": 43,
   "id": "a08d42b8",
   "metadata": {},
   "outputs": [
    {
     "name": "stdout",
     "output_type": "stream",
     "text": [
      "Yes\n",
      "1\n"
     ]
    }
   ],
   "source": [
    "a = [\"Ram\", \"Sam\", \"Hari\", \"Gita\", \"Ramesh\"]\n",
    "if \"Ram\" in a:\n",
    "    print(\"Yes\")\n",
    "    print(a.count(\"Ram\"))\n",
    "else:\n",
    "    print(\"No\")"
   ]
  },
  {
   "cell_type": "code",
   "execution_count": null,
   "id": "d91c13c4",
   "metadata": {},
   "outputs": [],
   "source": [
    "# Write to search any value in list have case insensative. (assignment)"
   ]
  },
  {
   "cell_type": "code",
   "execution_count": 45,
   "id": "f2d8eb06",
   "metadata": {},
   "outputs": [
    {
     "data": {
      "text/plain": [
       "[1, 2, 3, 4, 'Apple', 'Ball']"
      ]
     },
     "execution_count": 45,
     "metadata": {},
     "output_type": "execute_result"
    }
   ],
   "source": [
    "# append()            It keeps on adding the values at the last\n",
    "a = [1,2,3,4]\n",
    "a.append(\"Apple\")\n",
    "a.append(\"Ball\")\n",
    "a"
   ]
  },
  {
   "cell_type": "code",
   "execution_count": 49,
   "id": "5ddb4e90",
   "metadata": {},
   "outputs": [
    {
     "data": {
      "text/plain": [
       "['Apple', 'Ball', 'Cat', 'Fish', 'Dog', 'Bird']"
      ]
     },
     "execution_count": 49,
     "metadata": {},
     "output_type": "execute_result"
    }
   ],
   "source": [
    "# insert()\n",
    "a = ['Apple','Ball','Cat','Dog','Bird']\n",
    "a.insert(3,'Fish')     # we can insert the value in whichever index we want through insert() function\n",
    "a"
   ]
  },
  {
   "cell_type": "code",
   "execution_count": 51,
   "id": "df001fa7",
   "metadata": {},
   "outputs": [
    {
     "data": {
      "text/plain": [
       "['Apple', 'Ball', 'Cat', 'Dog', 'Bird', 1, 2, 3, 4]"
      ]
     },
     "execution_count": 51,
     "metadata": {},
     "output_type": "execute_result"
    }
   ],
   "source": [
    "# extend()\n",
    "a = ['Apple','Ball','Cat','Dog','Bird']\n",
    "b = [1,2,3,4]\n",
    "a.extend(b)                                 # adding the value to index of a\n",
    "a"
   ]
  },
  {
   "cell_type": "code",
   "execution_count": 53,
   "id": "09e56efc",
   "metadata": {},
   "outputs": [
    {
     "data": {
      "text/plain": [
       "['Ant', 'Ball', 'Cat', 'Dog', 'Bird']"
      ]
     },
     "execution_count": 53,
     "metadata": {},
     "output_type": "execute_result"
    }
   ],
   "source": [
    "# update()\n",
    "a = ['Apple','Ball','Cat','Dog','Bird']\n",
    "a[0] = \"Ant\"                              # changes the index 0 value \"apple\" to \"ant\"\n",
    "a"
   ]
  },
  {
   "cell_type": "code",
   "execution_count": 56,
   "id": "3ee2e6f7",
   "metadata": {},
   "outputs": [
    {
     "data": {
      "text/plain": [
       "['Ant', 'Fish', 'Monkey', 'Dog', 'Bird']"
      ]
     },
     "execution_count": 56,
     "metadata": {},
     "output_type": "execute_result"
    }
   ],
   "source": [
    "a = ['Apple','Ball','Cat','Dog','Bird']\n",
    "a[0:3] = [\"Ant\",\"Fish\",\"Monkey\"]          # changes the index 0 to 3 value i.e \"apple\", \"Ball\",\"Cat\" to \"Ant\",\"Fish\",\"Monkey\"\n",
    "a"
   ]
  },
  {
   "cell_type": "code",
   "execution_count": null,
   "id": "e861eb6d",
   "metadata": {},
   "outputs": [],
   "source": [
    "# delete\n",
    "# del remove() pop()"
   ]
  },
  {
   "cell_type": "code",
   "execution_count": 3,
   "id": "8b0200ae",
   "metadata": {},
   "outputs": [
    {
     "name": "stdout",
     "output_type": "stream",
     "text": [
      "['Ball', 'Dog', 'Cat', 'Bird']\n"
     ]
    }
   ],
   "source": [
    "a = ['Apple','Ball','Dog','Cat','Bird']\n",
    "del a[0]\n",
    "print(a)"
   ]
  },
  {
   "cell_type": "code",
   "execution_count": 4,
   "id": "77179a1e",
   "metadata": {},
   "outputs": [
    {
     "name": "stdout",
     "output_type": "stream",
     "text": [
      "['Cat', 'Bird']\n"
     ]
    }
   ],
   "source": [
    "a = ['Apple','Ball','Dog','Cat','Bird']\n",
    "del a[0:3]\n",
    "print(a)"
   ]
  },
  {
   "cell_type": "code",
   "execution_count": 5,
   "id": "4d84ac33",
   "metadata": {},
   "outputs": [
    {
     "name": "stdout",
     "output_type": "stream",
     "text": [
      "['Ball', 'Dog', 'Cat', 'Bird']\n"
     ]
    }
   ],
   "source": [
    "# remove\n",
    "\n",
    "a = ['Apple','Ball','Dog','Cat','Bird']\n",
    "a.remove('Apple')\n",
    "print(a)"
   ]
  },
  {
   "cell_type": "code",
   "execution_count": 6,
   "id": "b0c5ee30",
   "metadata": {},
   "outputs": [
    {
     "name": "stdout",
     "output_type": "stream",
     "text": [
      "['Ball', 'Dog', 'Cat', 'Bird', 'Apple']\n"
     ]
    }
   ],
   "source": [
    "# remove\n",
    "\n",
    "a = ['Apple','Ball','Dog','Cat','Bird','Apple']\n",
    "a.remove('Apple')\n",
    "print(a)"
   ]
  },
  {
   "cell_type": "code",
   "execution_count": 9,
   "id": "f51f07ce",
   "metadata": {},
   "outputs": [
    {
     "name": "stdout",
     "output_type": "stream",
     "text": [
      "['Ball', 'Dog', 'Cat', 'Bird']\n"
     ]
    }
   ],
   "source": [
    "\n",
    "a = ['Apple','Ball','Dog','Cat','Bird','Apple']\n",
    "c = a.count('Apple')\n",
    "\n",
    "for i in range(c):\n",
    "    a.remove('Apple')\n",
    "print(a)"
   ]
  },
  {
   "cell_type": "code",
   "execution_count": 4,
   "id": "47316a25",
   "metadata": {},
   "outputs": [
    {
     "name": "stdout",
     "output_type": "stream",
     "text": [
      "['Ball', 'Dog', 'Cat', 'Bird', 'Apple']\n",
      "Apple\n"
     ]
    }
   ],
   "source": [
    "# pop\n",
    "\n",
    "a = ['Apple','Ball','Dog','Cat','Bird','Apple']\n",
    "b = a.pop(0)                  # pop takes away value of 0 index and keeps it in variable b\n",
    "print(a)                      # apple in 0 index is removed\n",
    "print(b)                      # now here apple is displayed"
   ]
  },
  {
   "cell_type": "code",
   "execution_count": 12,
   "id": "89239bb1",
   "metadata": {},
   "outputs": [
    {
     "data": {
      "text/plain": [
       "[[1, 2, 3], [4, 5, 6], [7, 8, 9]]"
      ]
     },
     "execution_count": 12,
     "metadata": {},
     "output_type": "execute_result"
    }
   ],
   "source": [
    "# list inside list\n",
    "\n",
    "a = [[1,2,3],\n",
    "    [4,5,6],\n",
    "    [7,8,9]]\n",
    "a"
   ]
  },
  {
   "cell_type": "code",
   "execution_count": 13,
   "id": "8a0570da",
   "metadata": {},
   "outputs": [
    {
     "name": "stdout",
     "output_type": "stream",
     "text": [
      "[1, 2, 3]\n",
      "6\n"
     ]
    }
   ],
   "source": [
    "print(a[0])\n",
    "print(a[1][2])"
   ]
  },
  {
   "cell_type": "code",
   "execution_count": 8,
   "id": "e8e696b4",
   "metadata": {},
   "outputs": [
    {
     "data": {
      "text/plain": [
       "[['Ram', 34, 'Kathmandu'], ['Sam', 22, 'Pokhara'], ['Hari', 33, 'Kathmandu']]"
      ]
     },
     "execution_count": 8,
     "metadata": {},
     "output_type": "execute_result"
    }
   ],
   "source": [
    "a = [['Ram',34,'Kathmandu'],\n",
    "    ['Sam',22,'Pokhara'],\n",
    "    ['Hari',33,'Kathmandu']]\n",
    "a"
   ]
  },
  {
   "cell_type": "code",
   "execution_count": 14,
   "id": "a5fd6738",
   "metadata": {},
   "outputs": [
    {
     "name": "stdout",
     "output_type": "stream",
     "text": [
      "Enter n = 2\n",
      "Enter name = Sam\n",
      "Enter age = 33\n",
      "Enter address = Ktm\n",
      "Enter name = Ram\n",
      "Enter age = 4\n",
      "Enter address = Pkr\n",
      "[['Sam', '33', 'Ktm'], ['Ram', '4', 'Pkr']]\n"
     ]
    }
   ],
   "source": [
    "a =[]\n",
    "n = int(input(\"Enter n = \"))\n",
    "for i in range(n):\n",
    "    name = input(\"Enter name = \")\n",
    "    age = input(\"Enter age = \")\n",
    "    address = input(\"Enter address = \")\n",
    "    info = [name,age,address]\n",
    "    a.append(info)\n",
    "print(a)"
   ]
  },
  {
   "cell_type": "code",
   "execution_count": 38,
   "id": "dc79d1cb",
   "metadata": {},
   "outputs": [],
   "source": [
    "# search \n",
    "\n",
    "a = [['Sam', 33, 'Ktm'],\n",
    "    ['Ram', 4, 'Pkr'],\n",
    "    ['Hari', 22, 'Pkr'],\n",
    "    ['Sam', 5, 'Ktm']]"
   ]
  },
  {
   "cell_type": "code",
   "execution_count": 47,
   "id": "3880d4e8",
   "metadata": {},
   "outputs": [
    {
     "name": "stdout",
     "output_type": "stream",
     "text": [
      "Enter name = sam\n",
      "['Sam', 33, 'Ktm']\n",
      "['Sam', 5, 'Ktm']\n"
     ]
    }
   ],
   "source": [
    "# search\n",
    "a = [['Sam', 33, 'Ktm'],\n",
    "    ['Ram', 4, 'Pkr'],\n",
    "    ['Hari', 22, 'Pkr'],\n",
    "    ['Sam', 5, 'Ktm']]\n",
    "name = input(\"Enter name = \").lower()   # example of department asking customers phone number to see his/her purchase records\n",
    "for i in a:\n",
    "    if i[0].lower() == name.lower():\n",
    "        print(i)\n",
    "    \n",
    "    "
   ]
  },
  {
   "cell_type": "code",
   "execution_count": 45,
   "id": "270f1d98",
   "metadata": {},
   "outputs": [
    {
     "data": {
      "text/plain": [
       "[['Sam', 33, 'Ktm'],\n",
       " ['Ram', 4, 'Pkr'],\n",
       " ['Hari', 22, 'Pkr'],\n",
       " ['Sam', 5, 'Ktm'],\n",
       " ['Sita', 32, 'Pkr'],\n",
       " ['Sita', 32, 'Pkr']]"
      ]
     },
     "execution_count": 45,
     "metadata": {},
     "output_type": "execute_result"
    }
   ],
   "source": [
    "a.append(['Sita',32,'Pkr'])\n",
    "a"
   ]
  },
  {
   "cell_type": "code",
   "execution_count": 43,
   "id": "0d143cb3",
   "metadata": {},
   "outputs": [
    {
     "name": "stdout",
     "output_type": "stream",
     "text": [
      "Enter name = Sam\n",
      "['Sam', 33, 'Ktm']\n",
      "['Sam', 5, 'Ktm']\n"
     ]
    }
   ],
   "source": [
    "name = input(\"Enter name = \")\n",
    "for i in a:\n",
    "    if name in i:\n",
    "        print(i)\n",
    "    "
   ]
  },
  {
   "cell_type": "code",
   "execution_count": 54,
   "id": "628ee1e3",
   "metadata": {},
   "outputs": [
    {
     "name": "stdout",
     "output_type": "stream",
     "text": [
      "Enter name = sam\n",
      "['Sam', 33, 'Ktm']\n",
      "['Sam', 5, 'Ktm']\n",
      "There is 2 records\n"
     ]
    }
   ],
   "source": [
    "# search\n",
    "\n",
    "c = 0\n",
    "a = [['Sam', 33, 'Ktm'],\n",
    "    ['Ram', 4, 'Pkr'],\n",
    "    ['Hari', 22, 'Pkr'],\n",
    "    ['Sam', 5, 'Ktm']]\n",
    "name = input(\"Enter name = \").lower()   # example of department asking customers phone number to see his/her purchase records\n",
    "for i in a:\n",
    "    if i[0].lower() == name.lower():\n",
    "        print(i)\n",
    "        c = c + 1\n",
    "print(f\"There is {c} records\")\n",
    "    "
   ]
  },
  {
   "cell_type": "code",
   "execution_count": 1,
   "id": "90264332",
   "metadata": {},
   "outputs": [
    {
     "name": "stdout",
     "output_type": "stream",
     "text": [
      "Enter name = sam\n",
      "['Sam', 33, 'Ktm']\n",
      "['Sam', 5, 'Ktm']\n",
      "There is 2 records\n"
     ]
    }
   ],
   "source": [
    "# update\n",
    "\n",
    "c = 0\n",
    "a = [['Sam', 33, 'Ktm'],\n",
    "    ['Ram', 4, 'Pkr'],\n",
    "    ['Hari', 22, 'Pkr'],\n",
    "    ['Sam', 5, 'Ktm']]\n",
    "name = input(\"Enter name = \").lower()   # example of department asking customers phone number to see his/her purchase records\n",
    "for i in a:\n",
    "    if i[0].lower() == name.lower():\n",
    "        print(i)\n",
    "        c = c + 1\n",
    "print(f\"There is {c} records\")"
   ]
  },
  {
   "cell_type": "code",
   "execution_count": 57,
   "id": "32c17e60",
   "metadata": {},
   "outputs": [
    {
     "data": {
      "text/plain": [
       "[['Ram Prasad', 33, 'Ktm'],\n",
       " ['Ram', 4, 'Pkr'],\n",
       " ['Hari', 22, 'Pkr'],\n",
       " ['Sam', 5, 'Ktm']]"
      ]
     },
     "execution_count": 57,
     "metadata": {},
     "output_type": "execute_result"
    }
   ],
   "source": [
    "# update\n",
    "\n",
    "a = [['Sam', 33, 'Ktm'],\n",
    "    ['Ram', 4, 'Pkr'],\n",
    "    ['Hari', 22, 'Pkr'],\n",
    "    ['Sam', 5, 'Ktm']]\n",
    "a[0][0] = \"Ram Prasad\"           # row 0 and column 0 (Sam) is changed\n",
    "a"
   ]
  },
  {
   "cell_type": "code",
   "execution_count": 58,
   "id": "032f0d80",
   "metadata": {},
   "outputs": [
    {
     "data": {
      "text/plain": [
       "[[33, 'Ktm'], ['Ram', 4, 'Pkr'], ['Hari', 22, 'Pkr'], ['Sam', 5, 'Ktm']]"
      ]
     },
     "execution_count": 58,
     "metadata": {},
     "output_type": "execute_result"
    }
   ],
   "source": [
    "# delete\n",
    "\n",
    "a = [['Sam', 33, 'Ktm'],\n",
    "    ['Ram', 4, 'Pkr'],\n",
    "    ['Hari', 22, 'Pkr'],\n",
    "    ['Sam', 5, 'Ktm']]\n",
    "del a[0][0]            # row 0 and column 0 (Sam) is deleted\n",
    "a"
   ]
  },
  {
   "cell_type": "code",
   "execution_count": null,
   "id": "46b2d762",
   "metadata": {},
   "outputs": [],
   "source": []
  },
  {
   "cell_type": "code",
   "execution_count": null,
   "id": "370762db",
   "metadata": {},
   "outputs": [],
   "source": []
  },
  {
   "cell_type": "code",
   "execution_count": null,
   "id": "525f623d",
   "metadata": {},
   "outputs": [],
   "source": []
  }
 ],
 "metadata": {
  "kernelspec": {
   "display_name": "Python 3 (ipykernel)",
   "language": "python",
   "name": "python3"
  },
  "language_info": {
   "codemirror_mode": {
    "name": "ipython",
    "version": 3
   },
   "file_extension": ".py",
   "mimetype": "text/x-python",
   "name": "python",
   "nbconvert_exporter": "python",
   "pygments_lexer": "ipython3",
   "version": "3.10.9"
  }
 },
 "nbformat": 4,
 "nbformat_minor": 5
}
