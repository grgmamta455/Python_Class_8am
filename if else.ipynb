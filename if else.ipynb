{
 "cells": [
  {
   "cell_type": "code",
   "execution_count": 8,
   "id": "a934c4e7",
   "metadata": {},
   "outputs": [
    {
     "name": "stdout",
     "output_type": "stream",
     "text": [
      "Enter marks obtained from a = 22\n",
      "Enter marks obtained from chemistry = 34\n",
      "Enter marks obtained from biology = 45\n",
      "Enter marks obtained from maths = 56\n",
      "Enter marks obtained from english = 56\n",
      "Failed\n"
     ]
    }
   ],
   "source": [
    "physics = int(input(\"Enter marks obtained from a = \"))\n",
    "chemistry = int(input(\"Enter marks obtained from chemistry = \"))\n",
    "biology = int(input(\"Enter marks obtained from biology = \"))\n",
    "maths = int(input(\"Enter marks obtained from maths = \"))\n",
    "english = int(input(\"Enter marks obtained from english = \"))\n",
    "\n",
    "total = physics + chemistry + biology + maths + english\n",
    "per = total/5\n",
    "\n",
    "if physics>=32 and chemistry>=32 and biology>=32 and maths>=32 and english>=32:\n",
    "\n",
    "    if per>=80:\n",
    "        grade = \"A\"\n",
    "    elif per>=60:\n",
    "        grade = \"B\"\n",
    "    elif per>=45:\n",
    "        grade = \"C\"\n",
    "    elif per>=32:\n",
    "        grade = \"D\"\n",
    "    else:\n",
    "        grade=\"F\"\n",
    "\n",
    "    \n",
    "    print(\"Total \", total)\n",
    "    print(\"Percentage \", per)\n",
    "    print(\"Grade \", grade)\n",
    "\n",
    "else:\n",
    "    print(\"Failed\")"
   ]
  },
  {
   "cell_type": "code",
   "execution_count": null,
   "id": "8dc6a0d8",
   "metadata": {},
   "outputs": [],
   "source": []
  }
 ],
 "metadata": {
  "kernelspec": {
   "display_name": "Python 3 (ipykernel)",
   "language": "python",
   "name": "python3"
  },
  "language_info": {
   "codemirror_mode": {
    "name": "ipython",
    "version": 3
   },
   "file_extension": ".py",
   "mimetype": "text/x-python",
   "name": "python",
   "nbconvert_exporter": "python",
   "pygments_lexer": "ipython3",
   "version": "3.10.9"
  }
 },
 "nbformat": 4,
 "nbformat_minor": 5
}
